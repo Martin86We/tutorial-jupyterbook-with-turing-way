{
 "cells": [
  {
   "cell_type": "markdown",
   "metadata": {},
   "source": [
    "# Creating a Jupyter Book with The Turing Way\n",
    "\n",
    "**Module 4: Learning Objective:** \n",
    "  - Book configuration, layout and personalisation\n",
    "   <!---config file--->\n",
    "    \n",
    "📹 [VIDEO](TBA)\n",
    "---"
   ]
  },
  {
   "cell_type": "markdown",
   "metadata": {},
   "source": [
    "## Configuring your book"
   ]
  },
  {
   "cell_type": "markdown",
   "metadata": {},
   "source": [
    "So far we have created a Jupyter Book that looks very basic. It doesn't even have a logo or a title!\n",
    "\n",
    "As you probably have guessed, we are using the [default configuration](https://jupyterbook.org/customize/config.html#configuration-defaults) of Jupyter Book. To adapt it to our needs, we need to create a `_config.yml` file and populate it with our desired parameters."
   ]
  },
  {
   "cell_type": "markdown",
   "metadata": {},
   "source": [
    "We will start by defining the title and logo of our Jupyter Book, wich will appear in the left navigation bar. We will also define relevant information that will appear on the footer of the main page:"
   ]
  },
  {
   "cell_type": "code",
   "execution_count": 20,
   "metadata": {},
   "outputs": [],
   "source": [
    "from ruamel.yaml import YAML\n",
    "\n",
    "config_documents = \"\"  # make sure we start the document from scratch\n",
    "config_document = \"\"\"\n",
    "title                       : The Turing Way  # The title of the book\n",
    "author                      : The Turing Way Community  # The author of the book to be placed in the footer\n",
    "copyright                   : \"2020\"  # Copyright year to be placed in the footer\n",
    "logo                        : \"./figures/logo.png\"  # A path to the book logo\n",
    "\n",
    "\"\"\"\n",
    "\n",
    "# Save our _config.yml in the book path\n",
    "yaml = YAML()\n",
    "config_file = open('../book/_config.yml', 'w')\n",
    "yaml.dump(yaml.load(config_document), config_file)"
   ]
  },
  {
   "cell_type": "markdown",
   "metadata": {},
   "source": [
    "Let's build our book again to see the changes:"
   ]
  },
  {
   "cell_type": "code",
   "execution_count": 8,
   "metadata": {},
   "outputs": [
    {
     "name": "stdout",
     "output_type": "stream",
     "text": [
      "\u001b[32m\u001b[1mRunning Jupyter-Book v0.8.0\u001b[0m\n",
      "\u001b[34m\u001b[1mSource Folder: \u001b[0m/Users/martina.gonzales/Projects/talks/jupytercon_tutorial/notebooks/../book\n",
      "\u001b[34m\u001b[1mConfig Path: \u001b[0m/Users/martina.gonzales/Projects/talks/jupytercon_tutorial/notebooks/../book/_config.yml\n",
      "\u001b[34m\u001b[1mOutput Path: \u001b[0m/Users/martina.gonzales/Projects/talks/jupytercon_tutorial/notebooks/../book/_build/html\n",
      "\u001b[01mRunning Sphinx v3.2.1\u001b[39;49;00m\n",
      "\u001b[01mloading pickled environment... \u001b[39;49;00mdone\n",
      "\u001b[01mmyst v0.12.9:\u001b[39;49;00m MdParserConfig(renderer='sphinx', commonmark_only=False, dmath_enable=True, dmath_allow_labels=True, dmath_allow_space=True, dmath_allow_digits=True, amsmath_enable=False, deflist_enable=False, update_mathjax=True, admonition_enable=False, figure_enable=False, disable_syntax=[], html_img_enable=False, url_schemes=['mailto', 'http', 'https'], heading_anchors=None)\n",
      "\u001b[01mbuilding [mo]: \u001b[39;49;00mtargets for 0 po files that are out of date\n",
      "\u001b[01mbuilding [html]: \u001b[39;49;00mtargets for 13 source files that are out of date\n",
      "\u001b[01mupdating environment: \u001b[39;49;00m[config changed ('author')] 13 added, 0 changed, 0 removed\n",
      "\u001b[01mchecking for /Users/martina.gonzales/Projects/talks/jupytercon_tutorial/book/references.bib in bibtex cache... \u001b[39;49;00mup to date\n",
      "\u001b[01mchecking for /Users/martina.gonzales/Projects/talks/jupytercon_tutorial/book/references.bib in bibtex cache... \u001b[39;49;00mup to date\n",
      "\u001b[01mchecking for /Users/martina.gonzales/Projects/talks/jupytercon_tutorial/book/references.bib in bibtex cache... \u001b[39;49;00mup to date\n",
      "\u001b[01mreading sources... \u001b[39;49;00m[100%] \u001b[35mwelcome\u001b[39;49;00m                                               \n",
      "\u001b[01mlooking for now-outdated files... \u001b[39;49;00mnone found\n",
      "\u001b[01mpickling environment... \u001b[39;49;00mdone\n",
      "\u001b[01mchecking consistency... \u001b[39;49;00mdone\n",
      "\u001b[01mpreparing documents... \u001b[39;49;00mdone\n",
      "\u001b[01mwriting output... \u001b[39;49;00m[100%] \u001b[32mwelcome\u001b[39;49;00m                                                \n",
      "\u001b[01mgenerating indices... \u001b[39;49;00m genindexdone\n",
      "\u001b[01mwriting additional pages... \u001b[39;49;00m searchdone\n",
      "\u001b[01mcopying images... \u001b[39;49;00m[100%] \u001b[33m./figures/welcome.jpg\u001b[39;49;00m                                  \n",
      "\u001b[01mcopying static files... ... \u001b[39;49;00mdone\n",
      "\u001b[01mcopying extra files... \u001b[39;49;00mdone\n",
      "\u001b[01mdumping search index in English (code: en)... \u001b[39;49;00mdone\n",
      "\u001b[01mdumping object inventory... \u001b[39;49;00mdone\n",
      "\u001b[01mbuild succeeded.\u001b[39;49;00m\n",
      "\n",
      "The HTML pages are in ../book/_build/html.\n",
      "\n",
      "\u001b[92m===============================================================================\u001b[0m\n",
      "\n",
      "Finished generating HTML for book.\n",
      "Your book's HTML pages are here:\n",
      "    ../book/_build/html/\n",
      "You can look at your book by opening this file in a browser:\n",
      "    ../book/_build/html/index.html\n",
      "Or paste this line directly into your browser bar:\n",
      "    file:///Users/martina.gonzales/Projects/talks/jupytercon_tutorial/book/_build/html/index.html            \n",
      "\n",
      "\u001b[92m===============================================================================\u001b[0m\n",
      "\n"
     ]
    }
   ],
   "source": [
    "!jupyter-book build ../book/"
   ]
  },
  {
   "cell_type": "markdown",
   "metadata": {},
   "source": [
    "#### EXERCISE\n",
    "\n",
    "Try changing the author of the book and its logo."
   ]
  },
  {
   "cell_type": "markdown",
   "metadata": {},
   "source": [
    "## Further display settings"
   ]
  },
  {
   "cell_type": "markdown",
   "metadata": {},
   "source": [
    "There are other parameters of the \"looks\" of our Jupyter Book that we can further change. Let's add a [favicon](https://en.wikipedia.org/wiki/Favicon) to our book, and add some additional text to the footer in the navigation bar: "
   ]
  },
  {
   "cell_type": "code",
   "execution_count": 21,
   "metadata": {},
   "outputs": [],
   "source": [
    "config_document = config_document + \"\"\"\n",
    "html:\n",
    "  favicon                   : \"./figures/favicon-32x32.png\"  # A path to a favicon image\n",
    "  navbar_footer_text        :\n",
    "    'Visit our <a href=\"https://github.com/alan-turing-institute/the-turing-way\">GitHub Repository</a>\n",
    "    <div>\n",
    "    This book is powered by <a href=\"https://jupyterbook.org\">Jupyter Book</a>\n",
    "    </div>'  # Will be displayed underneath the left navigation bar.\n",
    "\n",
    "\"\"\"\n",
    "\n",
    "# Save our _config.yml in the book path\n",
    "yaml = YAML()\n",
    "config_file = open('../book/_config.yml', 'w')\n",
    "yaml.dump(yaml.load(config_document), config_file)"
   ]
  },
  {
   "cell_type": "code",
   "execution_count": 10,
   "metadata": {},
   "outputs": [
    {
     "name": "stdout",
     "output_type": "stream",
     "text": [
      "\u001b[32m\u001b[1mRunning Jupyter-Book v0.8.0\u001b[0m\n",
      "\u001b[34m\u001b[1mSource Folder: \u001b[0m/Users/martina.gonzales/Projects/talks/jupytercon_tutorial/notebooks/../book\n",
      "\u001b[34m\u001b[1mConfig Path: \u001b[0m/Users/martina.gonzales/Projects/talks/jupytercon_tutorial/notebooks/../book/_config.yml\n",
      "\u001b[34m\u001b[1mOutput Path: \u001b[0m/Users/martina.gonzales/Projects/talks/jupytercon_tutorial/notebooks/../book/_build/html\n",
      "\u001b[01mRunning Sphinx v3.2.1\u001b[39;49;00m\n",
      "\u001b[01mloading pickled environment... \u001b[39;49;00mdone\n",
      "\u001b[01mmyst v0.12.9:\u001b[39;49;00m MdParserConfig(renderer='sphinx', commonmark_only=False, dmath_enable=True, dmath_allow_labels=True, dmath_allow_space=True, dmath_allow_digits=True, amsmath_enable=False, deflist_enable=False, update_mathjax=True, admonition_enable=False, figure_enable=False, disable_syntax=[], html_img_enable=False, url_schemes=['mailto', 'http', 'https'], heading_anchors=None)\n",
      "\u001b[01mbuilding [mo]: \u001b[39;49;00mtargets for 0 po files that are out of date\n",
      "\u001b[01mbuilding [html]: \u001b[39;49;00mtargets for 13 source files that are out of date\n",
      "\u001b[01mupdating environment: \u001b[39;49;00m0 added, 0 changed, 0 removed\n",
      "\u001b[01mlooking for now-outdated files... \u001b[39;49;00mnone found\n",
      "\u001b[01mpreparing documents... \u001b[39;49;00mdone\n",
      "\u001b[01mwriting output... \u001b[39;49;00m[100%] \u001b[32mwelcome\u001b[39;49;00m                                                \n",
      "\u001b[01mgenerating indices... \u001b[39;49;00m genindexdone\n",
      "\u001b[01mwriting additional pages... \u001b[39;49;00m searchdone\n",
      "\u001b[01mcopying images... \u001b[39;49;00m[100%] \u001b[33m./figures/welcome.jpg\u001b[39;49;00m                                  \n",
      "\u001b[01mcopying static files... ... \u001b[39;49;00mdone\n",
      "\u001b[01mcopying extra files... \u001b[39;49;00mdone\n",
      "\u001b[01mdumping search index in English (code: en)... \u001b[39;49;00mdone\n",
      "\u001b[01mdumping object inventory... \u001b[39;49;00mdone\n",
      "\u001b[01mbuild succeeded.\u001b[39;49;00m\n",
      "\n",
      "The HTML pages are in ../book/_build/html.\n",
      "\n",
      "\u001b[92m===============================================================================\u001b[0m\n",
      "\n",
      "Finished generating HTML for book.\n",
      "Your book's HTML pages are here:\n",
      "    ../book/_build/html/\n",
      "You can look at your book by opening this file in a browser:\n",
      "    ../book/_build/html/index.html\n",
      "Or paste this line directly into your browser bar:\n",
      "    file:///Users/martina.gonzales/Projects/talks/jupytercon_tutorial/book/_build/html/index.html            \n",
      "\n",
      "\u001b[92m===============================================================================\u001b[0m\n",
      "\n"
     ]
    }
   ],
   "source": [
    "!jupyter-book build ../book/"
   ]
  },
  {
   "cell_type": "markdown",
   "metadata": {},
   "source": [
    "#### EXERCISE\n",
    "\n",
    "We actually don't want to show the `welcome page` in our navigation bar. Read the [official documentation](https://jupyterbook.org/customize/config.html#configuration-defaults) to figure out how to change this parameter, and re-build your book."
   ]
  },
  {
   "cell_type": "markdown",
   "metadata": {},
   "source": [
    "## Linking the contents of Jupyter Book with its github repository"
   ]
  },
  {
   "cell_type": "markdown",
   "metadata": {},
   "source": [
    "If our book is hosted on [GitHub](https://github.com/), we can link our book with our repository using one of the specified buttons at the top of the page. We can even give our readers a direct link to open an issue about some specific content of our Jupyter Book:"
   ]
  },
  {
   "cell_type": "code",
   "execution_count": 22,
   "metadata": {},
   "outputs": [],
   "source": [
    "config_document = config_document + \"\"\"\n",
    "  use_repository_button     : true  # Whether to add a link to your repository button\n",
    "  use_issues_button         : true  # Whether to add an \"open an issue\" button\n",
    "\n",
    "\"\"\"\n",
    "\n",
    "# Save our _config.yml in the book path\n",
    "yaml = YAML()\n",
    "config_file = open('../book/_config.yml', 'w')\n",
    "yaml.dump(yaml.load(config_document), config_file)"
   ]
  },
  {
   "cell_type": "code",
   "execution_count": 16,
   "metadata": {},
   "outputs": [
    {
     "name": "stdout",
     "output_type": "stream",
     "text": [
      "\u001b[32m\u001b[1mRunning Jupyter-Book v0.8.0\u001b[0m\r\n",
      "\u001b[34m\u001b[1mSource Folder: \u001b[0m/Users/martina.gonzales/Projects/talks/jupytercon_tutorial/notebooks/../book\r\n",
      "\u001b[34m\u001b[1mConfig Path: \u001b[0m/Users/martina.gonzales/Projects/talks/jupytercon_tutorial/notebooks/../book/_config.yml\r\n",
      "\u001b[34m\u001b[1mOutput Path: \u001b[0m/Users/martina.gonzales/Projects/talks/jupytercon_tutorial/notebooks/../book/_build/html\r\n",
      "Traceback (most recent call last):\r\n",
      "  File \"/Users/martina.gonzales/anaconda3/envs/jb-tutorial-2/bin/jupyter-book\", line 8, in <module>\r\n",
      "    sys.exit(main())\r\n",
      "  File \"/Users/martina.gonzales/anaconda3/envs/jb-tutorial-2/lib/python3.8/site-packages/click/core.py\", line 829, in __call__\r\n",
      "    return self.main(*args, **kwargs)\r\n",
      "  File \"/Users/martina.gonzales/anaconda3/envs/jb-tutorial-2/lib/python3.8/site-packages/click/core.py\", line 782, in main\r\n",
      "    rv = self.invoke(ctx)\r\n",
      "  File \"/Users/martina.gonzales/anaconda3/envs/jb-tutorial-2/lib/python3.8/site-packages/click/core.py\", line 1259, in invoke\r\n",
      "    return _process_result(sub_ctx.command.invoke(sub_ctx))\r\n",
      "  File \"/Users/martina.gonzales/anaconda3/envs/jb-tutorial-2/lib/python3.8/site-packages/click/core.py\", line 1066, in invoke\r\n",
      "    return ctx.invoke(self.callback, **ctx.params)\r\n",
      "  File \"/Users/martina.gonzales/anaconda3/envs/jb-tutorial-2/lib/python3.8/site-packages/click/core.py\", line 610, in invoke\r\n",
      "    return callback(*args, **kwargs)\r\n",
      "  File \"/Users/martina.gonzales/anaconda3/envs/jb-tutorial-2/lib/python3.8/site-packages/jupyter_book/commands/__init__.py\", line 244, in build\r\n",
      "    result = build_sphinx(\r\n",
      "  File \"/Users/martina.gonzales/anaconda3/envs/jb-tutorial-2/lib/python3.8/site-packages/jupyter_book/sphinx.py\", line 50, in build_sphinx\r\n",
      "    sphinx_config, config_meta = get_final_config(\r\n",
      "  File \"/Users/martina.gonzales/anaconda3/envs/jb-tutorial-2/lib/python3.8/site-packages/jupyter_book/config.py\", line 119, in get_final_config\r\n",
      "    user_yaml_recurse, user_yaml_update = yaml_to_sphinx(user_yaml)\r\n",
      "  File \"/Users/martina.gonzales/anaconda3/envs/jb-tutorial-2/lib/python3.8/site-packages/jupyter_book/config.py\", line 219, in yaml_to_sphinx\r\n",
      "    raise ValueError(\r\n",
      "ValueError: To use 'repository' buttons, you must specify the repository URL\r\n"
     ]
    }
   ],
   "source": [
    "!jupyter-book build ../book/"
   ]
  },
  {
   "cell_type": "markdown",
   "metadata": {},
   "source": [
    "With the above settings we have:\n",
    "\n",
    "- Added to our book a [favicon](https://en.wikipedia.org/wiki/Favicon)\n",
    "- Excluded the welcome page in our left navigation bar\n",
    "- Allowed readers of our book to visit the corresponding file in our github repository or open an issue about it so they can modify it, by using the buttons at the botton right of our book\n",
    "- Modified the footer of the navigation bar"
   ]
  },
  {
   "cell_type": "markdown",
   "metadata": {},
   "source": [
    "  home_page_in_navbar       : false  # Whether to include your home page in the navigation bar\n",
    "  use_repository_button     : true  # Whether to add a link to your repository button\n",
    "  use_issues_button         : true  # Whether to add an \"open an issue\" button"
   ]
  },
  {
   "cell_type": "markdown",
   "metadata": {},
   "source": [
    "Our Jupyter Book could not be built! We asked Jupyter Book to link our content to our GitHub repository, but we haven't specified the repository. Let's add this:"
   ]
  },
  {
   "cell_type": "code",
   "execution_count": 23,
   "metadata": {},
   "outputs": [],
   "source": [
    "config_document = config_document + \"\"\"\n",
    "#######################################################################################\n",
    "repository:\n",
    "  url                       : https://github.com/alan-turing-institute/the-turing-way  # The URL to your book's repository\n",
    "  path_to_book              : \"book/website\"  # A path to your book's folder, relative to the repository root\n",
    "  branch                    : master  # Which branch of the repository should be used when creating links\n",
    "\n",
    "\"\"\"\n",
    "\n",
    "# Save our _config.yml in the book path\n",
    "yaml = YAML()\n",
    "config_file = open('../book/_config.yml', 'w')\n",
    "yaml.dump(yaml.load(config_document), config_file)"
   ]
  },
  {
   "cell_type": "code",
   "execution_count": 24,
   "metadata": {},
   "outputs": [
    {
     "name": "stdout",
     "output_type": "stream",
     "text": [
      "\u001b[32m\u001b[1mRunning Jupyter-Book v0.8.0\u001b[0m\n",
      "\u001b[34m\u001b[1mSource Folder: \u001b[0m/Users/martina.gonzales/Projects/talks/jupytercon_tutorial/notebooks/../book\n",
      "\u001b[34m\u001b[1mConfig Path: \u001b[0m/Users/martina.gonzales/Projects/talks/jupytercon_tutorial/notebooks/../book/_config.yml\n",
      "\u001b[34m\u001b[1mOutput Path: \u001b[0m/Users/martina.gonzales/Projects/talks/jupytercon_tutorial/notebooks/../book/_build/html\n",
      "\u001b[01mRunning Sphinx v3.2.1\u001b[39;49;00m\n",
      "\u001b[01mloading pickled environment... \u001b[39;49;00mdone\n",
      "\u001b[01mmyst v0.12.9:\u001b[39;49;00m MdParserConfig(renderer='sphinx', commonmark_only=False, dmath_enable=True, dmath_allow_labels=True, dmath_allow_space=True, dmath_allow_digits=True, amsmath_enable=False, deflist_enable=False, update_mathjax=True, admonition_enable=False, figure_enable=False, disable_syntax=[], html_img_enable=False, url_schemes=['mailto', 'http', 'https'], heading_anchors=None)\n",
      "\u001b[01mbuilding [mo]: \u001b[39;49;00mtargets for 0 po files that are out of date\n",
      "\u001b[01mbuilding [html]: \u001b[39;49;00mtargets for 13 source files that are out of date\n",
      "\u001b[01mupdating environment: \u001b[39;49;00m0 added, 0 changed, 0 removed\n",
      "\u001b[01mlooking for now-outdated files... \u001b[39;49;00mnone found\n",
      "\u001b[01mpreparing documents... \u001b[39;49;00mdone\n",
      "\u001b[01mwriting output... \u001b[39;49;00m[100%] \u001b[32mwelcome\u001b[39;49;00m                                                \n",
      "\u001b[01mgenerating indices... \u001b[39;49;00m genindexdone\n",
      "\u001b[01mwriting additional pages... \u001b[39;49;00m searchdone\n",
      "\u001b[01mcopying images... \u001b[39;49;00m[100%] \u001b[33m./figures/welcome.jpg\u001b[39;49;00m                                  \n",
      "\u001b[01mcopying static files... ... \u001b[39;49;00mdone\n",
      "\u001b[01mcopying extra files... \u001b[39;49;00mdone\n",
      "\u001b[01mdumping search index in English (code: en)... \u001b[39;49;00mdone\n",
      "\u001b[01mdumping object inventory... \u001b[39;49;00mdone\n",
      "\u001b[01mbuild succeeded.\u001b[39;49;00m\n",
      "\n",
      "The HTML pages are in ../book/_build/html.\n",
      "\n",
      "\u001b[92m===============================================================================\u001b[0m\n",
      "\n",
      "Finished generating HTML for book.\n",
      "Your book's HTML pages are here:\n",
      "    ../book/_build/html/\n",
      "You can look at your book by opening this file in a browser:\n",
      "    ../book/_build/html/index.html\n",
      "Or paste this line directly into your browser bar:\n",
      "    file:///Users/martina.gonzales/Projects/talks/jupytercon_tutorial/book/_build/html/index.html            \n",
      "\n",
      "\u001b[92m===============================================================================\u001b[0m\n",
      "\n"
     ]
    }
   ],
   "source": [
    "!jupyter-book build ../book/"
   ]
  },
  {
   "cell_type": "markdown",
   "metadata": {},
   "source": [
    "Inspect the GitHub button at the top right corner of the page. Try pressing its two options and see where the links point to."
   ]
  },
  {
   "cell_type": "markdown",
   "metadata": {},
   "source": [
    "## References and advanced choices"
   ]
  },
  {
   "cell_type": "markdown",
   "metadata": {},
   "source": [
    "This is of course not all we can specify in the configuration file of our Jupyter Book! Read the [official documentation](https://jupyterbook.org/customize/config.html) for more advanced features. "
   ]
  },
  {
   "cell_type": "markdown",
   "metadata": {},
   "source": [
    "👉 [Next Module](./5-more-jupyterbook.ipynb)\n",
    "---"
   ]
  }
 ],
 "metadata": {
  "kernelspec": {
   "display_name": "Python 3",
   "language": "python",
   "name": "python3"
  },
  "language_info": {
   "codemirror_mode": {
    "name": "ipython",
    "version": 3
   },
   "file_extension": ".py",
   "mimetype": "text/x-python",
   "name": "python",
   "nbconvert_exporter": "python",
   "pygments_lexer": "ipython3",
   "version": "3.8.5"
  }
 },
 "nbformat": 4,
 "nbformat_minor": 2
}
