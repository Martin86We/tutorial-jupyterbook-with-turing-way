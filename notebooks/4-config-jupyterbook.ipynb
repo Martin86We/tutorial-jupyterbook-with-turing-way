{
 "cells": [
  {
   "cell_type": "markdown",
   "metadata": {},
   "source": [
    "# Creating a Jupyter Book with The Turing Way\n",
    "\n",
    "**Module 4: Learning Objective:** \n",
    "  - Book configuration, layout and personalisation\n",
    "   <!---config file--->\n",
    "    \n",
    "📹 [VIDEO](TBA)\n",
    "---"
   ]
  },
  {
   "cell_type": "code",
   "execution_count": null,
   "metadata": {},
   "outputs": [],
   "source": []
  },
  {
   "cell_type": "markdown",
   "metadata": {},
   "source": [
    "👉 [Next Module](./5-more-jupyterbook.ipynb)\n",
    "---"
   ]
  }
 ],
 "metadata": {
  "kernelspec": {
   "display_name": "Python 3",
   "language": "python",
   "name": "python3"
  },
  "language_info": {
   "codemirror_mode": {
    "name": "ipython",
    "version": 3
   },
   "file_extension": ".py",
   "mimetype": "text/x-python",
   "name": "python",
   "nbconvert_exporter": "python",
   "pygments_lexer": "ipython3",
   "version": "3.7.4"
  }
 },
 "nbformat": 4,
 "nbformat_minor": 2
}
