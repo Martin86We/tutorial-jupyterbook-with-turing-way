{
 "cells": [
  {
   "cell_type": "markdown",
   "metadata": {},
   "source": [
    "*Creating a Jupyter Book with The Turing Way*\n",
    "\n",
    "# Module 4: Configuring your Jupyter Book\n",
    "\n",
    "**Learning Objective:** \n",
    "  - Explain how we can personalise our Jupyter Book by configuring how it looks\n",
    "  - Explain what `_config.yml` file is and what display options exist\n",
    "  - Guide our learners to link the contents of Jupyter Book with its GitHub repository online\n",
    "   <!---config file--->\n",
    "    \n",
    "📹 [VIDEO](TBA)\n",
    "---"
   ]
  },
  {
   "cell_type": "markdown",
   "metadata": {},
   "source": [
    "## Configuring your book"
   ]
  },
  {
   "cell_type": "markdown",
   "metadata": {},
   "source": [
    "So far we have created a Jupyter Book that looks very basic. It doesn't even have a logo or a title!\n",
    "\n",
    "As you probably have guessed, we are using the [default configuration](https://jupyterbook.org/customize/config.html#configuration-defaults) of Jupyter Book. To adapt it to our needs, we need to create a `_config.yml` file and populate it with our desired parameters."
   ]
  },
  {
   "cell_type": "markdown",
   "metadata": {},
   "source": [
    "We will start by defining the title and logo of our Jupyter Book, which will appear in the left navigation bar. We will also define relevant information that will appear on the footer of the main page:"
   ]
  },
  {
   "cell_type": "code",
   "execution_count": null,
   "metadata": {},
   "outputs": [],
   "source": [
    "from ruamel.yaml import YAML\n",
    "\n",
    "config_document_1 = \"\"\"\n",
    "title                       : The Turing Way  # The title of the book\n",
    "author                      : The Turing Way Community  # The author of the book to be placed in the footer\n",
    "copyright                   : \"2020\"  # Copyright year to be placed in the footer\n",
    "logo                        : \"./figures/logo.png\"  # A path to the book logo\n",
    "\n",
    "\"\"\"\n",
    "\n",
    "# Save our _config.yml in the book path\n",
    "yaml = YAML()\n",
    "config_file = open('../book_module4/_config.yml', 'w')\n",
    "yaml.dump(yaml.load(config_document_1), config_file)"
   ]
  },
  {
   "cell_type": "markdown",
   "metadata": {},
   "source": [
    "Let's build our book again to see the changes. This time we are going to build our book based on the folder `book_module4` that already contains the content files and a `_toc.yml`:"
   ]
  },
  {
   "cell_type": "code",
   "execution_count": null,
   "metadata": {},
   "outputs": [],
   "source": [
    "!jupyter-book build ../book_module4/"
   ]
  },
  {
   "cell_type": "markdown",
   "metadata": {},
   "source": [
    "#### EXERCISE\n",
    "\n",
    "Try changing the author of the book and its logo. Modify the `_config.yml` to do so, and re-build your book.\n",
    "\n",
    "__Answer:__ Print an example of a modified configuration file by running the command below. "
   ]
  },
  {
   "cell_type": "code",
   "execution_count": null,
   "metadata": {},
   "outputs": [],
   "source": [
    "!cat ../answers/module_4/ex1.yml"
   ]
  },
  {
   "cell_type": "markdown",
   "metadata": {},
   "source": [
    "## Further display settings"
   ]
  },
  {
   "cell_type": "markdown",
   "metadata": {},
   "source": [
    "There are other parameters of the \"looks\" of our Jupyter Book that we can further change. Let's add a [favicon](https://en.wikipedia.org/wiki/Favicon) to our book, and add some additional text to the footer in the navigation bar: "
   ]
  },
  {
   "cell_type": "code",
   "execution_count": null,
   "metadata": {},
   "outputs": [],
   "source": [
    "config_document_2 = config_document_1 + \"\"\"\n",
    "html:\n",
    "  favicon                   : \"./figures/favicon-32x32.png\"  # A path to a favicon image\n",
    "  navbar_footer_text        :\n",
    "    'Visit our <a href=\"https://github.com/alan-turing-institute/the-turing-way\">GitHub Repository</a>\n",
    "    <div>\n",
    "    This book is powered by <a href=\"https://jupyterbook.org\">Jupyter Book</a>\n",
    "    </div>'  # Will be displayed underneath the left navigation bar.\n",
    "\n",
    "\"\"\"\n",
    "\n",
    "# Save our _config.yml in the book path\n",
    "yaml = YAML()\n",
    "config_file = open('../book_module4/_config.yml', 'w')\n",
    "yaml.dump(yaml.load(config_document_2), config_file)"
   ]
  },
  {
   "cell_type": "code",
   "execution_count": null,
   "metadata": {},
   "outputs": [],
   "source": [
    "!jupyter-book build ../book_module4/"
   ]
  },
  {
   "cell_type": "markdown",
   "metadata": {},
   "source": [
    "#### EXERCISE\n",
    "\n",
    "We actually don't want to show the `welcome page` in our navigation bar. Read the [official documentation](https://jupyterbook.org/customize/config.html#configuration-defaults) to figure out how to change this parameter, and re-build your book.\n",
    "\n",
    "__Answer:__ Run the command below to see an example of a configuration file that achieves this."
   ]
  },
  {
   "cell_type": "code",
   "execution_count": null,
   "metadata": {},
   "outputs": [],
   "source": [
    "!cat ../answers/module_4/ex2.yml"
   ]
  },
  {
   "cell_type": "markdown",
   "metadata": {},
   "source": [
    "## Linking the contents of Jupyter Book with its GitHub repository"
   ]
  },
  {
   "cell_type": "markdown",
   "metadata": {},
   "source": [
    "If our book is hosted on [GitHub](https://github.com/), we can link our Jupyter Book with our repository using one of the specified buttons at the top of the page. We can even give our readers a direct link to open an issue about some specific content of our Jupyter Book:"
   ]
  },
  {
   "cell_type": "code",
   "execution_count": null,
   "metadata": {},
   "outputs": [],
   "source": [
    "config_document_3 = config_document_2 + \"\"\"\n",
    "  use_repository_button     : true  # Whether to add a link to your repository button\n",
    "  use_issues_button         : true  # Whether to add an \"open an issue\" button\n",
    "\n",
    "\"\"\"\n",
    "\n",
    "# Save our _config.yml in the book path\n",
    "yaml = YAML()\n",
    "config_file = open('../book_module4/_config.yml', 'w')\n",
    "yaml.dump(yaml.load(config_document_3), config_file)"
   ]
  },
  {
   "cell_type": "code",
   "execution_count": null,
   "metadata": {},
   "outputs": [],
   "source": [
    "!jupyter-book build ../book_module4/"
   ]
  },
  {
   "cell_type": "markdown",
   "metadata": {},
   "source": [
    "Our Jupyter Book could not be built! We asked Jupyter Book to link our content to our GitHub repository, but we haven't specified the repository. Let's add this:"
   ]
  },
  {
   "cell_type": "code",
   "execution_count": null,
   "metadata": {},
   "outputs": [],
   "source": [
    "config_document = config_document + \"\"\"\n",
    "#######################################################################################\n",
    "repository:\n",
    "  url                       : https://github.com/alan-turing-institute/the-turing-way  # The URL to your book's repository\n",
    "  path_to_book              : \"book/website\"  # A path to your book's folder, relative to the repository root\n",
    "  branch                    : master  # Which branch of the repository should be used when creating links\n",
    "\n",
    "\"\"\"\n",
    "\n",
    "# Save our _config.yml in the book path\n",
    "yaml = YAML()\n",
    "config_file = open('../book_module4/_config.yml', 'w')\n",
    "yaml.dump(yaml.load(config_document), config_file)"
   ]
  },
  {
   "cell_type": "code",
   "execution_count": null,
   "metadata": {},
   "outputs": [],
   "source": [
    "!jupyter-book build ../book_module4/"
   ]
  },
  {
   "cell_type": "markdown",
   "metadata": {},
   "source": [
    "Inspect the GitHub button at the top right corner of the page. Try pressing its two options and see where the links point to."
   ]
  },
  {
   "cell_type": "markdown",
   "metadata": {},
   "source": [
    "🗝 Takeaway\n",
    "---\n",
    "- The `_config.yml` file in Jupyter Book can be edited by providing desired values for different configuration parameters.\n",
    "- We can personalise our book by using logo and connecting it to its online GitHub repository.\n",
    "- This is also a place to allow collaborative features, such as allowing our readers to edit pages by visiting the GitHib repository directly from the book (explained in the Module-7).\n",
    "\n",
    "#### References and advanced options\n",
    "\n",
    "Of course, this is not all we can specify in the configuration file of our Jupyter Book! Read the [official documentation](https://jupyterbook.org/customize/config.html) for more advanced features. "
   ]
  },
  {
   "cell_type": "markdown",
   "metadata": {},
   "source": [
    "👉 [Next Module](./5-more-jupyterbook.ipynb)\n",
    "---"
   ]
  }
 ],
 "metadata": {
  "kernelspec": {
   "display_name": "Python 3",
   "language": "python",
   "name": "python3"
  },
  "language_info": {
   "codemirror_mode": {
    "name": "ipython",
    "version": 3
   },
   "file_extension": ".py",
   "mimetype": "text/x-python",
   "name": "python",
   "nbconvert_exporter": "python",
   "pygments_lexer": "ipython3",
   "version": "3.7.7"
  }
 },
 "nbformat": 4,
 "nbformat_minor": 2
}
