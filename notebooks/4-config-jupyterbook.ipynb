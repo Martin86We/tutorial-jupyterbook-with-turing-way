{
 "cells": [
  {
   "cell_type": "markdown",
   "metadata": {},
   "source": [
    "# Creating a Jupyter Book with The Turing Way\n",
    "\n",
    "**Module 4: Learning Objective:** \n",
    "  - Book configuration, layout and personalisation\n",
    "   <!---config file--->\n",
    "    \n",
    "📹 [VIDEO](TBA)\n",
    "---"
   ]
  },
  {
   "cell_type": "markdown",
   "metadata": {},
   "source": [
    "## Configuring your book"
   ]
  },
  {
   "cell_type": "markdown",
   "metadata": {},
   "source": [
    "But our books looks very basic! We are using the default configuration. We can tweek some of the parameters of our book by creating a `_config` file and modifying the relevant sections. Let's do this:"
   ]
  },
  {
   "cell_type": "code",
   "execution_count": 1,
   "metadata": {},
   "outputs": [],
   "source": [
    "config_documents = \"\"\n",
    "config_document = \"\"\"\n",
    "#######################################################################################\n",
    "# Book settings\n",
    "title                       : The Turing Way  # The title of the book. Will be placed in the left navbar.\n",
    "author                      : The Turing Way Community  # The author of the book\n",
    "copyright                   : \"2020\"  # Copyright year to be placed in the footer\n",
    "logo                        : \"./content/figures/logo.png\"  # A path to the book logo\n",
    "\n",
    "\"\"\""
   ]
  },
  {
   "cell_type": "markdown",
   "metadata": {},
   "source": [
    "We start by defining the title and logo of our book that will appear in the navigation bar. We also define some relevant information that will appear on the main page footer. "
   ]
  },
  {
   "cell_type": "markdown",
   "metadata": {},
   "source": [
    "We can also define some specifics of our display:"
   ]
  },
  {
   "cell_type": "code",
   "execution_count": 53,
   "metadata": {},
   "outputs": [],
   "source": [
    "config_document = config_document + \"\"\"\n",
    "#######################################################################################\n",
    "# HTML-specific settings\n",
    "html:\n",
    "  favicon                   : \"./content/figures/favicon-32x32.png\"  # A path to a favicon image\n",
    "  home_page_in_navbar       : false  # Whether to include your home page in the left navigation bar\n",
    "  use_repository_button     : true  # Whether to add a link to your repository button\n",
    "  use_issues_button         : true  # Whether to add an \"open an issue\" button\n",
    "  navbar_footer_text        :\n",
    "    'Visit our <a href=\"https://github.com/alan-turing-institute/the-turing-way\">GitHub Repository</a>\n",
    "    <div>\n",
    "    This book is powered by <a href=\"https://jupyterbook.org\">Jupyter Book</a>\n",
    "    </div>'  # Will be displayed underneath the left navigation bar.\n",
    "\n",
    "\"\"\""
   ]
  },
  {
   "cell_type": "markdown",
   "metadata": {},
   "source": [
    "With the above settings we have:\n",
    "\n",
    "- Added to our book a [favicon](https://en.wikipedia.org/wiki/Favicon)\n",
    "- Exclude the welcome page in our left navigation bar\n",
    "- Allowed readers of our book to visit the corresponding file in our github repository, or open an issue about it so they can modify it, using the buttons at the botton right of our book\n",
    "- Modified the footer of the navigation bar"
   ]
  },
  {
   "cell_type": "markdown",
   "metadata": {},
   "source": [
    "We also need to define some settings of our buttons so that the above configuration works:"
   ]
  },
  {
   "cell_type": "code",
   "execution_count": 54,
   "metadata": {},
   "outputs": [],
   "source": [
    "config_document = config_document + \"\"\"\n",
    "#######################################################################################\n",
    "# Launch button settings\n",
    "repository:\n",
    "  url                       : https://github.com/alan-turing-institute/the-turing-way  # The URL to your book's repository\n",
    "  path_to_book              : \"book/website\"  # A path to your book's folder, relative to the repository root.\n",
    "  branch                    : master  # Which branch of the repository should be used when creating links\n",
    "\n",
    "\"\"\""
   ]
  },
  {
   "cell_type": "markdown",
   "metadata": {},
   "source": [
    "Let's save our configuration file:"
   ]
  },
  {
   "cell_type": "code",
   "execution_count": 55,
   "metadata": {},
   "outputs": [],
   "source": [
    "# Save our _config.yml in the book path\n",
    "config_file = open('../book/_config.yml', 'w')\n",
    "yaml.dump(yaml.load(config_document), config_file)"
   ]
  },
  {
   "cell_type": "markdown",
   "metadata": {},
   "source": [
    "and check that we have added the `_config.yml` to our book path:"
   ]
  },
  {
   "cell_type": "code",
   "execution_count": 56,
   "metadata": {},
   "outputs": [
    {
     "name": "stdout",
     "output_type": "stream",
     "text": [
      "\u001b[1m\u001b[36m_build\u001b[m\u001b[m      _config.yml _toc.yml    \u001b[1m\u001b[36mcontent\u001b[m\u001b[m\r\n"
     ]
    }
   ],
   "source": [
    "!ls ../book/"
   ]
  },
  {
   "cell_type": "markdown",
   "metadata": {},
   "source": [
    "This is of course not all we can specify in the configuration file of our Jupyter Book! Read the [official documentation](https://jupyterbook.org/customize/config.html) for more advanced features. "
   ]
  },
  {
   "cell_type": "markdown",
   "metadata": {},
   "source": [
    "Let's now re-build our book:"
   ]
  },
  {
   "cell_type": "code",
   "execution_count": 57,
   "metadata": {},
   "outputs": [
    {
     "name": "stdout",
     "output_type": "stream",
     "text": [
      "\u001b[32m\u001b[1mRunning Jupyter-Book v0.8.0\u001b[0m\n",
      "\u001b[34m\u001b[1mSource Folder: \u001b[0m/Users/martina.gonzales/Projects/talks/jupytercon_tutorial/notebooks/../book\n",
      "\u001b[34m\u001b[1mConfig Path: \u001b[0m/Users/martina.gonzales/Projects/talks/jupytercon_tutorial/notebooks/../book/_config.yml\n",
      "\u001b[34m\u001b[1mOutput Path: \u001b[0m/Users/martina.gonzales/Projects/talks/jupytercon_tutorial/notebooks/../book/_build/html\n",
      "\u001b[01mRunning Sphinx v3.2.1\u001b[39;49;00m\n",
      "\u001b[01mloading pickled environment... \u001b[39;49;00mdone\n",
      "\u001b[01mmyst v0.12.9:\u001b[39;49;00m MdParserConfig(renderer='sphinx', commonmark_only=False, dmath_enable=True, dmath_allow_labels=True, dmath_allow_space=True, dmath_allow_digits=True, amsmath_enable=False, deflist_enable=False, update_mathjax=True, admonition_enable=False, figure_enable=False, disable_syntax=[], html_img_enable=False, url_schemes=['mailto', 'http', 'https'], heading_anchors=None)\n",
      "\u001b[01mbuilding [mo]: \u001b[39;49;00mtargets for 0 po files that are out of date\n",
      "\u001b[01mbuilding [html]: \u001b[39;49;00mtargets for 13 source files that are out of date\n",
      "\u001b[01mupdating environment: \u001b[39;49;00m[config changed ('exclude_patterns')] 13 added, 0 changed, 0 removed\n",
      "\u001b[01mchecking for /Users/martina.gonzales/Projects/talks/jupytercon_tutorial/book/content/references.bib in bibtex cache... \u001b[39;49;00mup to date\n",
      "\u001b[01mchecking for /Users/martina.gonzales/Projects/talks/jupytercon_tutorial/book/content/references.bib in bibtex cache... \u001b[39;49;00mup to date\n",
      "\u001b[01mchecking for /Users/martina.gonzales/Projects/talks/jupytercon_tutorial/book/content/references.bib in bibtex cache... \u001b[39;49;00mup to date\n",
      "\u001b[01mreading sources... \u001b[39;49;00m[100%] \u001b[35mcontent/welcome\u001b[39;49;00m                                       49;00m49;00m\n",
      "\u001b[01mlooking for now-outdated files... \u001b[39;49;00mnone found\n",
      "\u001b[01mpickling environment... \u001b[39;49;00mdone\n",
      "\u001b[01mchecking consistency... \u001b[39;49;00mdone\n",
      "\u001b[01mpreparing documents... \u001b[39;49;00mdone\n",
      "\u001b[01mwriting output... \u001b[39;49;00m[100%] \u001b[32mcontent/welcome\u001b[39;49;00m                                        9;00m49;00m0m\n",
      "\u001b[01mgenerating indices... \u001b[39;49;00m genindexdone\n",
      "\u001b[01mwriting additional pages... \u001b[39;49;00m searchdone\n",
      "\u001b[01mcopying images... \u001b[39;49;00m[100%] \u001b[33mcontent/./figures/welcome.jpg\u001b[39;49;00m                          9;49;00m39;49;00m[39;49;00m;00m\n",
      "\u001b[01mcopying static files... ... \u001b[39;49;00mdone\n",
      "\u001b[01mcopying extra files... \u001b[39;49;00mdone\n",
      "\u001b[01mdumping search index in English (code: en)... \u001b[39;49;00mdone\n",
      "\u001b[01mdumping object inventory... \u001b[39;49;00mdone\n",
      "\u001b[01mbuild succeeded.\u001b[39;49;00m\n",
      "\n",
      "The HTML pages are in ../book/_build/html.\n",
      "\n",
      "\u001b[92m===============================================================================\u001b[0m\n",
      "\n",
      "Finished generating HTML for book.\n",
      "Your book's HTML pages are here:\n",
      "    ../book/_build/html/\n",
      "You can look at your book by opening this file in a browser:\n",
      "    ../book/_build/html/index.html\n",
      "Or paste this line directly into your browser bar:\n",
      "    file:///Users/martina.gonzales/Projects/talks/jupytercon_tutorial/book/_build/html/index.html            \n",
      "\n",
      "\u001b[92m===============================================================================\u001b[0m\n",
      "\n"
     ]
    }
   ],
   "source": [
    "!jb build ../book/"
   ]
  },
  {
   "cell_type": "markdown",
   "metadata": {},
   "source": [
    "Paste the url to the files and inspect the book again. This looks much better!"
   ]
  },
  {
   "cell_type": "markdown",
   "metadata": {},
   "source": [
    "👉 [Next Module](./5-more-jupyterbook.ipynb)\n",
    "---"
   ]
  }
 ],
 "metadata": {
  "kernelspec": {
   "display_name": "Python 3",
   "language": "python",
   "name": "python3"
  },
  "language_info": {
   "codemirror_mode": {
    "name": "ipython",
    "version": 3
   },
   "file_extension": ".py",
   "mimetype": "text/x-python",
   "name": "python",
   "nbconvert_exporter": "python",
   "pygments_lexer": "ipython3",
   "version": "3.8.5"
  }
 },
 "nbformat": 4,
 "nbformat_minor": 2
}
