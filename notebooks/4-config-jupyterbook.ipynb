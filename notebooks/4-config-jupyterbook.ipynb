{
 "cells": [
  {
   "cell_type": "markdown",
   "metadata": {},
   "source": [
    "# Creating a Jupyter Book with The Turing Way\n",
    "\n",
    "**Module 4: Learning Objective:** \n",
    "  - Book configuration, layout and personalisation\n",
    "   <!---config file--->\n",
    "    \n",
    "📹 [VIDEO](TBA)\n",
    "---"
   ]
  },
  {
   "cell_type": "markdown",
   "metadata": {},
   "source": [
    "## Configuring your book"
   ]
  },
  {
   "cell_type": "markdown",
   "metadata": {},
   "source": [
    "So far we have created a Jupyter Book that looks very basic. It doesn't even have a logo or a title!\n",
    "\n",
    "As you probably have guessed, we are using the [default configuration](https://jupyterbook.org/customize/config.html#configuration-defaults) of Jupyter Book. To adapt it to our needs, we need to create a `_config.yml` file and populate it with our desired parameters."
   ]
  },
  {
   "cell_type": "markdown",
   "metadata": {},
   "source": [
    "We will start by defining the title and logo of our Jupyter Book, which will appear in the left navigation bar. We will also define relevant information that will appear on the footer of the main page:"
   ]
  },
  {
   "cell_type": "code",
   "execution_count": 1,
   "metadata": {},
   "outputs": [],
   "source": [
    "from ruamel.yaml import YAML\n",
    "\n",
    "config_document_1 = \"\"\"\n",
    "title                       : The Turing Way  # The title of the book\n",
    "author                      : The Turing Way Community  # The author of the book to be placed in the footer\n",
    "copyright                   : \"2020\"  # Copyright year to be placed in the footer\n",
    "logo                        : \"./figures/logo.png\"  # A path to the book logo\n",
    "\n",
    "\"\"\"\n",
    "\n",
    "# Save our _config.yml in the book path\n",
    "yaml = YAML()\n",
    "config_file = open('../book_module4/_config.yml', 'w')\n",
    "yaml.dump(yaml.load(config_document_1), config_file)"
   ]
  },
  {
   "cell_type": "markdown",
   "metadata": {},
   "source": [
    "Let's build our book again to see the changes. This time we are going to build our book based on the folder `book_module4` that already contains the content files and a `_toc.yml`:"
   ]
  },
  {
   "cell_type": "code",
   "execution_count": 2,
   "metadata": {},
   "outputs": [
    {
     "name": "stdout",
     "output_type": "stream",
     "text": [
      "\u001b[32m\u001b[1mRunning Jupyter-Book v0.8.0\u001b[0m\n",
      "\u001b[34m\u001b[1mSource Folder: \u001b[0m/Users/martina.gonzales/Projects/talks/jupytercon_tutorial/notebooks/../book_module4\n",
      "\u001b[34m\u001b[1mConfig Path: \u001b[0m/Users/martina.gonzales/Projects/talks/jupytercon_tutorial/notebooks/../book_module4/_config.yml\n",
      "\u001b[34m\u001b[1mOutput Path: \u001b[0m/Users/martina.gonzales/Projects/talks/jupytercon_tutorial/notebooks/../book_module4/_build/html\n",
      "\u001b[01mRunning Sphinx v3.2.1\u001b[39;49;00m\n",
      "\u001b[01mloading pickled environment... \u001b[39;49;00mdone\n",
      "\u001b[01mmyst v0.12.9:\u001b[39;49;00m MdParserConfig(renderer='sphinx', commonmark_only=False, dmath_enable=True, dmath_allow_labels=True, dmath_allow_space=True, dmath_allow_digits=True, amsmath_enable=False, deflist_enable=False, update_mathjax=True, admonition_enable=False, figure_enable=False, disable_syntax=[], html_img_enable=False, url_schemes=['mailto', 'http', 'https'], heading_anchors=None)\n",
      "\u001b[01mbuilding [mo]: \u001b[39;49;00mtargets for 0 po files that are out of date\n",
      "\u001b[01mbuilding [html]: \u001b[39;49;00mtargets for 13 source files that are out of date\n",
      "\u001b[01mupdating environment: \u001b[39;49;00m0 added, 0 changed, 0 removed\n",
      "\u001b[01mlooking for now-outdated files... \u001b[39;49;00mnone found\n",
      "\u001b[01mpreparing documents... \u001b[39;49;00mdone\n",
      "\u001b[01mwriting output... \u001b[39;49;00m[100%] \u001b[32mwelcome\u001b[39;49;00m                                                \n",
      "\u001b[01mgenerating indices... \u001b[39;49;00m genindexdone\n",
      "\u001b[01mwriting additional pages... \u001b[39;49;00m searchdone\n",
      "\u001b[01mcopying images... \u001b[39;49;00m[100%] \u001b[33m./figures/welcome.jpg\u001b[39;49;00m                                  \n",
      "\u001b[01mcopying static files... ... \u001b[39;49;00mdone\n",
      "\u001b[01mcopying extra files... \u001b[39;49;00mdone\n",
      "\u001b[01mdumping search index in English (code: en)... \u001b[39;49;00mdone\n",
      "\u001b[01mdumping object inventory... \u001b[39;49;00mdone\n",
      "\u001b[01mbuild succeeded.\u001b[39;49;00m\n",
      "\n",
      "The HTML pages are in ../book_module4/_build/html.\n",
      "\n",
      "\u001b[92m===============================================================================\u001b[0m\n",
      "\n",
      "Finished generating HTML for book.\n",
      "Your book's HTML pages are here:\n",
      "    ../book_module4/_build/html/\n",
      "You can look at your book by opening this file in a browser:\n",
      "    ../book_module4/_build/html/index.html\n",
      "Or paste this line directly into your browser bar:\n",
      "    file:///Users/martina.gonzales/Projects/talks/jupytercon_tutorial/book_module4/_build/html/index.html            \n",
      "\n",
      "\u001b[92m===============================================================================\u001b[0m\n",
      "\n"
     ]
    }
   ],
   "source": [
    "!jupyter-book build ../book_module4/"
   ]
  },
  {
   "cell_type": "markdown",
   "metadata": {},
   "source": [
    "#### EXERCISE\n",
    "\n",
    "Try changing the author of the book and its logo. Modify the `_config.yml` to do so, and re-build your book.\n",
    "\n",
    "__Answer:__ Print an example of a modified configuration file by running the command below. "
   ]
  },
  {
   "cell_type": "code",
   "execution_count": 3,
   "metadata": {},
   "outputs": [
    {
     "name": "stdout",
     "output_type": "stream",
     "text": [
      "title                       : The Turing Way  # The title of the book\r\n",
      "author                      : Reader!  # The author of the book to be placed in the footer\r\n",
      "copyright                   : \"2020\"  # Copyright year to be placed in the footer\r\n",
      "logo                        : \"./figures/reproducibility.jpg\"  # A path to the book logo\r\n"
     ]
    }
   ],
   "source": [
    "!cat ../answers/module_4/ex1.yml"
   ]
  },
  {
   "cell_type": "markdown",
   "metadata": {},
   "source": [
    "## Further display settings"
   ]
  },
  {
   "cell_type": "markdown",
   "metadata": {},
   "source": [
    "There are other parameters of the \"looks\" of our Jupyter Book that we can further change. Let's add a [favicon](https://en.wikipedia.org/wiki/Favicon) to our book, and add some additional text to the footer in the navigation bar: "
   ]
  },
  {
   "cell_type": "code",
   "execution_count": 4,
   "metadata": {},
   "outputs": [],
   "source": [
    "config_document_2 = config_document_1 + \"\"\"\n",
    "html:\n",
    "  favicon                   : \"./figures/favicon-32x32.png\"  # A path to a favicon image\n",
    "  navbar_footer_text        :\n",
    "    'Visit our <a href=\"https://github.com/alan-turing-institute/the-turing-way\">GitHub Repository</a>\n",
    "    <div>\n",
    "    This book is powered by <a href=\"https://jupyterbook.org\">Jupyter Book</a>\n",
    "    </div>'  # Will be displayed underneath the left navigation bar.\n",
    "\n",
    "\"\"\"\n",
    "\n",
    "# Save our _config.yml in the book path\n",
    "yaml = YAML()\n",
    "config_file = open('../book_module4/_config.yml', 'w')\n",
    "yaml.dump(yaml.load(config_document_2), config_file)"
   ]
  },
  {
   "cell_type": "code",
   "execution_count": 5,
   "metadata": {},
   "outputs": [
    {
     "name": "stdout",
     "output_type": "stream",
     "text": [
      "\u001b[32m\u001b[1mRunning Jupyter-Book v0.8.0\u001b[0m\n",
      "\u001b[34m\u001b[1mSource Folder: \u001b[0m/Users/martina.gonzales/Projects/talks/jupytercon_tutorial/notebooks/../book_module4\n",
      "\u001b[34m\u001b[1mConfig Path: \u001b[0m/Users/martina.gonzales/Projects/talks/jupytercon_tutorial/notebooks/../book_module4/_config.yml\n",
      "\u001b[34m\u001b[1mOutput Path: \u001b[0m/Users/martina.gonzales/Projects/talks/jupytercon_tutorial/notebooks/../book_module4/_build/html\n",
      "\u001b[01mRunning Sphinx v3.2.1\u001b[39;49;00m\n",
      "\u001b[01mloading pickled environment... \u001b[39;49;00mdone\n",
      "\u001b[01mmyst v0.12.9:\u001b[39;49;00m MdParserConfig(renderer='sphinx', commonmark_only=False, dmath_enable=True, dmath_allow_labels=True, dmath_allow_space=True, dmath_allow_digits=True, amsmath_enable=False, deflist_enable=False, update_mathjax=True, admonition_enable=False, figure_enable=False, disable_syntax=[], html_img_enable=False, url_schemes=['mailto', 'http', 'https'], heading_anchors=None)\n",
      "\u001b[01mbuilding [mo]: \u001b[39;49;00mtargets for 0 po files that are out of date\n",
      "\u001b[01mbuilding [html]: \u001b[39;49;00mtargets for 13 source files that are out of date\n",
      "\u001b[01mupdating environment: \u001b[39;49;00m0 added, 0 changed, 0 removed\n",
      "\u001b[01mlooking for now-outdated files... \u001b[39;49;00mnone found\n",
      "\u001b[01mpreparing documents... \u001b[39;49;00mdone\n",
      "\u001b[01mwriting output... \u001b[39;49;00m[100%] \u001b[32mwelcome\u001b[39;49;00m                                                \n",
      "\u001b[01mgenerating indices... \u001b[39;49;00m genindexdone\n",
      "\u001b[01mwriting additional pages... \u001b[39;49;00m searchdone\n",
      "\u001b[01mcopying images... \u001b[39;49;00m[100%] \u001b[33m./figures/welcome.jpg\u001b[39;49;00m                                  \n",
      "\u001b[01mcopying static files... ... \u001b[39;49;00mdone\n",
      "\u001b[01mcopying extra files... \u001b[39;49;00mdone\n",
      "\u001b[01mdumping search index in English (code: en)... \u001b[39;49;00mdone\n",
      "\u001b[01mdumping object inventory... \u001b[39;49;00mdone\n",
      "\u001b[01mbuild succeeded.\u001b[39;49;00m\n",
      "\n",
      "The HTML pages are in ../book_module4/_build/html.\n",
      "\n",
      "\u001b[92m===============================================================================\u001b[0m\n",
      "\n",
      "Finished generating HTML for book.\n",
      "Your book's HTML pages are here:\n",
      "    ../book_module4/_build/html/\n",
      "You can look at your book by opening this file in a browser:\n",
      "    ../book_module4/_build/html/index.html\n",
      "Or paste this line directly into your browser bar:\n",
      "    file:///Users/martina.gonzales/Projects/talks/jupytercon_tutorial/book_module4/_build/html/index.html            \n",
      "\n",
      "\u001b[92m===============================================================================\u001b[0m\n",
      "\n"
     ]
    }
   ],
   "source": [
    "!jupyter-book build ../book_module4/"
   ]
  },
  {
   "cell_type": "markdown",
   "metadata": {},
   "source": [
    "#### EXERCISE\n",
    "\n",
    "We actually don't want to show the `welcome page` in our navigation bar. Read the [official documentation](https://jupyterbook.org/customize/config.html#configuration-defaults) to figure out how to change this parameter, and re-build your book.\n",
    "\n",
    "__Answer:__ Run the command below to see an example of a configuration file that achieves this."
   ]
  },
  {
   "cell_type": "code",
   "execution_count": 7,
   "metadata": {},
   "outputs": [
    {
     "name": "stdout",
     "output_type": "stream",
     "text": [
      "title                       : The Turing Way  # The title of the book\r\n",
      "author                      : The Turing Way Community  # The author of the book to be placed in the footer\r\n",
      "copyright                   : \"2020\"  # Copyright year to be placed in the footer\r\n",
      "logo                        : \"./figures/logo.png\"  # A path to the book logo\r\n",
      "\r\n",
      "html:\r\n",
      "  favicon                   : \"./figures/favicon-32x32.png\"  # A path to a favicon image\r\n",
      "  navbar_footer_text        :\r\n",
      "    'Visit our <a href=\"https://github.com/alan-turing-institute/the-turing-way\">GitHub Repository</a>\r\n",
      "    <div>\r\n",
      "    This book is powered by <a href=\"https://jupyterbook.org\">Jupyter Book</a>\r\n",
      "    </div>'  # Will be displayed underneath the left navigation bar.\r\n",
      "  home_page_in_navbar       : false  # Whether to include your home page in the left Navigation Bar"
     ]
    }
   ],
   "source": [
    "!cat ../answers/module_4/ex2.yml"
   ]
  },
  {
   "cell_type": "markdown",
   "metadata": {},
   "source": [
    "## Linking the contents of Jupyter Book with its github repository"
   ]
  },
  {
   "cell_type": "markdown",
   "metadata": {},
   "source": [
    "If our book is hosted on [GitHub](https://github.com/), we can link our Jupyter Book with our repository using one of the specified buttons at the top of the page. We can even give our readers a direct link to open an issue about some specific content of our Jupyter Book:"
   ]
  },
  {
   "cell_type": "code",
   "execution_count": 8,
   "metadata": {},
   "outputs": [],
   "source": [
    "config_document_3 = config_document_2 + \"\"\"\n",
    "  use_repository_button     : true  # Whether to add a link to your repository button\n",
    "  use_issues_button         : true  # Whether to add an \"open an issue\" button\n",
    "\n",
    "\"\"\"\n",
    "\n",
    "# Save our _config.yml in the book path\n",
    "yaml = YAML()\n",
    "config_file = open('../book_module4/_config.yml', 'w')\n",
    "yaml.dump(yaml.load(config_document_3), config_file)"
   ]
  },
  {
   "cell_type": "code",
   "execution_count": 9,
   "metadata": {},
   "outputs": [
    {
     "name": "stdout",
     "output_type": "stream",
     "text": [
      "\u001b[32m\u001b[1mRunning Jupyter-Book v0.8.0\u001b[0m\n",
      "\u001b[34m\u001b[1mSource Folder: \u001b[0m/Users/martina.gonzales/Projects/talks/jupytercon_tutorial/notebooks/../book_module4\n",
      "\u001b[34m\u001b[1mConfig Path: \u001b[0m/Users/martina.gonzales/Projects/talks/jupytercon_tutorial/notebooks/../book_module4/_config.yml\n",
      "\u001b[34m\u001b[1mOutput Path: \u001b[0m/Users/martina.gonzales/Projects/talks/jupytercon_tutorial/notebooks/../book_module4/_build/html\n",
      "Traceback (most recent call last):\n",
      "  File \"/Users/martina.gonzales/anaconda3/envs/jb-tutorial-3/bin/jupyter-book\", line 8, in <module>\n",
      "    sys.exit(main())\n",
      "  File \"/Users/martina.gonzales/anaconda3/envs/jb-tutorial-3/lib/python3.8/site-packages/click/core.py\", line 829, in __call__\n",
      "    return self.main(*args, **kwargs)\n",
      "  File \"/Users/martina.gonzales/anaconda3/envs/jb-tutorial-3/lib/python3.8/site-packages/click/core.py\", line 782, in main\n",
      "    rv = self.invoke(ctx)\n",
      "  File \"/Users/martina.gonzales/anaconda3/envs/jb-tutorial-3/lib/python3.8/site-packages/click/core.py\", line 1259, in invoke\n",
      "    return _process_result(sub_ctx.command.invoke(sub_ctx))\n",
      "  File \"/Users/martina.gonzales/anaconda3/envs/jb-tutorial-3/lib/python3.8/site-packages/click/core.py\", line 1066, in invoke\n",
      "    return ctx.invoke(self.callback, **ctx.params)\n",
      "  File \"/Users/martina.gonzales/anaconda3/envs/jb-tutorial-3/lib/python3.8/site-packages/click/core.py\", line 610, in invoke\n",
      "    return callback(*args, **kwargs)\n",
      "  File \"/Users/martina.gonzales/anaconda3/envs/jb-tutorial-3/lib/python3.8/site-packages/jupyter_book/commands/__init__.py\", line 244, in build\n",
      "    result = build_sphinx(\n",
      "  File \"/Users/martina.gonzales/anaconda3/envs/jb-tutorial-3/lib/python3.8/site-packages/jupyter_book/sphinx.py\", line 50, in build_sphinx\n",
      "    sphinx_config, config_meta = get_final_config(\n",
      "  File \"/Users/martina.gonzales/anaconda3/envs/jb-tutorial-3/lib/python3.8/site-packages/jupyter_book/config.py\", line 119, in get_final_config\n",
      "    user_yaml_recurse, user_yaml_update = yaml_to_sphinx(user_yaml)\n",
      "  File \"/Users/martina.gonzales/anaconda3/envs/jb-tutorial-3/lib/python3.8/site-packages/jupyter_book/config.py\", line 219, in yaml_to_sphinx\n",
      "    raise ValueError(\n",
      "ValueError: To use 'repository' buttons, you must specify the repository URL\n"
     ]
    }
   ],
   "source": [
    "!jupyter-book build ../book_module4/"
   ]
  },
  {
   "cell_type": "markdown",
   "metadata": {},
   "source": [
    "Our Jupyter Book could not be built! We asked Jupyter Book to link our content to our GitHub repository, but we haven't specified the repository. Let's add this:"
   ]
  },
  {
   "cell_type": "code",
   "execution_count": null,
   "metadata": {},
   "outputs": [],
   "source": [
    "config_document = config_document + \"\"\"\n",
    "#######################################################################################\n",
    "repository:\n",
    "  url                       : https://github.com/alan-turing-institute/the-turing-way  # The URL to your book's repository\n",
    "  path_to_book              : \"book/website\"  # A path to your book's folder, relative to the repository root\n",
    "  branch                    : master  # Which branch of the repository should be used when creating links\n",
    "\n",
    "\"\"\"\n",
    "\n",
    "# Save our _config.yml in the book path\n",
    "yaml = YAML()\n",
    "config_file = open('../book_module4/_config.yml', 'w')\n",
    "yaml.dump(yaml.load(config_document), config_file)"
   ]
  },
  {
   "cell_type": "code",
   "execution_count": null,
   "metadata": {},
   "outputs": [],
   "source": [
    "!jupyter-book build ../book_module4/"
   ]
  },
  {
   "cell_type": "markdown",
   "metadata": {},
   "source": [
    "Inspect the GitHub button at the top right corner of the page. Try pressing its two options and see where the links point to."
   ]
  },
  {
   "cell_type": "markdown",
   "metadata": {},
   "source": [
    "## References and advanced choices"
   ]
  },
  {
   "cell_type": "markdown",
   "metadata": {},
   "source": [
    "Of course, this is not all we can specify in the configuration file of our Jupyter Book! Read the [official documentation](https://jupyterbook.org/customize/config.html) for more advanced features. "
   ]
  },
  {
   "cell_type": "markdown",
   "metadata": {},
   "source": [
    "👉 [Next Module](./5-more-jupyterbook.ipynb)\n",
    "---"
   ]
  }
 ],
 "metadata": {
  "kernelspec": {
   "display_name": "Python 3",
   "language": "python",
   "name": "python3"
  },
  "language_info": {
   "codemirror_mode": {
    "name": "ipython",
    "version": 3
   },
   "file_extension": ".py",
   "mimetype": "text/x-python",
   "name": "python",
   "nbconvert_exporter": "python",
   "pygments_lexer": "ipython3",
   "version": "3.8.5"
  }
 },
 "nbformat": 4,
 "nbformat_minor": 2
}
