{
 "cells": [
  {
   "cell_type": "markdown",
   "metadata": {},
   "source": [
    "# Creating a Jupyter Book with The Turing Way\n",
    "\n",
    "**Module 3: Learning Objective:** \n",
    "  - Hands-on session on creating the minimal version of the Jupyter\n",
    "  <!---Set up the repository, add a chapter, create a table of content, build the book--->\n",
    "\n",
    "📹 [VIDEO](TBA)\n",
    "---"
   ]
  },
  {
   "cell_type": "markdown",
   "metadata": {},
   "source": [
    "## Introduction to Jupyter Book\n",
    "\n",
    "Welcome! In this Jupyter Notebook we will introduce the basic commands to generate your first Jupyter Book. \n",
    "\n",
    "If you haven't already, we highly recommend you check-out the awesome and very detailed [documentation](https://jupyterbook.org/intro.html) of Jupyter-Book, and its [GitHub repository](https://github.com/executablebooks/jupyter-book). "
   ]
  },
  {
   "cell_type": "markdown",
   "metadata": {},
   "source": [
    "Jupyter Book has a [command-line interface](https://jupyterbook.org/reference/cli.html), so in this tutorial we will show you how to build your book using iPython's special syntax that lets you execute shell commands from a Jupyter Notebook. In this example we will do so by prefixing `!` in each cell.\n",
    "\n",
    "__TIP__: If you are unfamiliar with executing shell commands from Jupyter Notebooks, you can read this [tutorial](https://jakevdp.github.io/PythonDataScienceHandbook/01.05-ipython-and-shell-commands.html) written by Jake VanderPlas.\n"
   ]
  },
  {
   "cell_type": "markdown",
   "metadata": {},
   "source": [
    "Before starting, run the command below to make sure you start from scratch your Jupyter Book build."
   ]
  },
  {
   "cell_type": "code",
   "execution_count": 1,
   "metadata": {},
   "outputs": [],
   "source": [
    "!rm -R ../book/*"
   ]
  },
  {
   "cell_type": "markdown",
   "metadata": {},
   "source": [
    "## Creating the content of your book based on _The Turing Way_"
   ]
  },
  {
   "cell_type": "markdown",
   "metadata": {},
   "source": [
    "In order to build our Jupyter Book, we first need to create a folder with its contents. This will also be the folder where the `html` files will be created in order to host the book online. \n",
    "\n",
    "We have already created a `book` folder in the main repository (you don't need to name it `book`, it can be anything). Let's inspect its contents:"
   ]
  },
  {
   "cell_type": "code",
   "execution_count": 1,
   "metadata": {},
   "outputs": [],
   "source": [
    "!ls ../book/"
   ]
  },
  {
   "cell_type": "markdown",
   "metadata": {},
   "source": [
    "The folder is empty! We need to add some content to it. In this tutorial, we will be using some of the chapters of [__The Turing Way__](https://the-turing-way.netlify.app/welcome.html). These have been placed under the folder `content` in the main repository. Let's inspect whats inside it:"
   ]
  },
  {
   "cell_type": "code",
   "execution_count": 2,
   "metadata": {},
   "outputs": [
    {
     "name": "stdout",
     "output_type": "stream",
     "text": [
      "\u001b[1m\u001b[36mfigures\u001b[m\u001b[m                  \u001b[1m\u001b[36moverview\u001b[m\u001b[m                 reproducible-research.md\r\n",
      "\u001b[1m\u001b[36mopen\u001b[m\u001b[m                     \u001b[31mreferences.bib\u001b[m\u001b[m           welcome.md\r\n"
     ]
    }
   ],
   "source": [
    "!ls ../content"
   ]
  },
  {
   "cell_type": "markdown",
   "metadata": {},
   "source": [
    "But for our first book we don't want all these files. Let's import to our `book`folder the necesarry ones step by step.\n",
    "\n",
    "We first need an index page for our book. This will be our `welcome.md` file. Let's copy it into our `book` folder:"
   ]
  },
  {
   "cell_type": "code",
   "execution_count": 3,
   "metadata": {},
   "outputs": [],
   "source": [
    "!cp ../content/welcome.md ../book/welcome.md"
   ]
  },
  {
   "cell_type": "markdown",
   "metadata": {},
   "source": [
    "We will also need some extra files to create sub-sections in our book. We can copy over the folder `overview` to `book` to have some initial content:"
   ]
  },
  {
   "cell_type": "code",
   "execution_count": 4,
   "metadata": {},
   "outputs": [],
   "source": [
    "!cp -R ../content/overview/ ../book/overview"
   ]
  },
  {
   "cell_type": "markdown",
   "metadata": {},
   "source": [
    "But these files link to some citations and images in them! We also need to copy over the `figures` folder and the `references.bib` (to read more about citing using sphinx and Jupyter Book head [here](https://jupyterbook.org/content/citations.html#):"
   ]
  },
  {
   "cell_type": "code",
   "execution_count": 5,
   "metadata": {},
   "outputs": [],
   "source": [
    "!cp -R ../content/figures/ ../book/figures"
   ]
  },
  {
   "cell_type": "code",
   "execution_count": 6,
   "metadata": {},
   "outputs": [],
   "source": [
    "!cp ../content/references.bib ../book/references.bib"
   ]
  },
  {
   "cell_type": "markdown",
   "metadata": {},
   "source": [
    "Let's make sure our `book` folder now contains all the files we want:"
   ]
  },
  {
   "cell_type": "code",
   "execution_count": 7,
   "metadata": {},
   "outputs": [
    {
     "name": "stdout",
     "output_type": "stream",
     "text": [
      "\u001b[1m\u001b[36mfigures\u001b[m\u001b[m        \u001b[1m\u001b[36moverview\u001b[m\u001b[m       \u001b[31mreferences.bib\u001b[m\u001b[m welcome.md\r\n"
     ]
    }
   ],
   "source": [
    "!ls ../book/"
   ]
  },
  {
   "cell_type": "markdown",
   "metadata": {},
   "source": [
    "You should see printed a `figures` and `overview` folder, and a `references.bib` and `welcome.md` file."
   ]
  },
  {
   "cell_type": "markdown",
   "metadata": {},
   "source": [
    "But are all these files enough to build our Jupyter Book? They are not! We haven't specified the structure of our book yet. Let's do this in the next section."
   ]
  },
  {
   "cell_type": "markdown",
   "metadata": {},
   "source": [
    "## Creating the structure of your Jupyter Book"
   ]
  },
  {
   "cell_type": "markdown",
   "metadata": {},
   "source": [
    "To create a Jupyter Book we need to have a file that specifies the structure of its content, that is, a file that defines the hierarchy and order of the content-files. In other words, we need to specify the __Table Of Contents (TOC)__ of our book. \n",
    "\n",
    "Jupyter Book defines the TOC using a [yaml](https://en.wikipedia.org/wiki/YAML) file that needs to be named `_toc.yml`. This can be created manually, or automatically by running:\n",
    "\n",
    "```shell\n",
    "$ jupyter-book toc {path}\n",
    "```\n",
    "\n",
    "as long as the intended structure is also ordered alphanumerically."
   ]
  },
  {
   "cell_type": "markdown",
   "metadata": {},
   "source": [
    "But in The Turing Way we are always creating new content and restructuring our book. In these cases, is not practical to have our filenames ordered alphanumerically. We will thus show you how to manually create our `_toc.yml` using the python library [ruamel.yaml](https://yaml.readthedocs.io/en/latest/):"
   ]
  },
  {
   "cell_type": "code",
   "execution_count": 8,
   "metadata": {},
   "outputs": [],
   "source": [
    "from ruamel.yaml import YAML\n",
    "\n",
    "yaml = YAML()\n",
    "\n",
    "# Define the contents of our _toc.yml\n",
    "toc_document = \"\"\"\n",
    "- file: welcome\n",
    "- file: overview/overview\n",
    "  title: Overview\n",
    "  sections:\n",
    "  - file: overview/overview-definitions\n",
    "    title: Definitions\n",
    "  - file: overview/overview-benefit\n",
    "    title: Benefits\n",
    "  - file: overview/overview-resources\n",
    "    title: Resources\n",
    "\"\"\"\n",
    "\n",
    "# Save _toc.yml in the book directory\n",
    "toc_file = open('../book/_toc.yml', 'w')\n",
    "yaml.dump(yaml.load(toc_document), toc_file)\n"
   ]
  },
  {
   "cell_type": "markdown",
   "metadata": {},
   "source": [
    "Important things to note of our example are:\n",
    "\n",
    "- `file`s point to the location of our markdown files relative to the main directory.\n",
    "- Each file can be accompanied by a `title` description that will define the name that appears in the main toc of our book. If `title` is not specified (as in our welcome file), the first title in our markdown file will be used. \n",
    "- The first `file` defined in our `_toc.yml` will be the index of our book.\n"
   ]
  },
  {
   "cell_type": "markdown",
   "metadata": {},
   "source": [
    "## Building your book"
   ]
  },
  {
   "cell_type": "markdown",
   "metadata": {},
   "source": [
    "Let's check that our `book` directory now contains the `_toc.yml` file:"
   ]
  },
  {
   "cell_type": "code",
   "execution_count": 9,
   "metadata": {},
   "outputs": [
    {
     "name": "stdout",
     "output_type": "stream",
     "text": [
      "_toc.yml       \u001b[1m\u001b[36mfigures\u001b[m\u001b[m        \u001b[1m\u001b[36moverview\u001b[m\u001b[m       \u001b[31mreferences.bib\u001b[m\u001b[m welcome.md\r\n"
     ]
    }
   ],
   "source": [
    "!ls ../book/"
   ]
  },
  {
   "cell_type": "markdown",
   "metadata": {},
   "source": [
    "It does! That means we can now create our first Jupyter Book. This can be achieved by executing the command \n",
    "\n",
    "```shell\n",
    "$ jupyter-book build {path-to-book}\n",
    "``` \n",
    "\n",
    "Let's try it:"
   ]
  },
  {
   "cell_type": "code",
   "execution_count": 10,
   "metadata": {},
   "outputs": [
    {
     "name": "stdout",
     "output_type": "stream",
     "text": [
      "\u001b[32m\u001b[1mRunning Jupyter-Book v0.8.0\u001b[0m\n",
      "\u001b[34m\u001b[1mSource Folder: \u001b[0m/Users/martina.gonzales/Projects/talks/jupytercon_tutorial/notebooks/../book\n",
      "\u001b[34m\u001b[1mConfig Path: \u001b[0mNone\n",
      "\u001b[34m\u001b[1mOutput Path: \u001b[0m/Users/martina.gonzales/Projects/talks/jupytercon_tutorial/notebooks/../book/_build/html\n",
      "\u001b[01mRunning Sphinx v3.2.1\u001b[39;49;00m\n",
      "\u001b[01mmaking output directory... \u001b[39;49;00mdone\n",
      "\u001b[01mmyst v0.12.9:\u001b[39;49;00m MdParserConfig(renderer='sphinx', commonmark_only=False, dmath_enable=True, dmath_allow_labels=True, dmath_allow_space=True, dmath_allow_digits=True, amsmath_enable=False, deflist_enable=False, update_mathjax=True, admonition_enable=False, figure_enable=False, disable_syntax=[], html_img_enable=False, url_schemes=['mailto', 'http', 'https'], heading_anchors=None)\n",
      "\u001b[01mbuilding [mo]: \u001b[39;49;00mtargets for 0 po files that are out of date\n",
      "\u001b[01mbuilding [html]: \u001b[39;49;00mtargets for 5 source files that are out of date\n",
      "\u001b[01mupdating environment: \u001b[39;49;00m[new config] 5 added, 0 changed, 0 removed\n",
      "\u001b[01mchecking for /Users/martina.gonzales/Projects/talks/jupytercon_tutorial/book/references.bib in bibtex cache... \u001b[39;49;00mnot found\n",
      "\u001b[01mparsing bibtex file /Users/martina.gonzales/Projects/talks/jupytercon_tutorial/book/references.bib... \u001b[39;49;00mparsed 33 entries\n",
      "\u001b[01mchecking for /Users/martina.gonzales/Projects/talks/jupytercon_tutorial/book/references.bib in bibtex cache... \u001b[39;49;00mup to date\n",
      "\u001b[01mchecking for /Users/martina.gonzales/Projects/talks/jupytercon_tutorial/book/references.bib in bibtex cache... \u001b[39;49;00mup to date\n",
      "\u001b[01mreading sources... \u001b[39;49;00m[100%] \u001b[35mwelcome\u001b[39;49;00m                                               \n",
      "\u001b[01mlooking for now-outdated files... \u001b[39;49;00mnone found\n",
      "\u001b[01mpickling environment... \u001b[39;49;00mdone\n",
      "\u001b[01mchecking consistency... \u001b[39;49;00mdone\n",
      "\u001b[01mpreparing documents... \u001b[39;49;00mdone\n",
      "\u001b[01mwriting output... \u001b[39;49;00m[100%] \u001b[32mwelcome\u001b[39;49;00m                                                \n",
      "\u001b[01mgenerating indices... \u001b[39;49;00m genindexdone\n",
      "\u001b[01mwriting additional pages... \u001b[39;49;00m searchdone\n",
      "\u001b[01mcopying images... \u001b[39;49;00m[100%] \u001b[33m./figures/welcome.jpg\u001b[39;49;00m                                  \n",
      "\u001b[01mcopying static files... ... \u001b[39;49;00mdone\n",
      "\u001b[01mcopying extra files... \u001b[39;49;00mdone\n",
      "\u001b[01mdumping search index in English (code: en)... \u001b[39;49;00mdone\n",
      "\u001b[01mdumping object inventory... \u001b[39;49;00mdone\n",
      "\u001b[01mbuild succeeded.\u001b[39;49;00m\n",
      "\n",
      "The HTML pages are in ../book/_build/html.\n",
      "\n",
      "\u001b[92m===============================================================================\u001b[0m\n",
      "\n",
      "Finished generating HTML for book.\n",
      "Your book's HTML pages are here:\n",
      "    ../book/_build/html/\n",
      "You can look at your book by opening this file in a browser:\n",
      "    ../book/_build/html/index.html\n",
      "Or paste this line directly into your browser bar:\n",
      "    file:///Users/martina.gonzales/Projects/talks/jupytercon_tutorial/book/_build/html/index.html            \n",
      "\n",
      "\u001b[92m===============================================================================\u001b[0m\n",
      "\n"
     ]
    }
   ],
   "source": [
    "!jupyter-book build ../book/"
   ]
  },
  {
   "cell_type": "markdown",
   "metadata": {},
   "source": [
    "Our first Jupyter-Book has been built! We now have a `_build` folder in our book path that contains the `html` files of our book:"
   ]
  },
  {
   "cell_type": "code",
   "execution_count": 11,
   "metadata": {},
   "outputs": [
    {
     "name": "stdout",
     "output_type": "stream",
     "text": [
      "\u001b[1m\u001b[36m_build\u001b[m\u001b[m         \u001b[1m\u001b[36mfigures\u001b[m\u001b[m        \u001b[31mreferences.bib\u001b[m\u001b[m\r\n",
      "_toc.yml       \u001b[1m\u001b[36moverview\u001b[m\u001b[m       welcome.md\r\n"
     ]
    }
   ],
   "source": [
    "!ls ../book/"
   ]
  },
  {
   "cell_type": "markdown",
   "metadata": {},
   "source": [
    "This means we can locally deploy our book! To get a preview, paste the path specified at the very bottom of the `jupyter-book build` output into a new tab on your browser."
   ]
  },
  {
   "cell_type": "markdown",
   "metadata": {},
   "source": [
    "#### EXERCISE\n",
    "\n",
    "We want to change the title of our `Overview` section! Rename it `Overview of Reproducibility`. Change the `_toc.yml` and rebuild your book to achieve this."
   ]
  },
  {
   "cell_type": "code",
   "execution_count": 12,
   "metadata": {},
   "outputs": [],
   "source": [
    "### Write your answer here"
   ]
  },
  {
   "cell_type": "markdown",
   "metadata": {},
   "source": [
    "## Adding sections and chapters to your Jupyter Book"
   ]
  },
  {
   "cell_type": "markdown",
   "metadata": {},
   "source": [
    "So far, besides our `welcome` page, we only have a single section in our book (`Overview`). What if we wanted to add another one? \n",
    "\n",
    "To add material for this other section, let's copy our `open` folder over to our `book` folder:"
   ]
  },
  {
   "cell_type": "code",
   "execution_count": 13,
   "metadata": {},
   "outputs": [],
   "source": [
    "!cp -R ../content/open/ ../book/open"
   ]
  },
  {
   "cell_type": "code",
   "execution_count": 14,
   "metadata": {},
   "outputs": [
    {
     "name": "stdout",
     "output_type": "stream",
     "text": [
      "\u001b[1m\u001b[36m_build\u001b[m\u001b[m         \u001b[1m\u001b[36mfigures\u001b[m\u001b[m        \u001b[1m\u001b[36moverview\u001b[m\u001b[m       welcome.md\r\n",
      "_toc.yml       \u001b[1m\u001b[36mopen\u001b[m\u001b[m           \u001b[31mreferences.bib\u001b[m\u001b[m\r\n"
     ]
    }
   ],
   "source": [
    "!ls ../book/"
   ]
  },
  {
   "cell_type": "markdown",
   "metadata": {},
   "source": [
    "What happens if we re-build our book?"
   ]
  },
  {
   "cell_type": "code",
   "execution_count": 15,
   "metadata": {},
   "outputs": [
    {
     "name": "stdout",
     "output_type": "stream",
     "text": [
      "\u001b[32m\u001b[1mRunning Jupyter-Book v0.8.0\u001b[0m\n",
      "\u001b[34m\u001b[1mSource Folder: \u001b[0m/Users/martina.gonzales/Projects/talks/jupytercon_tutorial/notebooks/../book\n",
      "\u001b[34m\u001b[1mConfig Path: \u001b[0mNone\n",
      "\u001b[34m\u001b[1mOutput Path: \u001b[0m/Users/martina.gonzales/Projects/talks/jupytercon_tutorial/notebooks/../book/_build/html\n",
      "\u001b[01mRunning Sphinx v3.2.1\u001b[39;49;00m\n",
      "\u001b[01mloading pickled environment... \u001b[39;49;00mdone\n",
      "\u001b[01mmyst v0.12.9:\u001b[39;49;00m MdParserConfig(renderer='sphinx', commonmark_only=False, dmath_enable=True, dmath_allow_labels=True, dmath_allow_space=True, dmath_allow_digits=True, amsmath_enable=False, deflist_enable=False, update_mathjax=True, admonition_enable=False, figure_enable=False, disable_syntax=[], html_img_enable=False, url_schemes=['mailto', 'http', 'https'], heading_anchors=None)\n",
      "\u001b[01mbuilding [mo]: \u001b[39;49;00mtargets for 0 po files that are out of date\n",
      "\u001b[01mbuilding [html]: \u001b[39;49;00mtargets for 0 source files that are out of date\n",
      "\u001b[01mupdating environment: \u001b[39;49;00m7 added, 0 changed, 0 removed\n",
      "\u001b[01mreading sources... \u001b[39;49;00m[100%] \u001b[35mopen/open-source\u001b[39;49;00m                                      \n",
      "\u001b[91mWARNING: Found a content page that is not in _toc.yml: open/open.md.\u001b[39;49;00m\n",
      "\u001b[91mWARNING: Found a content page that is not in _toc.yml: open/open-access.md.\u001b[39;49;00m\n",
      "\u001b[91mWARNING: Found a content page that is not in _toc.yml: open/open-data.md.\u001b[39;49;00m\n",
      "\u001b[91mWARNING: Found a content page that is not in _toc.yml: open/open-hardware.md.\u001b[39;49;00m\n",
      "\u001b[91mWARNING: Found a content page that is not in _toc.yml: open/open-notebooks.md.\u001b[39;49;00m\n",
      "\u001b[91mWARNING: Found a content page that is not in _toc.yml: open/open-scholarship.md.\u001b[39;49;00m\n",
      "\u001b[91mWARNING: Found a content page that is not in _toc.yml: open/open-source.md.\u001b[39;49;00m\n",
      "\u001b[01mlooking for now-outdated files... \u001b[39;49;00mnone found\n",
      "\u001b[01mpickling environment... \u001b[39;49;00mdone\n",
      "\u001b[01mchecking consistency... \u001b[39;49;00m\u001b[91m/Users/martina.gonzales/Projects/talks/jupytercon_tutorial/book/open/open.md: WARNING: document isn't included in any toctree\u001b[39;49;00m\n",
      "\u001b[91m/Users/martina.gonzales/Projects/talks/jupytercon_tutorial/book/open/open-access.md: WARNING: document isn't included in any toctree\u001b[39;49;00m\n",
      "\u001b[91m/Users/martina.gonzales/Projects/talks/jupytercon_tutorial/book/open/open-data.md: WARNING: document isn't included in any toctree\u001b[39;49;00m\n",
      "\u001b[91m/Users/martina.gonzales/Projects/talks/jupytercon_tutorial/book/open/open-hardware.md: WARNING: document isn't included in any toctree\u001b[39;49;00m\n",
      "\u001b[91m/Users/martina.gonzales/Projects/talks/jupytercon_tutorial/book/open/open-notebooks.md: WARNING: document isn't included in any toctree\u001b[39;49;00m\n",
      "\u001b[91m/Users/martina.gonzales/Projects/talks/jupytercon_tutorial/book/open/open-scholarship.md: WARNING: document isn't included in any toctree\u001b[39;49;00m\n",
      "\u001b[91m/Users/martina.gonzales/Projects/talks/jupytercon_tutorial/book/open/open-source.md: WARNING: document isn't included in any toctree\u001b[39;49;00m\n",
      "done\n",
      "\u001b[01mpreparing documents... \u001b[39;49;00mdone\n",
      "\u001b[01mwriting output... \u001b[39;49;00m[100%] \u001b[32mwelcome\u001b[39;49;00m                                                \n",
      "\u001b[01mgenerating indices... \u001b[39;49;00m genindexdone\n",
      "\u001b[01mwriting additional pages... \u001b[39;49;00m searchdone\n",
      "\u001b[01mcopying images... \u001b[39;49;00m[100%] \u001b[33m./figures/welcome.jpg\u001b[39;49;00m                                  \n",
      "\u001b[01mcopying static files... ... \u001b[39;49;00mdone\n",
      "\u001b[01mcopying extra files... \u001b[39;49;00mdone\n",
      "\u001b[01mdumping search index in English (code: en)... \u001b[39;49;00mdone\n",
      "\u001b[01mdumping object inventory... \u001b[39;49;00mdone\n",
      "\u001b[01mbuild succeeded, 14 warnings.\u001b[39;49;00m\n",
      "\n",
      "The HTML pages are in ../book/_build/html.\n",
      "\n",
      "\u001b[92m===============================================================================\u001b[0m\n",
      "\n",
      "Finished generating HTML for book.\n",
      "Your book's HTML pages are here:\n",
      "    ../book/_build/html/\n",
      "You can look at your book by opening this file in a browser:\n",
      "    ../book/_build/html/index.html\n",
      "Or paste this line directly into your browser bar:\n",
      "    file:///Users/martina.gonzales/Projects/talks/jupytercon_tutorial/book/_build/html/index.html            \n",
      "\n",
      "\u001b[92m===============================================================================\u001b[0m\n",
      "\n"
     ]
    }
   ],
   "source": [
    "!jupyter-book build ../book/"
   ]
  },
  {
   "cell_type": "markdown",
   "metadata": {},
   "source": [
    "Our book did not change at all! But Jupyter Book gives us a warning: the files that we have moved over have not been included in out `_toc.yml`. Let's modify it to include them:"
   ]
  },
  {
   "cell_type": "code",
   "execution_count": 16,
   "metadata": {},
   "outputs": [],
   "source": [
    "yaml = YAML()\n",
    "\n",
    "# Define the contents of our _toc.yml\n",
    "toc_document = \"\"\"\n",
    "- file: welcome\n",
    "- file: overview/overview\n",
    "  title: Overview\n",
    "  sections:\n",
    "  - file: overview/overview-definitions\n",
    "    title: Definitions\n",
    "  - file: overview/overview-benefit\n",
    "    title: Benefits\n",
    "  - file: overview/overview-resources\n",
    "    title: Resources\n",
    "- file: open/open\n",
    "  title: Open Research\n",
    "  sections:\n",
    "  - file: open/open-data\n",
    "    title: Open Data\n",
    "  - file: open/open-source\n",
    "    title: Open Source\n",
    "  - file: open/open-hardware\n",
    "    title: Open Hardware\n",
    "  - file: open/open-access\n",
    "    title: Open Access\n",
    "  - file: open/open-notebooks\n",
    "    title: Open Notebooks\n",
    "  - file: open/open-scholarship\n",
    "    title: Open Scholarship\n",
    "\"\"\"\n",
    "\n",
    "# Save _toc.yml in the book directory\n",
    "toc_file = open('../book/_toc.yml', 'w')\n",
    "yaml.dump(yaml.load(toc_document), toc_file)"
   ]
  },
  {
   "cell_type": "code",
   "execution_count": 17,
   "metadata": {},
   "outputs": [
    {
     "name": "stdout",
     "output_type": "stream",
     "text": [
      "\u001b[32m\u001b[1mRunning Jupyter-Book v0.8.0\u001b[0m\n",
      "\u001b[34m\u001b[1mSource Folder: \u001b[0m/Users/martina.gonzales/Projects/talks/jupytercon_tutorial/notebooks/../book\n",
      "\u001b[34m\u001b[1mConfig Path: \u001b[0mNone\n",
      "\u001b[34m\u001b[1mOutput Path: \u001b[0m/Users/martina.gonzales/Projects/talks/jupytercon_tutorial/notebooks/../book/_build/html\n",
      "\u001b[01mRunning Sphinx v3.2.1\u001b[39;49;00m\n",
      "\u001b[01mmyst v0.12.9:\u001b[39;49;00m MdParserConfig(renderer='sphinx', commonmark_only=False, dmath_enable=True, dmath_allow_labels=True, dmath_allow_space=True, dmath_allow_digits=True, amsmath_enable=False, deflist_enable=False, update_mathjax=True, admonition_enable=False, figure_enable=False, disable_syntax=[], html_img_enable=False, url_schemes=['mailto', 'http', 'https'], heading_anchors=None)\n",
      "\u001b[01mbuilding [mo]: \u001b[39;49;00mtargets for 0 po files that are out of date\n",
      "\u001b[01mbuilding [html]: \u001b[39;49;00mtargets for 12 source files that are out of date\n",
      "\u001b[01mupdating environment: \u001b[39;49;00m[new config] 12 added, 0 changed, 0 removed\n",
      "\u001b[01mchecking for /Users/martina.gonzales/Projects/talks/jupytercon_tutorial/book/references.bib in bibtex cache... \u001b[39;49;00mnot found\n",
      "\u001b[01mparsing bibtex file /Users/martina.gonzales/Projects/talks/jupytercon_tutorial/book/references.bib... \u001b[39;49;00mparsed 33 entries\n",
      "\u001b[01mchecking for /Users/martina.gonzales/Projects/talks/jupytercon_tutorial/book/references.bib in bibtex cache... \u001b[39;49;00mup to date\n",
      "\u001b[01mchecking for /Users/martina.gonzales/Projects/talks/jupytercon_tutorial/book/references.bib in bibtex cache... \u001b[39;49;00mup to date\n",
      "\u001b[01mreading sources... \u001b[39;49;00m[100%] \u001b[35mwelcome\u001b[39;49;00m                                               \n",
      "\u001b[01mlooking for now-outdated files... \u001b[39;49;00mnone found\n",
      "\u001b[01mpickling environment... \u001b[39;49;00mdone\n",
      "\u001b[01mchecking consistency... \u001b[39;49;00mdone\n",
      "\u001b[01mpreparing documents... \u001b[39;49;00mdone\n",
      "\u001b[01mwriting output... \u001b[39;49;00m[100%] \u001b[32mwelcome\u001b[39;49;00m                                                \n",
      "\u001b[01mgenerating indices... \u001b[39;49;00m genindexdone\n",
      "\u001b[01mwriting additional pages... \u001b[39;49;00m searchdone\n",
      "\u001b[01mcopying images... \u001b[39;49;00m[100%] \u001b[33m./figures/welcome.jpg\u001b[39;49;00m                                  \n",
      "\u001b[01mcopying static files... ... \u001b[39;49;00mdone\n",
      "\u001b[01mcopying extra files... \u001b[39;49;00mdone\n",
      "\u001b[01mdumping search index in English (code: en)... \u001b[39;49;00mdone\n",
      "\u001b[01mdumping object inventory... \u001b[39;49;00mdone\n",
      "\u001b[01mbuild succeeded.\u001b[39;49;00m\n",
      "\n",
      "The HTML pages are in ../book/_build/html.\n",
      "\n",
      "\u001b[92m===============================================================================\u001b[0m\n",
      "\n",
      "Finished generating HTML for book.\n",
      "Your book's HTML pages are here:\n",
      "    ../book/_build/html/\n",
      "You can look at your book by opening this file in a browser:\n",
      "    ../book/_build/html/index.html\n",
      "Or paste this line directly into your browser bar:\n",
      "    file:///Users/martina.gonzales/Projects/talks/jupytercon_tutorial/book/_build/html/index.html            \n",
      "\n",
      "\u001b[92m===============================================================================\u001b[0m\n",
      "\n"
     ]
    }
   ],
   "source": [
    "!jupyter-book build ../book/"
   ]
  },
  {
   "cell_type": "markdown",
   "metadata": {},
   "source": [
    "We now have two sections in our Jupyter Book! But what if we wanted these two sections to be two chapters that belong to a same section in our book? \n",
    "\n",
    "Turns out we can define this in out `_toc.yml`."
   ]
  },
  {
   "cell_type": "markdown",
   "metadata": {},
   "source": [
    "Let's first copy over the `reproducible-research` file that will serve as index of our new section in the book:"
   ]
  },
  {
   "cell_type": "code",
   "execution_count": 18,
   "metadata": {},
   "outputs": [],
   "source": [
    "!cp ../content/reproducible-research.md ../book/reproducible-research.md"
   ]
  },
  {
   "cell_type": "markdown",
   "metadata": {},
   "source": [
    "Let's incorporate it into our `_toc.yml`:"
   ]
  },
  {
   "cell_type": "code",
   "execution_count": 19,
   "metadata": {},
   "outputs": [],
   "source": [
    "yaml = YAML()\n",
    "\n",
    "# Define the contents of our _toc.yml\n",
    "toc_document = \"\"\"\n",
    "- file: welcome\n",
    "- file: reproducible-research\n",
    "  title: Reproducibility Guide\n",
    "  chapters:\n",
    "    - file: overview/overview\n",
    "      title: Overview\n",
    "      sections:\n",
    "      - file: overview/overview-definitions\n",
    "        title: Definitions\n",
    "      - file: overview/overview-benefit\n",
    "        title: Benefits\n",
    "      - file: overview/overview-resources\n",
    "        title: Resources\n",
    "    - file: open/open\n",
    "      title: Open Research\n",
    "      sections:\n",
    "      - file: open/open-data\n",
    "        title: Open Data\n",
    "      - file: open/open-source\n",
    "        title: Open Source\n",
    "      - file: open/open-hardware\n",
    "        title: Open Hardware\n",
    "      - file: open/open-access\n",
    "        title: Open Access\n",
    "      - file: open/open-notebooks\n",
    "        title: Open Notebooks\n",
    "      - file: open/open-scholarship\n",
    "        title: Open Scholarship\n",
    "\"\"\"\n",
    "\n",
    "# Save _toc.yml in the book directory\n",
    "toc_file = open('../book/_toc.yml', 'w')\n",
    "yaml.dump(yaml.load(toc_document), toc_file)"
   ]
  },
  {
   "cell_type": "code",
   "execution_count": 20,
   "metadata": {},
   "outputs": [
    {
     "name": "stdout",
     "output_type": "stream",
     "text": [
      "\u001b[32m\u001b[1mRunning Jupyter-Book v0.8.0\u001b[0m\n",
      "\u001b[34m\u001b[1mSource Folder: \u001b[0m/Users/martina.gonzales/Projects/talks/jupytercon_tutorial/notebooks/../book\n",
      "\u001b[34m\u001b[1mConfig Path: \u001b[0mNone\n",
      "\u001b[34m\u001b[1mOutput Path: \u001b[0m/Users/martina.gonzales/Projects/talks/jupytercon_tutorial/notebooks/../book/_build/html\n",
      "\u001b[01mRunning Sphinx v3.2.1\u001b[39;49;00m\n",
      "\u001b[01mmyst v0.12.9:\u001b[39;49;00m MdParserConfig(renderer='sphinx', commonmark_only=False, dmath_enable=True, dmath_allow_labels=True, dmath_allow_space=True, dmath_allow_digits=True, amsmath_enable=False, deflist_enable=False, update_mathjax=True, admonition_enable=False, figure_enable=False, disable_syntax=[], html_img_enable=False, url_schemes=['mailto', 'http', 'https'], heading_anchors=None)\n",
      "\u001b[01mbuilding [mo]: \u001b[39;49;00mtargets for 0 po files that are out of date\n",
      "\u001b[01mbuilding [html]: \u001b[39;49;00mtargets for 13 source files that are out of date\n",
      "\u001b[01mupdating environment: \u001b[39;49;00m[new config] 13 added, 0 changed, 0 removed\n",
      "\u001b[01mchecking for /Users/martina.gonzales/Projects/talks/jupytercon_tutorial/book/references.bib in bibtex cache... \u001b[39;49;00mnot found\n",
      "\u001b[01mparsing bibtex file /Users/martina.gonzales/Projects/talks/jupytercon_tutorial/book/references.bib... \u001b[39;49;00mparsed 33 entries\n",
      "\u001b[01mchecking for /Users/martina.gonzales/Projects/talks/jupytercon_tutorial/book/references.bib in bibtex cache... \u001b[39;49;00mup to date\n",
      "\u001b[01mchecking for /Users/martina.gonzales/Projects/talks/jupytercon_tutorial/book/references.bib in bibtex cache... \u001b[39;49;00mup to date\n",
      "\u001b[01mreading sources... \u001b[39;49;00m[100%] \u001b[35mwelcome\u001b[39;49;00m                                               \n",
      "\u001b[01mlooking for now-outdated files... \u001b[39;49;00mnone found\n",
      "\u001b[01mpickling environment... \u001b[39;49;00mdone\n",
      "\u001b[01mchecking consistency... \u001b[39;49;00mdone\n",
      "\u001b[01mpreparing documents... \u001b[39;49;00mdone\n",
      "\u001b[01mwriting output... \u001b[39;49;00m[100%] \u001b[32mwelcome\u001b[39;49;00m                                                \n",
      "\u001b[01mgenerating indices... \u001b[39;49;00m genindexdone\n",
      "\u001b[01mwriting additional pages... \u001b[39;49;00m searchdone\n",
      "\u001b[01mcopying images... \u001b[39;49;00m[100%] \u001b[33m./figures/welcome.jpg\u001b[39;49;00m                                  \n",
      "\u001b[01mcopying static files... ... \u001b[39;49;00mdone\n",
      "\u001b[01mcopying extra files... \u001b[39;49;00mdone\n",
      "\u001b[01mdumping search index in English (code: en)... \u001b[39;49;00mdone\n",
      "\u001b[01mdumping object inventory... \u001b[39;49;00mdone\n",
      "\u001b[01mbuild succeeded.\u001b[39;49;00m\n",
      "\n",
      "The HTML pages are in ../book/_build/html.\n",
      "\n",
      "\u001b[92m===============================================================================\u001b[0m\n",
      "\n",
      "Finished generating HTML for book.\n",
      "Your book's HTML pages are here:\n",
      "    ../book/_build/html/\n",
      "You can look at your book by opening this file in a browser:\n",
      "    ../book/_build/html/index.html\n",
      "Or paste this line directly into your browser bar:\n",
      "    file:///Users/martina.gonzales/Projects/talks/jupytercon_tutorial/book/_build/html/index.html            \n",
      "\n",
      "\u001b[92m===============================================================================\u001b[0m\n",
      "\n"
     ]
    }
   ],
   "source": [
    "!jupyter-book build ../book/"
   ]
  },
  {
   "cell_type": "markdown",
   "metadata": {},
   "source": [
    "#### EXERCISE\n",
    "\n",
    "But what if we would have wanted the section `Reproducible Guide` to be a part of our book that is not associated with its own file, but has files underneath it?\n",
    "\n",
    "To complete this exercise: \n",
    "\n",
    "1. Read more about Parts/Chapters/Sections and how to specify them in the [official documentation](https://jupyterbook.org/customize/toc.html).\n",
    "2. Define the `Reproducible Guide` as a part of your book, and `Overview` and `Open` as sections of it.\n",
    "\n",
    "__HINT__: You will no longer need the `reproducible-research` file. "
   ]
  },
  {
   "cell_type": "markdown",
   "metadata": {},
   "source": [
    "## Numbering your Jupyter Book sections"
   ]
  },
  {
   "cell_type": "markdown",
   "metadata": {},
   "source": [
    "We can also decide to number the sections in our Jupyter Book. This can be achieved by using the key `numbered` and set it to true.\n",
    "\n",
    "Let's see an example:"
   ]
  },
  {
   "cell_type": "code",
   "execution_count": 21,
   "metadata": {},
   "outputs": [],
   "source": [
    "yaml = YAML()\n",
    "\n",
    "# Define the contents of our _toc.yml\n",
    "toc_document = \"\"\"\n",
    "- file: welcome\n",
    "  numbered: true\n",
    "- file: reproducible-research\n",
    "  title: Reproducibility Guide\n",
    "  chapters:\n",
    "    - file: overview/overview\n",
    "      title: Overview\n",
    "      sections:\n",
    "      - file: overview/overview-definitions\n",
    "        title: Definitions\n",
    "      - file: overview/overview-benefit\n",
    "        title: Benefits\n",
    "      - file: overview/overview-resources\n",
    "        title: Resources\n",
    "    - file: open/open\n",
    "      title: Open Research\n",
    "      sections:\n",
    "      - file: open/open-data\n",
    "        title: Open Data\n",
    "      - file: open/open-source\n",
    "        title: Open Source\n",
    "      - file: open/open-hardware\n",
    "        title: Open Hardware\n",
    "      - file: open/open-access\n",
    "        title: Open Access\n",
    "      - file: open/open-notebooks\n",
    "        title: Open Notebooks\n",
    "      - file: open/open-scholarship\n",
    "        title: Open Scholarship\n",
    "\"\"\"\n",
    "\n",
    "# Save _toc.yml in the book directory\n",
    "toc_file = open('../book/_toc.yml', 'w')\n",
    "yaml.dump(yaml.load(toc_document), toc_file)"
   ]
  },
  {
   "cell_type": "code",
   "execution_count": 22,
   "metadata": {},
   "outputs": [
    {
     "name": "stdout",
     "output_type": "stream",
     "text": [
      "\u001b[32m\u001b[1mRunning Jupyter-Book v0.8.0\u001b[0m\n",
      "\u001b[34m\u001b[1mSource Folder: \u001b[0m/Users/martina.gonzales/Projects/talks/jupytercon_tutorial/notebooks/../book\n",
      "\u001b[34m\u001b[1mConfig Path: \u001b[0mNone\n",
      "\u001b[34m\u001b[1mOutput Path: \u001b[0m/Users/martina.gonzales/Projects/talks/jupytercon_tutorial/notebooks/../book/_build/html\n",
      "\u001b[01mRunning Sphinx v3.2.1\u001b[39;49;00m\n",
      "\u001b[01mmyst v0.12.9:\u001b[39;49;00m MdParserConfig(renderer='sphinx', commonmark_only=False, dmath_enable=True, dmath_allow_labels=True, dmath_allow_space=True, dmath_allow_digits=True, amsmath_enable=False, deflist_enable=False, update_mathjax=True, admonition_enable=False, figure_enable=False, disable_syntax=[], html_img_enable=False, url_schemes=['mailto', 'http', 'https'], heading_anchors=None)\n",
      "\u001b[01mbuilding [mo]: \u001b[39;49;00mtargets for 0 po files that are out of date\n",
      "\u001b[01mbuilding [html]: \u001b[39;49;00mtargets for 13 source files that are out of date\n",
      "\u001b[01mupdating environment: \u001b[39;49;00m[new config] 13 added, 0 changed, 0 removed\n",
      "\u001b[01mchecking for /Users/martina.gonzales/Projects/talks/jupytercon_tutorial/book/references.bib in bibtex cache... \u001b[39;49;00mnot found\n",
      "\u001b[01mparsing bibtex file /Users/martina.gonzales/Projects/talks/jupytercon_tutorial/book/references.bib... \u001b[39;49;00mparsed 33 entries\n",
      "\u001b[01mchecking for /Users/martina.gonzales/Projects/talks/jupytercon_tutorial/book/references.bib in bibtex cache... \u001b[39;49;00mup to date\n",
      "\u001b[01mchecking for /Users/martina.gonzales/Projects/talks/jupytercon_tutorial/book/references.bib in bibtex cache... \u001b[39;49;00mup to date\n",
      "\u001b[01mreading sources... \u001b[39;49;00m[100%] \u001b[35mwelcome\u001b[39;49;00m                                               \n",
      "\u001b[01mlooking for now-outdated files... \u001b[39;49;00mnone found\n",
      "\u001b[01mpickling environment... \u001b[39;49;00mdone\n",
      "\u001b[01mchecking consistency... \u001b[39;49;00mdone\n",
      "\u001b[01mpreparing documents... \u001b[39;49;00mdone\n",
      "\u001b[01mwriting output... \u001b[39;49;00m[100%] \u001b[32mwelcome\u001b[39;49;00m                                                \n",
      "\u001b[01mgenerating indices... \u001b[39;49;00m genindexdone\n",
      "\u001b[01mwriting additional pages... \u001b[39;49;00m searchdone\n",
      "\u001b[01mcopying images... \u001b[39;49;00m[100%] \u001b[33m./figures/welcome.jpg\u001b[39;49;00m                                  \n",
      "\u001b[01mcopying static files... ... \u001b[39;49;00mdone\n",
      "\u001b[01mcopying extra files... \u001b[39;49;00mdone\n",
      "\u001b[01mdumping search index in English (code: en)... \u001b[39;49;00mdone\n",
      "\u001b[01mdumping object inventory... \u001b[39;49;00mdone\n",
      "\u001b[01mbuild succeeded.\u001b[39;49;00m\n",
      "\n",
      "The HTML pages are in ../book/_build/html.\n",
      "\n",
      "\u001b[92m===============================================================================\u001b[0m\n",
      "\n",
      "Finished generating HTML for book.\n",
      "Your book's HTML pages are here:\n",
      "    ../book/_build/html/\n",
      "You can look at your book by opening this file in a browser:\n",
      "    ../book/_build/html/index.html\n",
      "Or paste this line directly into your browser bar:\n",
      "    file:///Users/martina.gonzales/Projects/talks/jupytercon_tutorial/book/_build/html/index.html            \n",
      "\n",
      "\u001b[92m===============================================================================\u001b[0m\n",
      "\n"
     ]
    }
   ],
   "source": [
    "!jupyter-book build ../book/"
   ]
  },
  {
   "cell_type": "markdown",
   "metadata": {},
   "source": [
    "#### EXERCISE\n",
    "\n",
    "We might want to create separate numberings for each section of the book. Read how to do so [here](https://jupyterbook.org/customize/toc.html#number-your-book-s-chapters-and-sections) and number the sections under the `overview` and `open` chapters separately. "
   ]
  },
  {
   "cell_type": "markdown",
   "metadata": {},
   "source": [
    "## RESOURCES\n",
    "\n",
    "- Read more about customization of the table of contents in the [official documentation](https://jupyterbook.org/customize/toc.html)."
   ]
  },
  {
   "cell_type": "markdown",
   "metadata": {},
   "source": [
    "👉 [Next Module](./4-config-jupyterbook.ipynb)\n",
    "---"
   ]
  }
 ],
 "metadata": {
  "kernelspec": {
   "display_name": "Python 3",
   "language": "python",
   "name": "python3"
  },
  "language_info": {
   "codemirror_mode": {
    "name": "ipython",
    "version": 3
   },
   "file_extension": ".py",
   "mimetype": "text/x-python",
   "name": "python",
   "nbconvert_exporter": "python",
   "pygments_lexer": "ipython3",
   "version": "3.8.5"
  }
 },
 "nbformat": 4,
 "nbformat_minor": 4
}
