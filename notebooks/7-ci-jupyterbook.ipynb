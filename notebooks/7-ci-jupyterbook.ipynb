{
 "cells": [
  {
   "cell_type": "markdown",
   "metadata": {},
   "source": [
    "# Creating a Jupyter Book with The Turing Way\n",
    "\n",
    "**Module 7: Learning Objective:**\n",
    "  - Continuous Integration (CI) and its role in reproducibility\n",
    "  - Deploying Jupyter Book using CI tests of GitHub actions\n",
    "  \n",
    "📹 [VIDEO](TBA)\n",
    "---"
   ]
  },
  {
   "source": [
    "## Continuous Integration and Deployment - An Introduction\n",
    "\n",
    "### What is Continuous Integration?\n",
    "\n",
    "Continuous Integration (CI) is the process of automating the integration of code changes from multiple contributors into a single software project.\n",
    "This process is often comprised of a range of automatic tooling to assert the new code's correctness before integration.\n",
    "A version control system is the crucial element of CI processes and is often supplemented with other checks such as code quality, syntax style reviews, and more.\n",
    "\n",
    "#### CI for Jupyter Book\n",
    "\n",
    "When building a Jupyter Book, we may use CI processes to achieve tasks like spellchecks, checking for broken links, code cells are bug-free and don't hang, and so on.\n",
    "\n",
    "### What is Continuous Deployment?\n",
    "\n",
    "Continuous Deployment (CD) is a software release process that uses automated testing to validate if changes to a code base are correct and stable before immediate deployment to a production environment.\n",
    "This is beneficial as bugfixes and new features can often be in the hands of users as soon as they are pushed.\n",
    "\n",
    "#### CD for Jupyter Book\n",
    "\n",
    "A CD process for Jupyter Book might include a deployment preview so that we can automatically check what the rendered book will look like with the added content before releasing it.\n",
    "\n",
    "### CI/CD Vendors\n",
    "\n",
    "There are many different platforms that provide CI/CD services, such as [Travis](https://travis-ci.com/), [Circle](https://circleci.com/), [Azure Pipelines](https://docs.microsoft.com/en-us/azure/devops/pipelines/), and so on.\n",
    "These services can be thought of as \"someone else's computer\" where the testing and deployment phases of your software release process can be executed.\n",
    "The commands you would usually run on the command line to test and build your code can be put into a script that the CI vendor will automatically run on a given trigger, for example, when new code is pushed.\n",
    "\n",
    "### GitHub Actions\n",
    "\n",
    "For the purposes of this tutorial, we are going to focus on GitHub Actions.\n",
    "But all we do here can also be achieved with any other CI vendor.\n",
    "\n",
    "#### What is GitHub Actions?\n",
    "\n",
    "GitHub Actions is a CI service provided by GitHub.\n",
    "I (Sarah) like it for a few reasons:\n",
    "\n",
    "- Results of CI runs are fully integrated with the GitHub repository where I keep my code\n",
    "- Actions can be triggered by a wide range of events, such as issue comments or label assignments\n",
    "- Actions can do much more than just test and build your code too, such as comment on issues and assign labels!\n",
    "\n",
    "But these are my opinions, this is not an advert for GitHub Actions!\n",
    "\n",
    "I think it's useful to clear up some vocabularly when working with GitHub Actions.\n",
    "\n",
    "- **GitHub Actions.**\n",
    "  This is the name of the product/service developed by GitHub.\n",
    "- **Workflows.**\n",
    "  This is the task you want to run automatically when triggered.\n",
    "  A workflow is defined in a YAML file and contains all the steps that need to be run along with other information, such as the OS to run the job on and any dependencies that need installing.\n",
    "  Another advantage of GitHub Actions over other CI vendors is that you can define as many workflow files as your project requires. Instead of one file that does lots of things, you can have a workflow file per task with it's own specific triggers.\n",
    "- **Action.** An \"action\" is some code for a particular step that has been packaged up in such a way that it can be imported into your workflow.\n",
    "  An example of an action is [\"Build and Push\" from Docker](https://github.com/marketplace/actions/build-and-push-docker-images).\n",
    "  If you need to build a Docker image and push it to a registry during deployment, you can import this action to manage that process for you instead of installing docker and executing the build and push commands separately.\n",
    "  Actions are available on [GitHub Marketplace](https://github.com/marketplace?type=actions) and are provided by official sources and third party developers.\n",
    "  Creating your own action is also a possibility if you can't find one to suit your needs."
   ],
   "cell_type": "markdown",
   "metadata": {}
  },
  {
   "source": [
    "## References\n",
    "\n",
    "- \"Automatically Host your book with GitHub Actions\", Jupyter Book documentation, https://jupyterbook.org/publish/gh-pages.html#automatically-host-your-book-with-github-actions"
   ],
   "cell_type": "markdown",
   "metadata": {}
  },
  {
   "source": [
    "👉 [Next Module](./8-final-demo.ipynb)\n",
    "---"
   ],
   "cell_type": "markdown",
   "metadata": {}
  }
 ],
 "metadata": {
  "kernelspec": {
   "display_name": "Python 3",
   "language": "python",
   "name": "python3"
  },
  "language_info": {
   "codemirror_mode": {
    "name": "ipython",
    "version": 3
   },
   "file_extension": ".py",
   "mimetype": "text/x-python",
   "name": "python",
   "nbconvert_exporter": "python",
   "pygments_lexer": "ipython3",
   "version": "3.7.4"
  }
 },
 "nbformat": 4,
 "nbformat_minor": 2
}