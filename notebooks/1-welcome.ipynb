{
 "cells": [
  {
   "cell_type": "markdown",
   "metadata": {},
   "source": [
    "# Creating a Jupyter Book with The Turing Way\n",
    "\n",
    "*Welcome to the JupyterCon 2020 tutorial! 🎉*"
   ]
  },
  {
   "cell_type": "markdown",
   "metadata": {},
   "source": [
    "**Module 1: Learning Objective:**\n",
    "- Introduction to the workshop"
   ]
  },
  {
   "cell_type": "markdown",
   "metadata": {},
   "source": [
    "👍 **Prerequisite:**\n",
    "- prior knowledge of using GitHub for project repositories. \n",
    "- Basic experience working with Markdown files and Jupyter notebooks will be a plus. \n",
    "- One **optional module** shows example using Python scripts\n",
    "\n",
    "⏳ **Proposed Agenda:**\n",
    "<!---Link these--->\n",
    "\n",
    "- **Module 1 (current page)**, Duration: 5 minutes \n",
    "  - Introduction to the workshop\n",
    "- **[Module 2](./2-introduction.ipynb)**, Duration: 20 minutes\n",
    "  - Introduction to The Turing Way and reproducible research\n",
    "  - Introduction to Jupyter Book projects\n",
    "  - Demo of The Turing Way repository and its JupyterBook\n",
    "  <!---Show important bits: website folder, _toc file, config file--->\n",
    "- **[Module 3](./3-setup-jupyterbook.ipynb)**, Duration: 15 minutes \n",
    "  - Hands-on session on creating the minimal version of the Jupyter\n",
    "  <!---Set up the repository, add a chapter, create a table of content, build the book--->\n",
    "- **[Module 4](./4-config-jupyterbook.ipynb)**, Duration: 15 minutes\n",
    "  - Book configuration, layout and personalisation\n",
    "   <!---config file--->\n",
    "- **[Module 5](./5-more-jupyterbook.ipynb)**, Duration: 10 minutes\n",
    "  - Executable files in a book using Jupyter Notebooks\n",
    "   <!---Create a new JupyterNotebook from scratch--->   \n",
    "- **[Module 6](./6-binder-jupyterbook.ipynb)**, Duration: 15 minutes\n",
    "  - Introduction to Binder and BinderHuB\n",
    "  - Binder-isation to jupyterBook\n",
    "- **[Module 7](](./7-ci-jupyterbook.ipynb))**, Duration: 15 minutes\n",
    "  - Continuous Integration (CI) and its role in reproducibility\n",
    "  - Deploying Jupyter Book using CI tests of GitHub actions\n",
    "- **[Module 8](./8-final-demo.ipynb)**, Duration: 15 minutes\n",
    "  - Guided demo of Sphinx features in Jupyter Book\n",
    "  - Wrap up\n",
    "  <!---for cross-referencing, citation, pdf export, collaborative workflow on GitHub repository to edit a chapter or propose edits on Jupyter Book--->"
   ]
  },
  {
   "cell_type": "markdown",
   "metadata": {},
   "source": [
    "🔍 **Overview of this session:**\n",
    "\n",
    "- Jupyter Book is an open source project for building publication-ready books with computational files. The Turing Way is a community-led book project on learning computational skills, which is hosted online as a Jupyter Book. In this tutorial, you will learn about the collaborative nature of both the projects and create your own book using files and chapters from The Turing Way as examples.\n",
    "\n",
    "👋 **Who we are:**\n",
    "\n",
    "- **Martina G. Vilas** (Twitter: [@martinagvilas](https://twitter.com/martinagvilas): Core maintainer of _The Turing Way_, Open Source contributor of Jupyter Book and PhD student, Max Plank Institute, Frankfurt, Germany\n",
    "- **Sarah Gibson** (Twitter: [@drsarahlgibson](https://twitter.com/drsarahlgibson): Core maintainer of _The Turing Way_ and Binder, contributor of Jupyter Book, and Research Software Engineer, The Alan Turing Institute\n",
    "- **Kirstie Whitaker** (Twitter: [@kirstie_j](https://twitter.com/kirstie_j)]: Project lead, head of the Tools, Practices, and Systems research programme, The Alan Turing Institute\n",
    "- **Malvika Sharan** (Twitter: [@malvikasharan](https://twitter.com/malviaksharan)): Community Manager, Research Associate, Whitaker Lab, The Alan Turing Institute"
   ]
  },
  {
   "cell_type": "markdown",
   "metadata": {},
   "source": [
    "👉 [Next Module](./2-introduction.ipynb)\n",
    "---"
   ]
  }
 ],
 "metadata": {
  "kernelspec": {
   "display_name": "Python 3",
   "language": "python",
   "name": "python3"
  },
  "language_info": {
   "codemirror_mode": {
    "name": "ipython",
    "version": 3
   },
   "file_extension": ".py",
   "mimetype": "text/x-python",
   "name": "python",
   "nbconvert_exporter": "python",
   "pygments_lexer": "ipython3",
   "version": "3.7.4"
  }
 },
 "nbformat": 4,
 "nbformat_minor": 2
}
