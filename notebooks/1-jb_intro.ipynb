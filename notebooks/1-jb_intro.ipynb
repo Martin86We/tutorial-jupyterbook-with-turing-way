{
 "cells": [
  {
   "cell_type": "markdown",
   "metadata": {},
   "source": [
    "# Introduction to Jupyter-Book"
   ]
  },
  {
   "cell_type": "markdown",
   "metadata": {},
   "source": [
    "(make sure the `_build` folder and `_config` and `_toc` files do not exist yet):"
   ]
  },
  {
   "cell_type": "code",
   "execution_count": 290,
   "metadata": {},
   "outputs": [],
   "source": [
    "!rm -R ../book/_build/ ../book/_config.yml ../book/_toc.yml"
   ]
  },
  {
   "cell_type": "markdown",
   "metadata": {},
   "source": [
    "We have the demo content of a book inside the `book` folder in the repository. Let's print its current contents:"
   ]
  },
  {
   "cell_type": "code",
   "execution_count": 291,
   "metadata": {},
   "outputs": [
    {
     "name": "stdout",
     "output_type": "stream",
     "text": [
      "\u001b[1m\u001b[36mcontent\u001b[m\u001b[m\r\n"
     ]
    }
   ],
   "source": [
    "!ls ../book/"
   ]
  },
  {
   "cell_type": "markdown",
   "metadata": {},
   "source": [
    "To create a jupyter-book we need to have a yaml file specifying the structure of the contents. Let's create that yaml file:"
   ]
  },
  {
   "cell_type": "code",
   "execution_count": 292,
   "metadata": {},
   "outputs": [],
   "source": [
    "from ruamel.yaml import YAML\n",
    "\n",
    "yaml = YAML()\n",
    "\n",
    "toc_document = \"\"\"\n",
    "- file: content/welcome\n",
    "- file: content/reproducible-research/reproducible-research\n",
    "  sections:\n",
    "    - title: Overview\n",
    "      file: content/reproducible-research/overview/overview\n",
    "      sections:\n",
    "      - title: Definitions\n",
    "        file: content/reproducible-research/overview/overview-definitions\n",
    "      - title: Added advantages\n",
    "        file: content/reproducible-research/overview/overview-benefit\n",
    "      - title: Resources\n",
    "        file: content/reproducible-research/overview/overview-resources\n",
    "    - title: Open Research\n",
    "      file: content/reproducible-research/open/open\n",
    "      sections:\n",
    "      - title: Open Data\n",
    "        file: content/reproducible-research/open/open-data\n",
    "      - title: Open Source\n",
    "        file: content/reproducible-research/open/open-source\n",
    "      - title: Open Hardware\n",
    "        file: content/reproducible-research/open/open-hardware\n",
    "      - title: Open Access\n",
    "        file: content/reproducible-research/open/open-access\n",
    "      - title: Open Notebooks\n",
    "        file: content/reproducible-research/open/open-notebooks\n",
    "      - title: Open Scholarship\n",
    "        file: content/reproducible-research/open/open-scholarship\n",
    "\"\"\"\n",
    "\n",
    "toc_file = open('../book/_toc.yml', 'w')\n",
    "yaml.dump(yaml.load(toc_document), toc_file)\n"
   ]
  },
  {
   "cell_type": "markdown",
   "metadata": {},
   "source": [
    "Our book now contains a `_toc.yml` file besides a content folder:"
   ]
  },
  {
   "cell_type": "code",
   "execution_count": 293,
   "metadata": {},
   "outputs": [
    {
     "name": "stdout",
     "output_type": "stream",
     "text": [
      "_toc.yml \u001b[1m\u001b[36mcontent\u001b[m\u001b[m\r\n"
     ]
    }
   ],
   "source": [
    "!ls ../book/"
   ]
  },
  {
   "cell_type": "markdown",
   "metadata": {},
   "source": [
    "We can now create our first jupyter-book! This can be achieved by runnin `jb build {path-to-book}`. Let's try it:"
   ]
  },
  {
   "cell_type": "code",
   "execution_count": 277,
   "metadata": {},
   "outputs": [
    {
     "name": "stdout",
     "output_type": "stream",
     "text": [
      "\u001b[32m\u001b[1mRunning Jupyter-Book v0.8.0\u001b[0m\n",
      "\u001b[34m\u001b[1mSource Folder: \u001b[0m/Users/martina.gonzales/Projects/talks/jupytercon_tutorial/notebooks/../book\n",
      "\u001b[34m\u001b[1mConfig Path: \u001b[0mNone\n",
      "\u001b[34m\u001b[1mOutput Path: \u001b[0m/Users/martina.gonzales/Projects/talks/jupytercon_tutorial/notebooks/../book/_build/html\n",
      "\u001b[01mRunning Sphinx v3.2.1\u001b[39;49;00m\n",
      "\u001b[01mmaking output directory... \u001b[39;49;00mdone\n",
      "\u001b[01mmyst v0.12.9:\u001b[39;49;00m MdParserConfig(renderer='sphinx', commonmark_only=False, dmath_enable=True, dmath_allow_labels=True, dmath_allow_space=True, dmath_allow_digits=True, amsmath_enable=False, deflist_enable=False, update_mathjax=True, admonition_enable=False, figure_enable=False, disable_syntax=[], html_img_enable=False, url_schemes=['mailto', 'http', 'https'], heading_anchors=None)\n",
      "\u001b[01mbuilding [mo]: \u001b[39;49;00mtargets for 0 po files that are out of date\n",
      "\u001b[01mbuilding [html]: \u001b[39;49;00mtargets for 13 source files that are out of date\n",
      "\u001b[01mupdating environment: \u001b[39;49;00m[new config] 13 added, 0 changed, 0 removed\n",
      "\u001b[01mchecking for /Users/martina.gonzales/Projects/talks/jupytercon_tutorial/book/content/references.bib in bibtex cache... \u001b[39;49;00mnot found\n",
      "\u001b[01mparsing bibtex file /Users/martina.gonzales/Projects/talks/jupytercon_tutorial/book/content/references.bib... \u001b[39;49;00mparsed 33 entries\n",
      "\u001b[01mchecking for /Users/martina.gonzales/Projects/talks/jupytercon_tutorial/book/content/references.bib in bibtex cache... \u001b[39;49;00mup to date\n",
      "\u001b[01mchecking for /Users/martina.gonzales/Projects/talks/jupytercon_tutorial/book/content/references.bib in bibtex cache... \u001b[39;49;00mup to date\n",
      "\u001b[01mreading sources... \u001b[39;49;00m[100%] \u001b[35mcontent/welcome\u001b[39;49;00m                                       00m\n",
      "\u001b[01mlooking for now-outdated files... \u001b[39;49;00mnone found\n",
      "\u001b[01mpickling environment... \u001b[39;49;00mdone\n",
      "\u001b[01mchecking consistency... \u001b[39;49;00mdone\n",
      "\u001b[01mpreparing documents... \u001b[39;49;00mdone\n",
      "\u001b[01mwriting output... \u001b[39;49;00m[100%] \u001b[32mcontent/welcome\u001b[39;49;00m                                        0m0m\n",
      "\u001b[01mgenerating indices... \u001b[39;49;00m genindexdone\n",
      "\u001b[01mwriting additional pages... \u001b[39;49;00m searchdone\n",
      "\u001b[01mcopying images... \u001b[39;49;00m[100%] \u001b[33mcontent/./figures/welcome.jpg\u001b[39;49;00m                          9;00m.jpg\u001b[39;49;00m9;00m\n",
      "\u001b[01mcopying static files... ... \u001b[39;49;00mdone\n",
      "\u001b[01mcopying extra files... \u001b[39;49;00mdone\n",
      "\u001b[01mdumping search index in English (code: en)... \u001b[39;49;00mdone\n",
      "\u001b[01mdumping object inventory... \u001b[39;49;00mdone\n",
      "\u001b[01mbuild succeeded.\u001b[39;49;00m\n",
      "\n",
      "The HTML pages are in ../book/_build/html.\n",
      "\n",
      "\u001b[92m===============================================================================\u001b[0m\n",
      "\n",
      "Finished generating HTML for book.\n",
      "Your book's HTML pages are here:\n",
      "    ../book/_build/html/\n",
      "You can look at your book by opening this file in a browser:\n",
      "    ../book/_build/html/index.html\n",
      "Or paste this line directly into your browser bar:\n",
      "    file:///Users/martina.gonzales/Projects/talks/jupytercon_tutorial/book/_build/html/index.html            \n",
      "\n",
      "\u001b[92m===============================================================================\u001b[0m\n",
      "\n"
     ]
    }
   ],
   "source": [
    "!jb build ../book/"
   ]
  },
  {
   "cell_type": "markdown",
   "metadata": {},
   "source": [
    "Our book is built! We now have `_build` folder in our book path:"
   ]
  },
  {
   "cell_type": "code",
   "execution_count": 294,
   "metadata": {},
   "outputs": [
    {
     "name": "stdout",
     "output_type": "stream",
     "text": [
      "_toc.yml \u001b[1m\u001b[36mcontent\u001b[m\u001b[m\r\n"
     ]
    }
   ],
   "source": [
    "!ls ../book/"
   ]
  },
  {
   "cell_type": "markdown",
   "metadata": {},
   "source": [
    "And we can locally deploy our book! To view it, paste into a new tab on your browser the path specified by the `build` command at the very bottom of the output."
   ]
  },
  {
   "cell_type": "markdown",
   "metadata": {},
   "source": [
    "But this book is very basic! We can tweek some of its parameters by creating a `_config` file. Let's do this:"
   ]
  },
  {
   "cell_type": "code",
   "execution_count": 295,
   "metadata": {},
   "outputs": [],
   "source": [
    "yaml = YAML()\n",
    "config_document = \"\"\"\n",
    "#######################################################################################\n",
    "# A default configuration that will be loaded for all jupyter books\n",
    "# Users are expected to override these values in their own `_config.yml` file.\n",
    "# This is also the \"master list\" of all allowed keys and values.\n",
    "\n",
    "#######################################################################################\n",
    "# Book settings\n",
    "title                       : The Turing Way  # The title of the book. Will be placed in the left navbar.\n",
    "author                      : The Turing Way Community  # The author of the book\n",
    "copyright                   : \"2020\"  # Copyright year to be placed in the footer\n",
    "logo                        : \"./content/figures/logo.png\"  # A path to the book logo\n",
    "email                       : \"theturingway@gmail.com\"\n",
    "exclude_patterns            : [\"LICENSE.md\"]  # Patterns to skip when building the book. Can be glob-style (e.g. \"*skip.ipynb\")\n",
    "\n",
    "#######################################################################################\n",
    "# Execution settings\n",
    "execute:\n",
    "  execute_notebooks         : auto  # Whether to execute notebooks at build time. Must be one of (\"auto\", \"force\", \"cache\", \"off\")\n",
    "  cache                     : \"\"  # A path to the jupyter cache that will be used to store execution artifacs. Defaults to `_build/.jupyter_cache/`\n",
    "  exclude_patterns          : [\"LICENSE.md\"]  # A list of patterns to *skip* in execution (e.g. a notebook that takes a really long time)\n",
    "\n",
    "#######################################################################################\n",
    "# HTML-specific settings\n",
    "html:\n",
    "  favicon                   : \"./content/figures/favicon-32x32.png\"  # A path to a favicon image\n",
    "  navbar_number_sections    : False  # Add a number to each section in your left navbar\n",
    "  google_analytics_id       : \"UA-167881009-1\"  # A GA id that can be used to track book views.\n",
    "  home_page_in_navbar       : true  # Whether to include your home page in the left Navigation Bar\n",
    "  use_edit_page_button      : true  # Whether to add an \"edit this page\" button to pages. If `true`, repository information in repository: must be filled in\n",
    "  baseurl                   : \"https://the-turing-way.netlify.com\"  # The base URL where your book will be hosted. Used for creating image previews and social links. e.g.: https://mypage.com/mybook/\n",
    "  navbar_footer_text        :\n",
    "    'Visit our <a href=\"https://github.com/alan-turing-institute/the-turing-way\">GitHub Repository</a>\n",
    "    <div>\n",
    "    This book is powered by <a href=\"https://jupyterbook.org\">Jupyter Book</a>\n",
    "    </div>'  # Will be displayed underneath the left navbar.\n",
    "\n",
    "#######################################################################################\n",
    "# Launch button settings\n",
    "launch_buttons:\n",
    "  notebook_interface        : \"classic\"  # The interface interactive links will activate [\"classic\", \"jupyterlab\"]\n",
    "  binderhub_url             : \"https://mybinder.org\"  # The URL of the BinderHub (e.g., https://mybinder.org)\n",
    "  jupyterhub_url            : \"\"  # The URL of the JupyterHub (e.g., https://datahub.berkeley.edu)\n",
    "  thebelab                  : false  # Add a thebelab button to pages (requires the repository to run on Binder)\n",
    "\n",
    "repository:\n",
    "  url                       : https://github.com/alan-turing-institute/the-turing-way  # The URL to your book's repository\n",
    "  path_to_book              : \"book/website\"  # A path to your book's folder, relative to the repository root.\n",
    "  branch                    : master  # Which branch of the repository should be used when creating links\n",
    "\n",
    "#######################################################################################\n",
    "# Advanced and power-user settings\n",
    "sphinx:\n",
    "  extra_extensions          :  # A list of extra extensions to load by Sphinx.\n",
    "  config                    : \"\"  # key-value pairs to directly over-ride the Sphinx configuration\n",
    "\n",
    "#######################################################################################\n",
    "\"\"\"\n",
    "\n",
    "config_file = open('../book/_config.yml', 'w')\n",
    "yaml.dump(yaml.load(config_document), config_file)\n"
   ]
  },
  {
   "cell_type": "markdown",
   "metadata": {},
   "source": [
    "We can check that we have added the `_config.yml` to our book path:"
   ]
  },
  {
   "cell_type": "code",
   "execution_count": 288,
   "metadata": {},
   "outputs": [
    {
     "name": "stdout",
     "output_type": "stream",
     "text": [
      "\u001b[1m\u001b[36m_build\u001b[m\u001b[m      _config.yml _toc.yml    \u001b[1m\u001b[36mcontent\u001b[m\u001b[m\r\n"
     ]
    }
   ],
   "source": [
    "!ls ../book/"
   ]
  },
  {
   "cell_type": "markdown",
   "metadata": {},
   "source": [
    "And we can re-build our book:"
   ]
  },
  {
   "cell_type": "code",
   "execution_count": 296,
   "metadata": {},
   "outputs": [
    {
     "name": "stdout",
     "output_type": "stream",
     "text": [
      "\u001b[32m\u001b[1mRunning Jupyter-Book v0.8.0\u001b[0m\n",
      "\u001b[34m\u001b[1mSource Folder: \u001b[0m/Users/martina.gonzales/Projects/talks/jupytercon_tutorial/notebooks/../book\n",
      "\u001b[34m\u001b[1mConfig Path: \u001b[0m/Users/martina.gonzales/Projects/talks/jupytercon_tutorial/notebooks/../book/_config.yml\n",
      "\u001b[34m\u001b[1mOutput Path: \u001b[0m/Users/martina.gonzales/Projects/talks/jupytercon_tutorial/notebooks/../book/_build/html\n",
      "\n",
      "\u001b[93m===============================================================================\u001b[0m\n",
      "\n",
      "Warning: Validation errors in config:\n",
      "- '' is not of type 'null', 'object' [key path: 'sphinx/config']\n",
      "\n",
      "\u001b[93m===============================================================================\u001b[0m\n",
      "\n",
      "\u001b[01mRunning Sphinx v3.2.1\u001b[39;49;00m\n",
      "\u001b[01mmaking output directory... \u001b[39;49;00mdone\n",
      "\u001b[01mmyst v0.12.9:\u001b[39;49;00m MdParserConfig(renderer='sphinx', commonmark_only=False, dmath_enable=True, dmath_allow_labels=True, dmath_allow_space=True, dmath_allow_digits=True, amsmath_enable=False, deflist_enable=False, update_mathjax=True, admonition_enable=False, figure_enable=False, disable_syntax=[], html_img_enable=False, url_schemes=['mailto', 'http', 'https'], heading_anchors=None)\n",
      "\u001b[01mbuilding [mo]: \u001b[39;49;00mtargets for 0 po files that are out of date\n",
      "\u001b[01mbuilding [html]: \u001b[39;49;00mtargets for 13 source files that are out of date\n",
      "\u001b[01mupdating environment: \u001b[39;49;00m[new config] 13 added, 0 changed, 0 removed\n",
      "\u001b[01mchecking for /Users/martina.gonzales/Projects/talks/jupytercon_tutorial/book/content/references.bib in bibtex cache... \u001b[39;49;00mnot found\n",
      "\u001b[01mparsing bibtex file /Users/martina.gonzales/Projects/talks/jupytercon_tutorial/book/content/references.bib... \u001b[39;49;00mparsed 33 entries\n",
      "\u001b[01mchecking for /Users/martina.gonzales/Projects/talks/jupytercon_tutorial/book/content/references.bib in bibtex cache... \u001b[39;49;00mup to date\n",
      "\u001b[01mchecking for /Users/martina.gonzales/Projects/talks/jupytercon_tutorial/book/content/references.bib in bibtex cache... \u001b[39;49;00mup to date\n",
      "\u001b[01mreading sources... \u001b[39;49;00m[100%] \u001b[35mcontent/welcome\u001b[39;49;00m                                       00m\n",
      "\u001b[01mlooking for now-outdated files... \u001b[39;49;00mnone found\n",
      "\u001b[01mpickling environment... \u001b[39;49;00mdone\n",
      "\u001b[01mchecking consistency... \u001b[39;49;00mdone\n",
      "\u001b[01mpreparing documents... \u001b[39;49;00mdone\n",
      "\u001b[01mwriting output... \u001b[39;49;00m[100%] \u001b[32mcontent/welcome\u001b[39;49;00m                                        0m0m\n",
      "\u001b[01mgenerating indices... \u001b[39;49;00m genindexdone\n",
      "\u001b[01mwriting additional pages... \u001b[39;49;00m searchdone\n",
      "\u001b[01mcopying images... \u001b[39;49;00m[100%] \u001b[33mcontent/./figures/welcome.jpg\u001b[39;49;00m                          9;00m.jpg\u001b[39;49;00m9;00m\n",
      "\u001b[01mcopying static files... ... \u001b[39;49;00mdone\n",
      "\u001b[01mcopying extra files... \u001b[39;49;00mdone\n",
      "\u001b[01mdumping search index in English (code: en)... \u001b[39;49;00mdone\n",
      "\u001b[01mdumping object inventory... \u001b[39;49;00mdone\n",
      "\u001b[01mbuild succeeded.\u001b[39;49;00m\n",
      "\n",
      "The HTML pages are in ../book/_build/html.\n",
      "\n",
      "\u001b[92m===============================================================================\u001b[0m\n",
      "\n",
      "Finished generating HTML for book.\n",
      "Your book's HTML pages are here:\n",
      "    ../book/_build/html/\n",
      "You can look at your book by opening this file in a browser:\n",
      "    ../book/_build/html/index.html\n",
      "Or paste this line directly into your browser bar:\n",
      "    file:///Users/martina.gonzales/Projects/talks/jupytercon_tutorial/book/_build/html/index.html            \n",
      "\n",
      "\u001b[92m===============================================================================\u001b[0m\n",
      "\n"
     ]
    }
   ],
   "source": [
    "!jb build ../book/"
   ]
  },
  {
   "cell_type": "markdown",
   "metadata": {},
   "source": [
    "This looks much better!"
   ]
  },
  {
   "cell_type": "code",
   "execution_count": null,
   "metadata": {},
   "outputs": [],
   "source": []
  }
 ],
 "metadata": {
  "kernelspec": {
   "display_name": "Python 3",
   "language": "python",
   "name": "python3"
  },
  "language_info": {
   "codemirror_mode": {
    "name": "ipython",
    "version": 3
   },
   "file_extension": ".py",
   "mimetype": "text/x-python",
   "name": "python",
   "nbconvert_exporter": "python",
   "pygments_lexer": "ipython3",
   "version": "3.8.5"
  }
 },
 "nbformat": 4,
 "nbformat_minor": 4
}
