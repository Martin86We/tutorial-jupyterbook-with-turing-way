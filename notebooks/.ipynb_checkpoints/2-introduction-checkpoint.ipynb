{
 "cells": [
  {
   "cell_type": "markdown",
   "metadata": {},
   "source": [
    "# Creating a Jupyter Book with The Turing Way\n",
    "\n",
    "**Module 2: Learning Objective:**\n",
    "  - Introduction to The Turing Way and reproducible research\n",
    "  - Introduction to Jupyter Book projects\n",
    "  - Demo of The Turing Way repository and its JupyterBook\n",
    "  <!---Show important bits: website folder, _toc file, config file--->\n",
    "  \n",
    "📹 [VIDEO](TBA)\n",
    "---"
   ]
  },
  {
   "cell_type": "markdown",
   "metadata": {},
   "source": [
    "## _The Turing Way_\n",
    "\n",
    "![One image description of The Turing Way as a book, an open source, a community and collaboration](images/theturingway-intro-jc2020.png)\n",
    "\n",
    "- **A book**: \n",
    "  - [https://the-turing-way.netlify.com/](https://the-turing-way.netlify.com/)\n",
    "- **An open source project**: \n",
    "  - [https://github.com/alan-turing-institute/the-turing-way](https://github.com/alan-turing-institute/the-turing-way)\n",
    "- **A community**: \n",
    "  - More than 175 contributors (as of August 2020) who collaborate to develop The Turing Way materials online via GitHub (see [Contributors Table](https://github.com/alan-turing-institute/the-turing-way#contributors))\n",
    "- **A culture of collaboration**: \n",
    "> *The Turing Way is an Open Source collaborative project that involves and supports its members of diverse skills and backgrounds to ensure that data science is accessible and useful for everyone. \n",
    "Its moonshot goal is to make reproducible research 'too easy not to do'.*\n",
    "\n",
    "### Important links:\n",
    "\n",
    "- [GitHub](https://github.com/alan-turing-institute/the-turing-way)\n",
    "- [Contribution guideline](https://github.com/alan-turing-institute/the-turing-way/blob/master/CONTRIBUTING.md)\n",
    "- [Code of Conduct](https://github.com/alan-turing-institute/the-turing-way/blob/master/CODE_OF_CONDUCT.md)\n",
    "- [Monthly Newsletter](https://tinyletter.com/TuringWay/) \n",
    "- [Twitter @turingway](https://twitter.com/turingway)\n",
    "- [Join Slack channel](https://tinyurl.com/jointuringwayslack)\n",
    "- [Public Gitter](https://gitter.im/alan-turing-institute/the-turing-way)\n",
    "\n",
    "**Contact by email: [theturingway@gmail.com](mailto:theturingway@gmail.com)**\n",
    "\n",
    "***Please see the list of [Frequently Asked Questions](https://github.com/alan-turing-institute/the-turing-way/blob/master/communications/promotion-pack/faqs.md) for supporting information***"
   ]
  },
  {
   "cell_type": "markdown",
   "metadata": {},
   "source": [
    "## JupyterBook\n",
    "\n",
    "> ADD DETAILS\n",
    "    \n",
    "### Important links:\n",
    "\n",
    "> ADD Details"
   ]
  },
  {
   "cell_type": "markdown",
   "metadata": {},
   "source": [
    "👉 [Next Module](./3-setup-jupyterbook.ipynb)\n",
    "---"
   ]
  }
 ],
 "metadata": {
  "kernelspec": {
   "display_name": "Python 3",
   "language": "python",
   "name": "python3"
  },
  "language_info": {
   "codemirror_mode": {
    "name": "ipython",
    "version": 3
   },
   "file_extension": ".py",
   "mimetype": "text/x-python",
   "name": "python",
   "nbconvert_exporter": "python",
   "pygments_lexer": "ipython3",
   "version": "3.7.4"
  }
 },
 "nbformat": 4,
 "nbformat_minor": 2
}
