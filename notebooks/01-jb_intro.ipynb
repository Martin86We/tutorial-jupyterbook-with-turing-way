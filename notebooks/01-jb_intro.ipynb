{
 "cells": [
  {
   "cell_type": "markdown",
   "metadata": {},
   "source": [
    "# Introduction to Jupyter Book"
   ]
  },
  {
   "cell_type": "markdown",
   "metadata": {},
   "source": [
    "Welcome! In this Jupyter Notebook we will introduce the basic commands to generate your first Jupyter Book. \n",
    "\n",
    "If you haven't already, we highly recommend you check-out the awesome and very detailed [documentation](https://jupyterbook.org/intro.html) of Jupyter-Book, and its [GitHub repository](https://github.com/executablebooks/jupyter-book). "
   ]
  },
  {
   "cell_type": "markdown",
   "metadata": {},
   "source": [
    "Jupyter Book has a [command-line interface](https://jupyterbook.org/reference/cli.html), so in this tutorial we will show you how to build your book using iPython's special syntax that let's you execute shell commands from a Jupyter Notebook. In this example we will do so by prefixing `!` in each cell.\n",
    "\n",
    "__TIP__: If you are unfamiliar with executing shell commands from Jupyter Notebooks, you can read this [tutorial](https://jakevdp.github.io/PythonDataScienceHandbook/01.05-ipython-and-shell-commands.html) written by Jake VanderPlas.\n"
   ]
  },
  {
   "cell_type": "markdown",
   "metadata": {},
   "source": [
    "Before starting, run the command below to make sure you start from scratch your Jupyter Book build."
   ]
  },
  {
   "cell_type": "code",
   "execution_count": 18,
   "metadata": {},
   "outputs": [
    {
     "name": "stdout",
     "output_type": "stream",
     "text": [
      "rm: ../book/_build/: No such file or directory\r\n",
      "rm: ../book/_config.yml: No such file or directory\r\n",
      "rm: ../book/_toc.yml: No such file or directory\r\n",
      "rm: ../book/content/demo.ipynb: No such file or directory\r\n"
     ]
    }
   ],
   "source": [
    "!rm -R ../book/_build/ ../book/_config.yml ../book/_toc.yml ../book/content/demo.ipynb"
   ]
  },
  {
   "cell_type": "markdown",
   "metadata": {},
   "source": [
    "## Creating the content of your book"
   ]
  },
  {
   "cell_type": "code",
   "execution_count": 12,
   "metadata": {},
   "outputs": [
    {
     "name": "stdout",
     "output_type": "stream",
     "text": [
      "\u001b[1m\u001b[36m_build\u001b[m\u001b[m   _toc.yml \u001b[1m\u001b[36mcontent\u001b[m\u001b[m\r\n"
     ]
    }
   ],
   "source": [
    "!ls ../book/"
   ]
  },
  {
   "cell_type": "markdown",
   "metadata": {},
   "source": [
    "We have the demo content of a book inside the `book` folder in the repository. Let's print its current contents:"
   ]
  },
  {
   "cell_type": "code",
   "execution_count": 7,
   "metadata": {},
   "outputs": [
    {
     "name": "stdout",
     "output_type": "stream",
     "text": [
      "\u001b[1m\u001b[36mcontent\u001b[m\u001b[m/\r\n"
     ]
    }
   ],
   "source": [
    "!ls ../book/"
   ]
  },
  {
   "cell_type": "markdown",
   "metadata": {},
   "source": [
    "## Creating the structure of your book"
   ]
  },
  {
   "cell_type": "markdown",
   "metadata": {},
   "source": [
    "To create a jupyter-book we need to have a yaml file specifying the structure of the contents. Let's create that yaml file:"
   ]
  },
  {
   "cell_type": "code",
   "execution_count": 8,
   "metadata": {},
   "outputs": [],
   "source": [
    "from ruamel.yaml import YAML\n",
    "\n",
    "yaml = YAML()\n",
    "\n",
    "toc_document = \"\"\"\n",
    "- file: content/welcome\n",
    "- file: content/reproducible-research/reproducible-research\n",
    "  sections:\n",
    "    - title: Overview\n",
    "      file: content/reproducible-research/overview/overview\n",
    "      sections:\n",
    "      - title: Definitions\n",
    "        file: content/reproducible-research/overview/overview-definitions\n",
    "      - title: Added advantages\n",
    "        file: content/reproducible-research/overview/overview-benefit\n",
    "      - title: Resources\n",
    "        file: content/reproducible-research/overview/overview-resources\n",
    "    - title: Open Research\n",
    "      file: content/reproducible-research/open/open\n",
    "      sections:\n",
    "      - title: Open Data\n",
    "        file: content/reproducible-research/open/open-data\n",
    "      - title: Open Source\n",
    "        file: content/reproducible-research/open/open-source\n",
    "      - title: Open Hardware\n",
    "        file: content/reproducible-research/open/open-hardware\n",
    "      - title: Open Access\n",
    "        file: content/reproducible-research/open/open-access\n",
    "      - title: Open Notebooks\n",
    "        file: content/reproducible-research/open/open-notebooks\n",
    "      - title: Open Scholarship\n",
    "        file: content/reproducible-research/open/open-scholarship\n",
    "\"\"\"\n",
    "\n",
    "toc_file = open('../book/_toc.yml', 'w')\n",
    "yaml.dump(yaml.load(toc_document), toc_file)\n"
   ]
  },
  {
   "cell_type": "markdown",
   "metadata": {},
   "source": [
    "Our book now contains a `_toc.yml` file besides a content folder:"
   ]
  },
  {
   "cell_type": "code",
   "execution_count": 9,
   "metadata": {},
   "outputs": [
    {
     "name": "stdout",
     "output_type": "stream",
     "text": [
      "_toc.yml  \u001b[1m\u001b[36mcontent\u001b[m\u001b[m/\r\n"
     ]
    }
   ],
   "source": [
    "!ls ../book/"
   ]
  },
  {
   "cell_type": "markdown",
   "metadata": {},
   "source": [
    "We can now create our first jupyter-book! This can be achieved by runnin `jb build {path-to-book}`. Let's try it:"
   ]
  },
  {
   "cell_type": "markdown",
   "metadata": {},
   "source": [
    "## Building your book"
   ]
  },
  {
   "cell_type": "code",
   "execution_count": 11,
   "metadata": {},
   "outputs": [
    {
     "name": "stdout",
     "output_type": "stream",
     "text": [
      "\u001b[32m\u001b[1mRunning Jupyter-Book v0.8.0\u001b[0m\n",
      "\u001b[34m\u001b[1mSource Folder: \u001b[0m/Users/martina.gonzales/Projects/talks/jupytercon_tutorial/notebooks/../book\n",
      "\u001b[34m\u001b[1mConfig Path: \u001b[0mNone\n",
      "\u001b[34m\u001b[1mOutput Path: \u001b[0m/Users/martina.gonzales/Projects/talks/jupytercon_tutorial/notebooks/../book/_build/html\n",
      "\u001b[01mRunning Sphinx v3.2.1\u001b[39;49;00m\n",
      "\u001b[01mmaking output directory... \u001b[39;49;00mdone\n",
      "\u001b[01mmyst v0.12.9:\u001b[39;49;00m MdParserConfig(renderer='sphinx', commonmark_only=False, dmath_enable=True, dmath_allow_labels=True, dmath_allow_space=True, dmath_allow_digits=True, amsmath_enable=False, deflist_enable=False, update_mathjax=True, admonition_enable=False, figure_enable=False, disable_syntax=[], html_img_enable=False, url_schemes=['mailto', 'http', 'https'], heading_anchors=None)\n",
      "\u001b[01mbuilding [mo]: \u001b[39;49;00mtargets for 0 po files that are out of date\n",
      "\u001b[01mbuilding [html]: \u001b[39;49;00mtargets for 13 source files that are out of date\n",
      "\u001b[01mupdating environment: \u001b[39;49;00m[new config] 13 added, 0 changed, 0 removed\n",
      "\u001b[01mchecking for /Users/martina.gonzales/Projects/talks/jupytercon_tutorial/book/content/references.bib in bibtex cache... \u001b[39;49;00mnot found\n",
      "\u001b[01mparsing bibtex file /Users/martina.gonzales/Projects/talks/jupytercon_tutorial/book/content/references.bib... \u001b[39;49;00mparsed 33 entries\n",
      "\u001b[01mchecking for /Users/martina.gonzales/Projects/talks/jupytercon_tutorial/book/content/references.bib in bibtex cache... \u001b[39;49;00mup to date\n",
      "\u001b[01mchecking for /Users/martina.gonzales/Projects/talks/jupytercon_tutorial/book/content/references.bib in bibtex cache... \u001b[39;49;00mup to date\n",
      "\u001b[01mreading sources... \u001b[39;49;00m[100%] \u001b[35mcontent/welcome\u001b[39;49;00m                                       00m\n",
      "\u001b[01mlooking for now-outdated files... \u001b[39;49;00mnone found\n",
      "\u001b[01mpickling environment... \u001b[39;49;00mdone\n",
      "\u001b[01mchecking consistency... \u001b[39;49;00mdone\n",
      "\u001b[01mpreparing documents... \u001b[39;49;00mdone\n",
      "\u001b[01mwriting output... \u001b[39;49;00m[100%] \u001b[32mcontent/welcome\u001b[39;49;00m                                        0m0m\n",
      "\u001b[01mgenerating indices... \u001b[39;49;00m genindexdone\n",
      "\u001b[01mwriting additional pages... \u001b[39;49;00m searchdone\n",
      "\u001b[01mcopying images... \u001b[39;49;00m[100%] \u001b[33mcontent/./figures/welcome.jpg\u001b[39;49;00m                          9;00m.jpg\u001b[39;49;00m9;00m\n",
      "\u001b[01mcopying static files... ... \u001b[39;49;00mdone\n",
      "\u001b[01mcopying extra files... \u001b[39;49;00mdone\n",
      "\u001b[01mdumping search index in English (code: en)... \u001b[39;49;00mdone\n",
      "\u001b[01mdumping object inventory... \u001b[39;49;00mdone\n",
      "\u001b[01mbuild succeeded.\u001b[39;49;00m\n",
      "\n",
      "The HTML pages are in ../book/_build/html.\n",
      "\n",
      "\u001b[92m===============================================================================\u001b[0m\n",
      "\n",
      "Finished generating HTML for book.\n",
      "Your book's HTML pages are here:\n",
      "    ../book/_build/html/\n",
      "You can look at your book by opening this file in a browser:\n",
      "    ../book/_build/html/index.html\n",
      "Or paste this line directly into your browser bar:\n",
      "    file:///Users/martina.gonzales/Projects/talks/jupytercon_tutorial/book/_build/html/index.html            \n",
      "\n",
      "\u001b[92m===============================================================================\u001b[0m\n",
      "\n"
     ]
    }
   ],
   "source": [
    "!jb build ../book/"
   ]
  },
  {
   "cell_type": "markdown",
   "metadata": {},
   "source": [
    "Our book is built! We now have `_build` folder in our book path:"
   ]
  },
  {
   "cell_type": "code",
   "execution_count": 13,
   "metadata": {},
   "outputs": [
    {
     "name": "stdout",
     "output_type": "stream",
     "text": [
      "\u001b[1m\u001b[36m_build\u001b[m\u001b[m   _toc.yml \u001b[1m\u001b[36mcontent\u001b[m\u001b[m\r\n"
     ]
    }
   ],
   "source": [
    "!ls ../book/"
   ]
  },
  {
   "cell_type": "markdown",
   "metadata": {},
   "source": [
    "And we can locally deploy our book! To view it, paste into a new tab on your browser the path specified by the `build` command at the very bottom of the output."
   ]
  },
  {
   "cell_type": "markdown",
   "metadata": {},
   "source": [
    "## Configuring your book"
   ]
  },
  {
   "cell_type": "markdown",
   "metadata": {},
   "source": [
    "But this book is very basic! We can tweek some of its parameters by creating a `_config` file. Let's do this:"
   ]
  },
  {
   "cell_type": "code",
   "execution_count": 14,
   "metadata": {},
   "outputs": [],
   "source": [
    "yaml = YAML()\n",
    "config_document = \"\"\"\n",
    "#######################################################################################\n",
    "# A default configuration that will be loaded for all jupyter books\n",
    "# Users are expected to override these values in their own `_config.yml` file.\n",
    "# This is also the \"master list\" of all allowed keys and values.\n",
    "\n",
    "#######################################################################################\n",
    "# Book settings\n",
    "title                       : The Turing Way  # The title of the book. Will be placed in the left navbar.\n",
    "author                      : The Turing Way Community  # The author of the book\n",
    "copyright                   : \"2020\"  # Copyright year to be placed in the footer\n",
    "logo                        : \"./content/figures/logo.png\"  # A path to the book logo\n",
    "email                       : \"theturingway@gmail.com\"\n",
    "exclude_patterns            : [\"LICENSE.md\"]  # Patterns to skip when building the book. Can be glob-style (e.g. \"*skip.ipynb\")\n",
    "\n",
    "#######################################################################################\n",
    "# Execution settings\n",
    "execute:\n",
    "  execute_notebooks         : auto  # Whether to execute notebooks at build time. Must be one of (\"auto\", \"force\", \"cache\", \"off\")\n",
    "  cache                     : \"\"  # A path to the jupyter cache that will be used to store execution artifacs. Defaults to `_build/.jupyter_cache/`\n",
    "  exclude_patterns          : [\"LICENSE.md\"]  # A list of patterns to *skip* in execution (e.g. a notebook that takes a really long time)\n",
    "\n",
    "#######################################################################################\n",
    "# HTML-specific settings\n",
    "html:\n",
    "  favicon                   : \"./content/figures/favicon-32x32.png\"  # A path to a favicon image\n",
    "  navbar_number_sections    : False  # Add a number to each section in your left navbar\n",
    "  google_analytics_id       : \"UA-167881009-1\"  # A GA id that can be used to track book views.\n",
    "  home_page_in_navbar       : true  # Whether to include your home page in the left Navigation Bar\n",
    "  use_edit_page_button      : true  # Whether to add an \"edit this page\" button to pages. If `true`, repository information in repository: must be filled in\n",
    "  baseurl                   : \"https://the-turing-way.netlify.com\"  # The base URL where your book will be hosted. Used for creating image previews and social links. e.g.: https://mypage.com/mybook/\n",
    "  navbar_footer_text        :\n",
    "    'Visit our <a href=\"https://github.com/alan-turing-institute/the-turing-way\">GitHub Repository</a>\n",
    "    <div>\n",
    "    This book is powered by <a href=\"https://jupyterbook.org\">Jupyter Book</a>\n",
    "    </div>'  # Will be displayed underneath the left navbar.\n",
    "\n",
    "#######################################################################################\n",
    "# Launch button settings\n",
    "launch_buttons:\n",
    "  notebook_interface        : \"classic\"  # The interface interactive links will activate [\"classic\", \"jupyterlab\"]\n",
    "  binderhub_url             : \"https://mybinder.org\"  # The URL of the BinderHub (e.g., https://mybinder.org)\n",
    "  jupyterhub_url            : \"\"  # The URL of the JupyterHub (e.g., https://datahub.berkeley.edu)\n",
    "  thebelab                  : false  # Add a thebelab button to pages (requires the repository to run on Binder)\n",
    "\n",
    "repository:\n",
    "  url                       : https://github.com/alan-turing-institute/the-turing-way  # The URL to your book's repository\n",
    "  path_to_book              : \"book/website\"  # A path to your book's folder, relative to the repository root.\n",
    "  branch                    : master  # Which branch of the repository should be used when creating links\n",
    "\n",
    "#######################################################################################\n",
    "# Advanced and power-user settings\n",
    "sphinx:\n",
    "  extra_extensions          :  # A list of extra extensions to load by Sphinx.\n",
    "  config                    : \"\"  # key-value pairs to directly over-ride the Sphinx configuration\n",
    "\n",
    "#######################################################################################\n",
    "\"\"\"\n",
    "\n",
    "config_file = open('../book/_config.yml', 'w')\n",
    "yaml.dump(yaml.load(config_document), config_file)\n"
   ]
  },
  {
   "cell_type": "markdown",
   "metadata": {},
   "source": [
    "We can check that we have added the `_config.yml` to our book path:"
   ]
  },
  {
   "cell_type": "code",
   "execution_count": 15,
   "metadata": {},
   "outputs": [
    {
     "name": "stdout",
     "output_type": "stream",
     "text": [
      "\u001b[1m\u001b[36m_build\u001b[m\u001b[m      _config.yml _toc.yml    \u001b[1m\u001b[36mcontent\u001b[m\u001b[m\r\n"
     ]
    }
   ],
   "source": [
    "!ls ../book/"
   ]
  },
  {
   "cell_type": "markdown",
   "metadata": {},
   "source": [
    "And we can re-build our book:"
   ]
  },
  {
   "cell_type": "code",
   "execution_count": 16,
   "metadata": {},
   "outputs": [
    {
     "name": "stdout",
     "output_type": "stream",
     "text": [
      "\u001b[32m\u001b[1mRunning Jupyter-Book v0.8.0\u001b[0m\n",
      "\u001b[34m\u001b[1mSource Folder: \u001b[0m/Users/martina.gonzales/Projects/talks/jupytercon_tutorial/notebooks/../book\n",
      "\u001b[34m\u001b[1mConfig Path: \u001b[0m/Users/martina.gonzales/Projects/talks/jupytercon_tutorial/notebooks/../book/_config.yml\n",
      "\u001b[34m\u001b[1mOutput Path: \u001b[0m/Users/martina.gonzales/Projects/talks/jupytercon_tutorial/notebooks/../book/_build/html\n",
      "\n",
      "\u001b[93m===============================================================================\u001b[0m\n",
      "\n",
      "Warning: Validation errors in config:\n",
      "- '' is not of type 'null', 'object' [key path: 'sphinx/config']\n",
      "\n",
      "\u001b[93m===============================================================================\u001b[0m\n",
      "\n",
      "\u001b[01mRunning Sphinx v3.2.1\u001b[39;49;00m\n",
      "\u001b[01mloading pickled environment... \u001b[39;49;00mdone\n",
      "\u001b[01mmyst v0.12.9:\u001b[39;49;00m MdParserConfig(renderer='sphinx', commonmark_only=False, dmath_enable=True, dmath_allow_labels=True, dmath_allow_space=True, dmath_allow_digits=True, amsmath_enable=False, deflist_enable=False, update_mathjax=True, admonition_enable=False, figure_enable=False, disable_syntax=[], html_img_enable=False, url_schemes=['mailto', 'http', 'https'], heading_anchors=None)\n",
      "\u001b[01mbuilding [mo]: \u001b[39;49;00mtargets for 0 po files that are out of date\n",
      "\u001b[01mbuilding [html]: \u001b[39;49;00mtargets for 13 source files that are out of date\n",
      "\u001b[01mupdating environment: \u001b[39;49;00m[config changed ('author')] 13 added, 0 changed, 0 removed\n",
      "\u001b[01mchecking for /Users/martina.gonzales/Projects/talks/jupytercon_tutorial/book/content/references.bib in bibtex cache... \u001b[39;49;00mup to date\n",
      "\u001b[01mchecking for /Users/martina.gonzales/Projects/talks/jupytercon_tutorial/book/content/references.bib in bibtex cache... \u001b[39;49;00mup to date\n",
      "\u001b[01mchecking for /Users/martina.gonzales/Projects/talks/jupytercon_tutorial/book/content/references.bib in bibtex cache... \u001b[39;49;00mup to date\n",
      "\u001b[01mreading sources... \u001b[39;49;00m[100%] \u001b[35mcontent/welcome\u001b[39;49;00m                                       00m\n",
      "\u001b[01mlooking for now-outdated files... \u001b[39;49;00mnone found\n",
      "\u001b[01mpickling environment... \u001b[39;49;00mdone\n",
      "\u001b[01mchecking consistency... \u001b[39;49;00mdone\n",
      "\u001b[01mpreparing documents... \u001b[39;49;00mdone\n",
      "\u001b[01mwriting output... \u001b[39;49;00m[100%] \u001b[32mcontent/welcome\u001b[39;49;00m                                        0m0m\n",
      "\u001b[01mgenerating indices... \u001b[39;49;00m genindexdone\n",
      "\u001b[01mwriting additional pages... \u001b[39;49;00m searchdone\n",
      "\u001b[01mcopying images... \u001b[39;49;00m[100%] \u001b[33mcontent/./figures/welcome.jpg\u001b[39;49;00m                          9;00m.jpg\u001b[39;49;00m9;00m\n",
      "\u001b[01mcopying static files... ... \u001b[39;49;00mdone\n",
      "\u001b[01mcopying extra files... \u001b[39;49;00mdone\n",
      "\u001b[01mdumping search index in English (code: en)... \u001b[39;49;00mdone\n",
      "\u001b[01mdumping object inventory... \u001b[39;49;00mdone\n",
      "\u001b[01mbuild succeeded.\u001b[39;49;00m\n",
      "\n",
      "The HTML pages are in ../book/_build/html.\n",
      "\n",
      "\u001b[92m===============================================================================\u001b[0m\n",
      "\n",
      "Finished generating HTML for book.\n",
      "Your book's HTML pages are here:\n",
      "    ../book/_build/html/\n",
      "You can look at your book by opening this file in a browser:\n",
      "    ../book/_build/html/index.html\n",
      "Or paste this line directly into your browser bar:\n",
      "    file:///Users/martina.gonzales/Projects/talks/jupytercon_tutorial/book/_build/html/index.html            \n",
      "\n",
      "\u001b[92m===============================================================================\u001b[0m\n",
      "\n"
     ]
    }
   ],
   "source": [
    "!jb build ../book/"
   ]
  },
  {
   "cell_type": "markdown",
   "metadata": {},
   "source": [
    "This looks much better!"
   ]
  },
  {
   "cell_type": "markdown",
   "metadata": {},
   "source": [
    "## Adding Jupyter-Notebooks to your book"
   ]
  },
  {
   "cell_type": "markdown",
   "metadata": {},
   "source": [
    "But so far we have created a book based on markdown files only. We can also add jupyter-notebooks to our book!"
   ]
  },
  {
   "cell_type": "markdown",
   "metadata": {},
   "source": [
    "to-do: (modify notebook)"
   ]
  },
  {
   "cell_type": "markdown",
   "metadata": {},
   "source": [
    "__EXERCISE__: add notebook to the `toc` file as a separate chapter similar to the `open` one"
   ]
  },
  {
   "cell_type": "code",
   "execution_count": 17,
   "metadata": {},
   "outputs": [],
   "source": [
    "!cp demo.ipynb ../book/content/demo.ipynb"
   ]
  },
  {
   "cell_type": "code",
   "execution_count": 18,
   "metadata": {},
   "outputs": [
    {
     "name": "stdout",
     "output_type": "stream",
     "text": [
      "demo.ipynb            \u001b[31mreferences.bib\u001b[m\u001b[m        welcome.md\r\n",
      "\u001b[1m\u001b[36mfigures\u001b[m\u001b[m               \u001b[1m\u001b[36mreproducible-research\u001b[m\u001b[m\r\n"
     ]
    }
   ],
   "source": [
    "! ls ../book/content/"
   ]
  },
  {
   "cell_type": "code",
   "execution_count": 19,
   "metadata": {},
   "outputs": [],
   "source": [
    "yaml = YAML()\n",
    "\n",
    "toc_document = \"\"\"\n",
    "- file: content/welcome\n",
    "- file: content/reproducible-research/reproducible-research\n",
    "  sections:\n",
    "    - title: Overview\n",
    "      file: content/reproducible-research/overview/overview\n",
    "      sections:\n",
    "      - title: Definitions\n",
    "        file: content/reproducible-research/overview/overview-definitions\n",
    "      - title: Added advantages\n",
    "        file: content/reproducible-research/overview/overview-benefit\n",
    "      - title: Resources\n",
    "        file: content/reproducible-research/overview/overview-resources\n",
    "    - title: Open Research\n",
    "      file: content/reproducible-research/open/open\n",
    "      sections:\n",
    "      - title: Open Data\n",
    "        file: content/reproducible-research/open/open-data\n",
    "      - title: Open Source\n",
    "        file: content/reproducible-research/open/open-source\n",
    "      - title: Open Hardware\n",
    "        file: content/reproducible-research/open/open-hardware\n",
    "      - title: Open Access\n",
    "        file: content/reproducible-research/open/open-access\n",
    "      - title: Open Notebooks\n",
    "        file: content/reproducible-research/open/open-notebooks\n",
    "      - title: Open Scholarship\n",
    "        file: content/reproducible-research/open/open-scholarship\n",
    "- file: content/demo\n",
    "  title: Reproducible Notebooks\n",
    "\"\"\"\n",
    "\n",
    "toc_file = open('../book/_toc.yml', 'w')\n",
    "yaml.dump(yaml.load(toc_document), toc_file)"
   ]
  },
  {
   "cell_type": "code",
   "execution_count": 20,
   "metadata": {},
   "outputs": [
    {
     "name": "stdout",
     "output_type": "stream",
     "text": [
      "\u001b[32m\u001b[1mRunning Jupyter-Book v0.8.0\u001b[0m\n",
      "\u001b[34m\u001b[1mSource Folder: \u001b[0m/Users/martina.gonzales/Projects/talks/jupytercon_tutorial/notebooks/../book\n",
      "\u001b[34m\u001b[1mConfig Path: \u001b[0m/Users/martina.gonzales/Projects/talks/jupytercon_tutorial/notebooks/../book/_config.yml\n",
      "\u001b[34m\u001b[1mOutput Path: \u001b[0m/Users/martina.gonzales/Projects/talks/jupytercon_tutorial/notebooks/../book/_build/html\n",
      "\n",
      "\u001b[93m===============================================================================\u001b[0m\n",
      "\n",
      "Warning: Validation errors in config:\n",
      "- '' is not of type 'null', 'object' [key path: 'sphinx/config']\n",
      "\n",
      "\u001b[93m===============================================================================\u001b[0m\n",
      "\n",
      "\u001b[01mRunning Sphinx v3.2.1\u001b[39;49;00m\n",
      "\u001b[01mmyst v0.12.9:\u001b[39;49;00m MdParserConfig(renderer='sphinx', commonmark_only=False, dmath_enable=True, dmath_allow_labels=True, dmath_allow_space=True, dmath_allow_digits=True, amsmath_enable=False, deflist_enable=False, update_mathjax=True, admonition_enable=False, figure_enable=False, disable_syntax=[], html_img_enable=False, url_schemes=['mailto', 'http', 'https'], heading_anchors=None)\n",
      "\u001b[01mbuilding [mo]: \u001b[39;49;00mtargets for 0 po files that are out of date\n",
      "\u001b[01mbuilding [html]: \u001b[39;49;00mtargets for 14 source files that are out of date\n",
      "\u001b[01mupdating environment: \u001b[39;49;00m[new config] 14 added, 0 changed, 0 removed\n",
      "Executing: content/demo in: /Users/martina.gonzales/Projects/talks/jupytercon_tutorial/book/content             \n",
      "\u001b[01mchecking for /Users/martina.gonzales/Projects/talks/jupytercon_tutorial/book/content/references.bib in bibtex cache... \u001b[39;49;00mnot found\n",
      "\u001b[01mparsing bibtex file /Users/martina.gonzales/Projects/talks/jupytercon_tutorial/book/content/references.bib... \u001b[39;49;00mparsed 33 entries\n",
      "\u001b[01mchecking for /Users/martina.gonzales/Projects/talks/jupytercon_tutorial/book/content/references.bib in bibtex cache... \u001b[39;49;00mup to date\n",
      "\u001b[01mchecking for /Users/martina.gonzales/Projects/talks/jupytercon_tutorial/book/content/references.bib in bibtex cache... \u001b[39;49;00mup to date\n",
      "\u001b[01mreading sources... \u001b[39;49;00m[100%] \u001b[35mcontent/welcome\u001b[39;49;00m                                       00m\n",
      "\u001b[01mlooking for now-outdated files... \u001b[39;49;00mnone found\n",
      "\u001b[01mpickling environment... \u001b[39;49;00mdone\n",
      "\u001b[01mchecking consistency... \u001b[39;49;00mdone\n",
      "\u001b[01mpreparing documents... \u001b[39;49;00mdone\n",
      "\u001b[01mwriting output... \u001b[39;49;00m[100%] \u001b[32mcontent/welcome\u001b[39;49;00m                                        0m0m\n",
      "\u001b[01mgenerating indices... \u001b[39;49;00m genindexdone\n",
      "\u001b[01mwriting additional pages... \u001b[39;49;00m searchdone\n",
      "\u001b[01mcopying images... \u001b[39;49;00m[100%] \u001b[33mcontent/./figures/welcome.jpg\u001b[39;49;00m                          9;00m.jpg\u001b[39;49;00m9;00m\n",
      "\u001b[01mcopying static files... ... \u001b[39;49;00mdone\n",
      "\u001b[01mcopying extra files... \u001b[39;49;00mdone\n",
      "\u001b[01mdumping search index in English (code: en)... \u001b[39;49;00mdone\n",
      "\u001b[01mdumping object inventory... \u001b[39;49;00mdone\n",
      "\u001b[01mbuild succeeded.\u001b[39;49;00m\n",
      "\n",
      "The HTML pages are in ../book/_build/html.\n",
      "\n",
      "\u001b[92m===============================================================================\u001b[0m\n",
      "\n",
      "Finished generating HTML for book.\n",
      "Your book's HTML pages are here:\n",
      "    ../book/_build/html/\n",
      "You can look at your book by opening this file in a browser:\n",
      "    ../book/_build/html/index.html\n",
      "Or paste this line directly into your browser bar:\n",
      "    file:///Users/martina.gonzales/Projects/talks/jupytercon_tutorial/book/_build/html/index.html            \n",
      "\n",
      "\u001b[92m===============================================================================\u001b[0m\n",
      "\n"
     ]
    }
   ],
   "source": [
    "!jb build ../book/"
   ]
  },
  {
   "cell_type": "markdown",
   "metadata": {},
   "source": [
    "## Common problems and trouble-shooting"
   ]
  },
  {
   "cell_type": "code",
   "execution_count": null,
   "metadata": {},
   "outputs": [],
   "source": []
  }
 ],
 "metadata": {
  "celltoolbar": "Edit Metadata",
  "kernelspec": {
   "display_name": "Python 3",
   "language": "python",
   "name": "python3"
  },
  "language_info": {
   "codemirror_mode": {
    "name": "ipython",
    "version": 3
   },
   "file_extension": ".py",
   "mimetype": "text/x-python",
   "name": "python",
   "nbconvert_exporter": "python",
   "pygments_lexer": "ipython3",
   "version": "3.8.5"
  }
 },
 "nbformat": 4,
 "nbformat_minor": 4
}
