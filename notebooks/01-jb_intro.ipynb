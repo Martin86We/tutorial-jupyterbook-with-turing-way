{
 "cells": [
  {
   "cell_type": "markdown",
   "metadata": {},
   "source": [
    "# Introduction to Jupyter Book"
   ]
  },
  {
   "cell_type": "markdown",
   "metadata": {},
   "source": [
    "Welcome! In this Jupyter Notebook we will introduce the basic commands to generate your first Jupyter Book. \n",
    "\n",
    "If you haven't already, we highly recommend you check-out the awesome and very detailed [documentation](https://jupyterbook.org/intro.html) of Jupyter-Book, and its [GitHub repository](https://github.com/executablebooks/jupyter-book). "
   ]
  },
  {
   "cell_type": "markdown",
   "metadata": {},
   "source": [
    "Jupyter Book has a [command-line interface](https://jupyterbook.org/reference/cli.html), so in this tutorial we will show you how to build your book using iPython's special syntax that let's you execute shell commands from a Jupyter Notebook. In this example we will do so by prefixing `!` in each cell.\n",
    "\n",
    "__TIP__: If you are unfamiliar with executing shell commands from Jupyter Notebooks, you can read this [tutorial](https://jakevdp.github.io/PythonDataScienceHandbook/01.05-ipython-and-shell-commands.html) written by Jake VanderPlas.\n"
   ]
  },
  {
   "cell_type": "markdown",
   "metadata": {},
   "source": [
    "Before starting, run the command below to make sure you start from scratch your Jupyter Book build."
   ]
  },
  {
   "cell_type": "code",
   "execution_count": 70,
   "metadata": {},
   "outputs": [],
   "source": [
    "!rm -R ../book/_build/ ../book/_config.yml ../book/_toc.yml ../book/content/demo.ipynb"
   ]
  },
  {
   "cell_type": "markdown",
   "metadata": {},
   "source": [
    "## Creating the content of your book based on _The Turing Way_"
   ]
  },
  {
   "cell_type": "markdown",
   "metadata": {},
   "source": [
    "In order to build our Jupyter Book, we first need to create a folder with its contents. This will also be the folder where the `html` files will be created in order to host the book online. \n",
    "\n",
    "We have already created a `book` folder in the main repository (you don't need to name it `book`, it can be anything). Let's inspect its contents:"
   ]
  },
  {
   "cell_type": "code",
   "execution_count": 23,
   "metadata": {},
   "outputs": [
    {
     "name": "stdout",
     "output_type": "stream",
     "text": [
      "\u001b[1m\u001b[36mcontent\u001b[m\u001b[m\r\n"
     ]
    }
   ],
   "source": [
    "!ls ../book/"
   ]
  },
  {
   "cell_type": "markdown",
   "metadata": {},
   "source": [
    "So far, we only have a `content`folder. In this tutorial, we have already created some content of the book based on some of the chapters of [__The Turing Way__](https://the-turing-way.netlify.app/welcome.html).\n",
    "\n",
    "The Turing Way is {TODO: COMPLETE WITH INFORMATION WE WANT TO SAY ABOUT THE TURING WAY}"
   ]
  },
  {
   "cell_type": "markdown",
   "metadata": {},
   "source": [
    "Let's now inspect what's inside the `content` sub-folder:"
   ]
  },
  {
   "cell_type": "code",
   "execution_count": 24,
   "metadata": {},
   "outputs": [
    {
     "name": "stdout",
     "output_type": "stream",
     "text": [
      "\u001b[1m\u001b[36m01_reproducible-research\u001b[m\u001b[m \u001b[31mreferences.bib\u001b[m\u001b[m\r\n",
      "\u001b[1m\u001b[36mfigures\u001b[m\u001b[m                  welcome.md\r\n"
     ]
    }
   ],
   "source": [
    "!ls ../book/content"
   ]
  },
  {
   "cell_type": "markdown",
   "metadata": {},
   "source": [
    "As you can see, we have already created a `welcome.md` file that will serve as the index of your book. We also have a folder named `01_reproducible-research` that contains the necessary content of one of the chapters of your book, and a folder named `figures` that contains the images that we will be using. Finally, we have a `references.bib` file that has the bibliography of the book."
   ]
  },
  {
   "cell_type": "markdown",
   "metadata": {},
   "source": [
    "But are all these files enough to build our Jupyter Book? They are not! We haven't specified the structure of our book yet. Let's do this in the next section."
   ]
  },
  {
   "cell_type": "markdown",
   "metadata": {},
   "source": [
    "## Creating the structure of your book"
   ]
  },
  {
   "cell_type": "markdown",
   "metadata": {},
   "source": [
    "To create a jupyter-book we need to have a file that specifies the structure of the content, that is, a file that defines which files belong to each the chapters, and also their order. In other words, we need to specify the __Table Of Contents (TOC)__ of our book. \n",
    "\n",
    "Jupyter Book defines its TOC using a `yml` file that needs to be named `_toc.yml`. This can be created manually, or automatically by running:\n",
    "\n",
    "```shell\n",
    "$ jupyter-book toc {path}\n",
    "```\n",
    "\n",
    "as long as the intended structure is also ordered alphanumerically."
   ]
  },
  {
   "cell_type": "markdown",
   "metadata": {},
   "source": [
    "In this tutorial we will manually define our `_toc.yml` using the python library [ruamel.yaml](https://yaml.readthedocs.io/en/latest/):"
   ]
  },
  {
   "cell_type": "code",
   "execution_count": 25,
   "metadata": {},
   "outputs": [],
   "source": [
    "from ruamel.yaml import YAML\n",
    "\n",
    "yaml = YAML()\n",
    "\n",
    "# Define the contents of our _toc.yml\n",
    "toc_document = \"\"\"\n",
    "- file: content/welcome\n",
    "- file: content/01_reproducible-research/reproducible-research\n",
    "  chapters:\n",
    "    - title: Overview\n",
    "      file: content/01_reproducible-research/01_overview/00_overview\n",
    "      sections:\n",
    "      - title: Definitions\n",
    "        file: content/01_reproducible-research/01_overview/01_overview-definitions\n",
    "      - title: Added advantages\n",
    "        file: content/01_reproducible-research/01_overview/02_overview-benefit\n",
    "      - title: Resources\n",
    "        file: content/01_reproducible-research/01_overview/03_overview-resources\n",
    "    - title: Open Research\n",
    "      file: content/01_reproducible-research/02_open/00_open\n",
    "      sections:\n",
    "      - title: Open Data\n",
    "        file: content/01_reproducible-research/02_open/01_open-data\n",
    "      - title: Open Source\n",
    "        file: content/01_reproducible-research/02_open/02_open-source\n",
    "      - title: Open Hardware\n",
    "        file: content/01_reproducible-research/02_open/03_open-hardware\n",
    "      - title: Open Access\n",
    "        file: content/01_reproducible-research/02_open/04_open-access\n",
    "      - title: Open Notebooks\n",
    "        file: content/01_reproducible-research/02_open/05_open-notebooks\n",
    "      - title: Open Scholarship\n",
    "        file: content/01_reproducible-research/02_open/06_open-scholarship\n",
    "\"\"\"\n",
    "\n",
    "# Save _toc.yml in the book directory\n",
    "toc_file = open('../book/_toc.yml', 'w')\n",
    "yaml.dump(yaml.load(toc_document), toc_file)\n"
   ]
  },
  {
   "cell_type": "markdown",
   "metadata": {},
   "source": [
    "Important things to note of our example are:\n",
    "\n",
    "- `file`s point to the location of our markdown files relative to the main directory.\n",
    "- Each file can be accompanied by a `title` description that will define the name that appears in the main toc of our book. If `title` is not specified (as in our welcome file), the first title in our markdown file will be used. \n",
    "- The first `file` defined in our `_toc.yml` will be the index of our book.\n",
    "- We can define the hierarchical structure of our book by using the `chapters` and `sections` specification.\n",
    "    - _Note_: we could also use `sections` instead of `chapters` and the structure will be the same."
   ]
  },
  {
   "cell_type": "markdown",
   "metadata": {},
   "source": [
    "There are more advanced features that we can define in our `_toc.yml` file, such as dividing our book into parts, or numbering sections. You can read more about them in the [official documentation](https://jupyterbook.org/customize/toc.html), and some will be covered in an exercise later on."
   ]
  },
  {
   "cell_type": "markdown",
   "metadata": {},
   "source": [
    "## Building your book"
   ]
  },
  {
   "cell_type": "markdown",
   "metadata": {},
   "source": [
    "Let's check that our `book` directory now contains the `_toc.yml` file besides a content folder:"
   ]
  },
  {
   "cell_type": "code",
   "execution_count": 26,
   "metadata": {},
   "outputs": [
    {
     "name": "stdout",
     "output_type": "stream",
     "text": [
      "_toc.yml \u001b[1m\u001b[36mcontent\u001b[m\u001b[m\r\n"
     ]
    }
   ],
   "source": [
    "!ls ../book/"
   ]
  },
  {
   "cell_type": "markdown",
   "metadata": {},
   "source": [
    "It does! That means we can now create our first Jupyter Book. This can be achieved by executing the command \n",
    "\n",
    "```shell\n",
    "$ jupyter-book build {path-to-book}\n",
    "``` \n",
    "\n",
    "Let's try it:"
   ]
  },
  {
   "cell_type": "code",
   "execution_count": 27,
   "metadata": {},
   "outputs": [
    {
     "name": "stdout",
     "output_type": "stream",
     "text": [
      "\u001b[32m\u001b[1mRunning Jupyter-Book v0.8.0\u001b[0m\n",
      "\u001b[34m\u001b[1mSource Folder: \u001b[0m/Users/martina.gonzales/Projects/talks/jupytercon_tutorial/notebooks/../book\n",
      "\u001b[34m\u001b[1mConfig Path: \u001b[0mNone\n",
      "\u001b[34m\u001b[1mOutput Path: \u001b[0m/Users/martina.gonzales/Projects/talks/jupytercon_tutorial/notebooks/../book/_build/html\n",
      "\u001b[01mRunning Sphinx v3.2.1\u001b[39;49;00m\n",
      "\u001b[01mmaking output directory... \u001b[39;49;00mdone\n",
      "\u001b[01mmyst v0.12.9:\u001b[39;49;00m MdParserConfig(renderer='sphinx', commonmark_only=False, dmath_enable=True, dmath_allow_labels=True, dmath_allow_space=True, dmath_allow_digits=True, amsmath_enable=False, deflist_enable=False, update_mathjax=True, admonition_enable=False, figure_enable=False, disable_syntax=[], html_img_enable=False, url_schemes=['mailto', 'http', 'https'], heading_anchors=None)\n",
      "\u001b[01mbuilding [mo]: \u001b[39;49;00mtargets for 0 po files that are out of date\n",
      "\u001b[01mbuilding [html]: \u001b[39;49;00mtargets for 13 source files that are out of date\n",
      "\u001b[01mupdating environment: \u001b[39;49;00m[new config] 13 added, 0 changed, 0 removed\n",
      "\u001b[01mchecking for /Users/martina.gonzales/Projects/talks/jupytercon_tutorial/book/content/references.bib in bibtex cache... \u001b[39;49;00mnot found\n",
      "\u001b[01mparsing bibtex file /Users/martina.gonzales/Projects/talks/jupytercon_tutorial/book/content/references.bib... \u001b[39;49;00mparsed 33 entries\n",
      "\u001b[01mchecking for /Users/martina.gonzales/Projects/talks/jupytercon_tutorial/book/content/references.bib in bibtex cache... \u001b[39;49;00mup to date\n",
      "\u001b[01mchecking for /Users/martina.gonzales/Projects/talks/jupytercon_tutorial/book/content/references.bib in bibtex cache... \u001b[39;49;00mup to date\n",
      "\u001b[01mreading sources... \u001b[39;49;00m[100%] \u001b[35mcontent/welcome\u001b[39;49;00m                                       49;00m49;00m\n",
      "\u001b[01mlooking for now-outdated files... \u001b[39;49;00mnone found\n",
      "\u001b[01mpickling environment... \u001b[39;49;00mdone\n",
      "\u001b[01mchecking consistency... \u001b[39;49;00mdone\n",
      "\u001b[01mpreparing documents... \u001b[39;49;00mdone\n",
      "\u001b[01mwriting output... \u001b[39;49;00m[100%] \u001b[32mcontent/welcome\u001b[39;49;00m                                        9;00m49;00m0m\n",
      "\u001b[01mgenerating indices... \u001b[39;49;00m genindexdone\n",
      "\u001b[01mwriting additional pages... \u001b[39;49;00m searchdone\n",
      "\u001b[01mcopying images... \u001b[39;49;00m[100%] \u001b[33mcontent/./figures/welcome.jpg\u001b[39;49;00m                          9;49;00m39;49;00m[39;49;00m;00m\n",
      "\u001b[01mcopying static files... ... \u001b[39;49;00mdone\n",
      "\u001b[01mcopying extra files... \u001b[39;49;00mdone\n",
      "\u001b[01mdumping search index in English (code: en)... \u001b[39;49;00mdone\n",
      "\u001b[01mdumping object inventory... \u001b[39;49;00mdone\n",
      "\u001b[01mbuild succeeded.\u001b[39;49;00m\n",
      "\n",
      "The HTML pages are in ../book/_build/html.\n",
      "\n",
      "\u001b[92m===============================================================================\u001b[0m\n",
      "\n",
      "Finished generating HTML for book.\n",
      "Your book's HTML pages are here:\n",
      "    ../book/_build/html/\n",
      "You can look at your book by opening this file in a browser:\n",
      "    ../book/_build/html/index.html\n",
      "Or paste this line directly into your browser bar:\n",
      "    file:///Users/martina.gonzales/Projects/talks/jupytercon_tutorial/book/_build/html/index.html            \n",
      "\n",
      "\u001b[92m===============================================================================\u001b[0m\n",
      "\n"
     ]
    }
   ],
   "source": [
    "!jupyter-book build ../book/"
   ]
  },
  {
   "cell_type": "markdown",
   "metadata": {},
   "source": [
    "Our first Jupyter-Book has been built! We now have a `_build` folder in our book path that contains the `html` files of our book:"
   ]
  },
  {
   "cell_type": "code",
   "execution_count": 38,
   "metadata": {},
   "outputs": [
    {
     "name": "stdout",
     "output_type": "stream",
     "text": [
      "\u001b[1m\u001b[36m_build\u001b[m\u001b[m   _toc.yml \u001b[1m\u001b[36mcontent\u001b[m\u001b[m\r\n"
     ]
    }
   ],
   "source": [
    "!ls ../book/"
   ]
  },
  {
   "cell_type": "markdown",
   "metadata": {},
   "source": [
    "This means we can locally deploy our book! To get a preview, paste the path specified at the very bottom of the `jupyter-book build` output into a new tab on your browser."
   ]
  },
  {
   "cell_type": "markdown",
   "metadata": {},
   "source": [
    "### EXERCISES\n",
    "\n",
    "As mentioned above, the `_toc.yml` file can be modified to do some other things. Read the [official documentation](https://jupyterbook.org/customize/toc.html) and modify the `_toc.yml` to:\n",
    "\n",
    "1. Number the chapters of your book.\n",
    "2. Number the sub-sections of your book separately for each chapter.\n",
    "3. Define the chapters `overview` and `open` as book parts and not sub-sections of the reproducible guide.\n"
   ]
  },
  {
   "cell_type": "markdown",
   "metadata": {},
   "source": [
    "## Configuring your book"
   ]
  },
  {
   "cell_type": "markdown",
   "metadata": {},
   "source": [
    "But our books looks very basic! We are using the default configuration. We can tweek some of the parameters of our book by creating a `_config` file and modifying the relevant sections. Let's do this:"
   ]
  },
  {
   "cell_type": "code",
   "execution_count": 52,
   "metadata": {},
   "outputs": [],
   "source": [
    "config_documents = \"\"\n",
    "config_document = \"\"\"\n",
    "#######################################################################################\n",
    "# Book settings\n",
    "title                       : The Turing Way  # The title of the book. Will be placed in the left navbar.\n",
    "author                      : The Turing Way Community  # The author of the book\n",
    "copyright                   : \"2020\"  # Copyright year to be placed in the footer\n",
    "logo                        : \"./content/figures/logo.png\"  # A path to the book logo\n",
    "\n",
    "\"\"\""
   ]
  },
  {
   "cell_type": "markdown",
   "metadata": {},
   "source": [
    "We start by defining the title and logo of our book that will appear in the navigation bar. We also define some relevant information that will appear on the main page footer. "
   ]
  },
  {
   "cell_type": "markdown",
   "metadata": {},
   "source": [
    "We can also define some specifics of our display:"
   ]
  },
  {
   "cell_type": "code",
   "execution_count": 53,
   "metadata": {},
   "outputs": [],
   "source": [
    "config_document = config_document + \"\"\"\n",
    "#######################################################################################\n",
    "# HTML-specific settings\n",
    "html:\n",
    "  favicon                   : \"./content/figures/favicon-32x32.png\"  # A path to a favicon image\n",
    "  home_page_in_navbar       : false  # Whether to include your home page in the left navigation bar\n",
    "  use_repository_button     : true  # Whether to add a link to your repository button\n",
    "  use_issues_button         : true  # Whether to add an \"open an issue\" button\n",
    "  navbar_footer_text        :\n",
    "    'Visit our <a href=\"https://github.com/alan-turing-institute/the-turing-way\">GitHub Repository</a>\n",
    "    <div>\n",
    "    This book is powered by <a href=\"https://jupyterbook.org\">Jupyter Book</a>\n",
    "    </div>'  # Will be displayed underneath the left navigation bar.\n",
    "\n",
    "\"\"\""
   ]
  },
  {
   "cell_type": "markdown",
   "metadata": {},
   "source": [
    "With the above settings we have:\n",
    "\n",
    "- Added to our book a [favicon](https://en.wikipedia.org/wiki/Favicon)\n",
    "- Exclude the welcome page in our left navigation bar\n",
    "- Allowed readers of our book to visit the corresponding file in our github repository, or open an issue about it so they can modify it, using the buttons at the botton right of our book\n",
    "- Modified the footer of the navigation bar"
   ]
  },
  {
   "cell_type": "markdown",
   "metadata": {},
   "source": [
    "We also need to define some settings of our buttons so that the above configuration works:"
   ]
  },
  {
   "cell_type": "code",
   "execution_count": 54,
   "metadata": {},
   "outputs": [],
   "source": [
    "config_document = config_document + \"\"\"\n",
    "#######################################################################################\n",
    "# Launch button settings\n",
    "repository:\n",
    "  url                       : https://github.com/alan-turing-institute/the-turing-way  # The URL to your book's repository\n",
    "  path_to_book              : \"book/website\"  # A path to your book's folder, relative to the repository root.\n",
    "  branch                    : master  # Which branch of the repository should be used when creating links\n",
    "\n",
    "\"\"\""
   ]
  },
  {
   "cell_type": "markdown",
   "metadata": {},
   "source": [
    "Let's save our configuration file:"
   ]
  },
  {
   "cell_type": "code",
   "execution_count": 55,
   "metadata": {},
   "outputs": [],
   "source": [
    "# Save our _config.yml in the book path\n",
    "config_file = open('../book/_config.yml', 'w')\n",
    "yaml.dump(yaml.load(config_document), config_file)"
   ]
  },
  {
   "cell_type": "markdown",
   "metadata": {},
   "source": [
    "and check that we have added the `_config.yml` to our book path:"
   ]
  },
  {
   "cell_type": "code",
   "execution_count": 56,
   "metadata": {},
   "outputs": [
    {
     "name": "stdout",
     "output_type": "stream",
     "text": [
      "\u001b[1m\u001b[36m_build\u001b[m\u001b[m      _config.yml _toc.yml    \u001b[1m\u001b[36mcontent\u001b[m\u001b[m\r\n"
     ]
    }
   ],
   "source": [
    "!ls ../book/"
   ]
  },
  {
   "cell_type": "markdown",
   "metadata": {},
   "source": [
    "This is of course not all we can specify in the configuration file of our Jupyter Book! Read the [official documentation](https://jupyterbook.org/customize/config.html) for more advanced features. "
   ]
  },
  {
   "cell_type": "markdown",
   "metadata": {},
   "source": [
    "Let's now re-build our book:"
   ]
  },
  {
   "cell_type": "code",
   "execution_count": 57,
   "metadata": {},
   "outputs": [
    {
     "name": "stdout",
     "output_type": "stream",
     "text": [
      "\u001b[32m\u001b[1mRunning Jupyter-Book v0.8.0\u001b[0m\n",
      "\u001b[34m\u001b[1mSource Folder: \u001b[0m/Users/martina.gonzales/Projects/talks/jupytercon_tutorial/notebooks/../book\n",
      "\u001b[34m\u001b[1mConfig Path: \u001b[0m/Users/martina.gonzales/Projects/talks/jupytercon_tutorial/notebooks/../book/_config.yml\n",
      "\u001b[34m\u001b[1mOutput Path: \u001b[0m/Users/martina.gonzales/Projects/talks/jupytercon_tutorial/notebooks/../book/_build/html\n",
      "\u001b[01mRunning Sphinx v3.2.1\u001b[39;49;00m\n",
      "\u001b[01mloading pickled environment... \u001b[39;49;00mdone\n",
      "\u001b[01mmyst v0.12.9:\u001b[39;49;00m MdParserConfig(renderer='sphinx', commonmark_only=False, dmath_enable=True, dmath_allow_labels=True, dmath_allow_space=True, dmath_allow_digits=True, amsmath_enable=False, deflist_enable=False, update_mathjax=True, admonition_enable=False, figure_enable=False, disable_syntax=[], html_img_enable=False, url_schemes=['mailto', 'http', 'https'], heading_anchors=None)\n",
      "\u001b[01mbuilding [mo]: \u001b[39;49;00mtargets for 0 po files that are out of date\n",
      "\u001b[01mbuilding [html]: \u001b[39;49;00mtargets for 13 source files that are out of date\n",
      "\u001b[01mupdating environment: \u001b[39;49;00m[config changed ('exclude_patterns')] 13 added, 0 changed, 0 removed\n",
      "\u001b[01mchecking for /Users/martina.gonzales/Projects/talks/jupytercon_tutorial/book/content/references.bib in bibtex cache... \u001b[39;49;00mup to date\n",
      "\u001b[01mchecking for /Users/martina.gonzales/Projects/talks/jupytercon_tutorial/book/content/references.bib in bibtex cache... \u001b[39;49;00mup to date\n",
      "\u001b[01mchecking for /Users/martina.gonzales/Projects/talks/jupytercon_tutorial/book/content/references.bib in bibtex cache... \u001b[39;49;00mup to date\n",
      "\u001b[01mreading sources... \u001b[39;49;00m[100%] \u001b[35mcontent/welcome\u001b[39;49;00m                                       49;00m49;00m\n",
      "\u001b[01mlooking for now-outdated files... \u001b[39;49;00mnone found\n",
      "\u001b[01mpickling environment... \u001b[39;49;00mdone\n",
      "\u001b[01mchecking consistency... \u001b[39;49;00mdone\n",
      "\u001b[01mpreparing documents... \u001b[39;49;00mdone\n",
      "\u001b[01mwriting output... \u001b[39;49;00m[100%] \u001b[32mcontent/welcome\u001b[39;49;00m                                        9;00m49;00m0m\n",
      "\u001b[01mgenerating indices... \u001b[39;49;00m genindexdone\n",
      "\u001b[01mwriting additional pages... \u001b[39;49;00m searchdone\n",
      "\u001b[01mcopying images... \u001b[39;49;00m[100%] \u001b[33mcontent/./figures/welcome.jpg\u001b[39;49;00m                          9;49;00m39;49;00m[39;49;00m;00m\n",
      "\u001b[01mcopying static files... ... \u001b[39;49;00mdone\n",
      "\u001b[01mcopying extra files... \u001b[39;49;00mdone\n",
      "\u001b[01mdumping search index in English (code: en)... \u001b[39;49;00mdone\n",
      "\u001b[01mdumping object inventory... \u001b[39;49;00mdone\n",
      "\u001b[01mbuild succeeded.\u001b[39;49;00m\n",
      "\n",
      "The HTML pages are in ../book/_build/html.\n",
      "\n",
      "\u001b[92m===============================================================================\u001b[0m\n",
      "\n",
      "Finished generating HTML for book.\n",
      "Your book's HTML pages are here:\n",
      "    ../book/_build/html/\n",
      "You can look at your book by opening this file in a browser:\n",
      "    ../book/_build/html/index.html\n",
      "Or paste this line directly into your browser bar:\n",
      "    file:///Users/martina.gonzales/Projects/talks/jupytercon_tutorial/book/_build/html/index.html            \n",
      "\n",
      "\u001b[92m===============================================================================\u001b[0m\n",
      "\n"
     ]
    }
   ],
   "source": [
    "!jb build ../book/"
   ]
  },
  {
   "cell_type": "markdown",
   "metadata": {},
   "source": [
    "Paste the url to the files and inspect the book again. This looks much better!"
   ]
  },
  {
   "cell_type": "markdown",
   "metadata": {},
   "source": [
    "## Adding Jupyter-Notebooks to your book"
   ]
  },
  {
   "cell_type": "markdown",
   "metadata": {},
   "source": [
    "So far we have created a book based on markdown files only. But we can also add Jupyter Notebooks to our book! We have created a very basic demo notebook to be added as a separate chapter of our book. Let's copy this notebook into our book folder:"
   ]
  },
  {
   "cell_type": "code",
   "execution_count": 63,
   "metadata": {},
   "outputs": [],
   "source": [
    "!cp demo.ipynb ../book/content/demo.ipynb"
   ]
  },
  {
   "cell_type": "markdown",
   "metadata": {},
   "source": [
    "Let's make sure our `content` folder now contains the demo notebook:"
   ]
  },
  {
   "cell_type": "code",
   "execution_count": 64,
   "metadata": {},
   "outputs": [
    {
     "name": "stdout",
     "output_type": "stream",
     "text": [
      "\u001b[1m\u001b[36m01_reproducible-research\u001b[m\u001b[m \u001b[1m\u001b[36mfigures\u001b[m\u001b[m                  welcome.md\r\n",
      "demo.ipynb               \u001b[31mreferences.bib\u001b[m\u001b[m\r\n"
     ]
    }
   ],
   "source": [
    "! ls ../book/content/"
   ]
  },
  {
   "cell_type": "markdown",
   "metadata": {},
   "source": [
    "#### EXERCISE\n",
    "\n",
    "We now need to modify the `_toc.yml` to include our Jupyter Notebook. \n",
    "\n",
    "Modify the original structure to include `demo` at the same level as the file `reproducible-research`:"
   ]
  },
  {
   "cell_type": "code",
   "execution_count": 65,
   "metadata": {},
   "outputs": [],
   "source": [
    "### BEGIN SOLUTION\n",
    "# Your answer here\n",
    "### END SOLUTION"
   ]
  },
  {
   "cell_type": "code",
   "execution_count": 68,
   "metadata": {},
   "outputs": [],
   "source": [
    "## ANSWER\n",
    "yaml = YAML()\n",
    "\n",
    "toc_document = \"\"\"\n",
    "- file: content/welcome\n",
    "- file: content/01_reproducible-research/reproducible-research\n",
    "  chapters:\n",
    "    - title: Overview\n",
    "      file: content/01_reproducible-research/01_overview/00_overview\n",
    "      sections:\n",
    "      - title: Definitions\n",
    "        file: content/01_reproducible-research/01_overview/01_overview-definitions\n",
    "      - title: Added advantages\n",
    "        file: content/01_reproducible-research/01_overview/02_overview-benefit\n",
    "      - title: Resources\n",
    "        file: content/01_reproducible-research/01_overview/03_overview-resources\n",
    "    - title: Open Research\n",
    "      file: content/01_reproducible-research/02_open/00_open\n",
    "      sections:\n",
    "      - title: Open Data\n",
    "        file: content/01_reproducible-research/02_open/01_open-data\n",
    "      - title: Open Source\n",
    "        file: content/01_reproducible-research/02_open/02_open-source\n",
    "      - title: Open Hardware\n",
    "        file: content/01_reproducible-research/02_open/03_open-hardware\n",
    "      - title: Open Access\n",
    "        file: content/01_reproducible-research/02_open/04_open-access\n",
    "      - title: Open Notebooks\n",
    "        file: content/01_reproducible-research/02_open/05_open-notebooks\n",
    "      - title: Open Scholarship\n",
    "        file: content/01_reproducible-research/02_open/06_open-scholarship\n",
    "- title: Reproducible notebooks\n",
    "  file: content/demo\n",
    "\"\"\"\n",
    "\n",
    "toc_file = open('../book/_toc.yml', 'w')\n",
    "yaml.dump(yaml.load(toc_document), toc_file)"
   ]
  },
  {
   "cell_type": "markdown",
   "metadata": {},
   "source": [
    "Let's re-build our Jupyter Book:"
   ]
  },
  {
   "cell_type": "code",
   "execution_count": 69,
   "metadata": {},
   "outputs": [
    {
     "name": "stdout",
     "output_type": "stream",
     "text": [
      "\u001b[32m\u001b[1mRunning Jupyter-Book v0.8.0\u001b[0m\n",
      "\u001b[34m\u001b[1mSource Folder: \u001b[0m/Users/martina.gonzales/Projects/talks/jupytercon_tutorial/notebooks/../book\n",
      "\u001b[34m\u001b[1mConfig Path: \u001b[0m/Users/martina.gonzales/Projects/talks/jupytercon_tutorial/notebooks/../book/_config.yml\n",
      "\u001b[34m\u001b[1mOutput Path: \u001b[0m/Users/martina.gonzales/Projects/talks/jupytercon_tutorial/notebooks/../book/_build/html\n",
      "\u001b[01mRunning Sphinx v3.2.1\u001b[39;49;00m\n",
      "\u001b[01mmyst v0.12.9:\u001b[39;49;00m MdParserConfig(renderer='sphinx', commonmark_only=False, dmath_enable=True, dmath_allow_labels=True, dmath_allow_space=True, dmath_allow_digits=True, amsmath_enable=False, deflist_enable=False, update_mathjax=True, admonition_enable=False, figure_enable=False, disable_syntax=[], html_img_enable=False, url_schemes=['mailto', 'http', 'https'], heading_anchors=None)\n",
      "\u001b[01mbuilding [mo]: \u001b[39;49;00mtargets for 0 po files that are out of date\n",
      "\u001b[01mbuilding [html]: \u001b[39;49;00mtargets for 14 source files that are out of date\n",
      "\u001b[01mupdating environment: \u001b[39;49;00m[new config] 14 added, 0 changed, 0 removed\n",
      "\u001b[01mchecking for /Users/martina.gonzales/Projects/talks/jupytercon_tutorial/book/content/references.bib in bibtex cache... \u001b[39;49;00mnot found\n",
      "\u001b[01mparsing bibtex file /Users/martina.gonzales/Projects/talks/jupytercon_tutorial/book/content/references.bib... \u001b[39;49;00mparsed 33 entries\n",
      "\u001b[01mchecking for /Users/martina.gonzales/Projects/talks/jupytercon_tutorial/book/content/references.bib in bibtex cache... \u001b[39;49;00mup to date\n",
      "\u001b[01mchecking for /Users/martina.gonzales/Projects/talks/jupytercon_tutorial/book/content/references.bib in bibtex cache... \u001b[39;49;00mup to date\n",
      "Did not execute content/demo. Set jupyter_execute_notebooks to `force` to execute                               49;00m49;00m\n",
      "\u001b[01mreading sources... \u001b[39;49;00m[100%] \u001b[35mcontent/welcome\u001b[39;49;00m                                       \n",
      "\u001b[01mlooking for now-outdated files... \u001b[39;49;00mnone found\n",
      "\u001b[01mpickling environment... \u001b[39;49;00mdone\n",
      "\u001b[01mchecking consistency... \u001b[39;49;00mdone\n",
      "\u001b[01mpreparing documents... \u001b[39;49;00mdone\n",
      "\u001b[01mwriting output... \u001b[39;49;00m[100%] \u001b[32mcontent/welcome\u001b[39;49;00m                                        9;00m49;00m0m\n",
      "\u001b[01mgenerating indices... \u001b[39;49;00m genindexdone\n",
      "\u001b[01mwriting additional pages... \u001b[39;49;00m searchdone\n",
      "\u001b[01mcopying images... \u001b[39;49;00m[100%] \u001b[33mcontent/./figures/welcome.jpg\u001b[39;49;00m                          9;49;00m39;49;00m[39;49;00m;00m\n",
      "\u001b[01mcopying static files... ... \u001b[39;49;00mdone\n",
      "\u001b[01mcopying extra files... \u001b[39;49;00mdone\n",
      "\u001b[01mdumping search index in English (code: en)... \u001b[39;49;00mdone\n",
      "\u001b[01mdumping object inventory... \u001b[39;49;00mdone\n",
      "\u001b[01mbuild succeeded.\u001b[39;49;00m\n",
      "\n",
      "The HTML pages are in ../book/_build/html.\n",
      "\n",
      "\u001b[92m===============================================================================\u001b[0m\n",
      "\n",
      "Finished generating HTML for book.\n",
      "Your book's HTML pages are here:\n",
      "    ../book/_build/html/\n",
      "You can look at your book by opening this file in a browser:\n",
      "    ../book/_build/html/index.html\n",
      "Or paste this line directly into your browser bar:\n",
      "    file:///Users/martina.gonzales/Projects/talks/jupytercon_tutorial/book/_build/html/index.html            \n",
      "\n",
      "\u001b[92m===============================================================================\u001b[0m\n",
      "\n"
     ]
    }
   ],
   "source": [
    "!jupyter-book build ../book/"
   ]
  },
  {
   "cell_type": "markdown",
   "metadata": {},
   "source": [
    "Our Jupyter Book now has a new chapter consisting of our Jupyter Notebook!"
   ]
  },
  {
   "cell_type": "markdown",
   "metadata": {},
   "source": [
    "#### EXERCISES (TO-DO)\n",
    "\n",
    "- Add launch buttons to `_config` and a requirements file to be able to launch our notebook in binder\n"
   ]
  },
  {
   "cell_type": "markdown",
   "metadata": {},
   "source": [
    "## Common problems and trouble-shooting"
   ]
  },
  {
   "cell_type": "markdown",
   "metadata": {},
   "source": [
    "To-DO: common warnings  --> exclude patterns \n",
    "\n",
    "add the following to the config:\n",
    "<!-- exclude_patterns            : [\"LICENSE.md\"]  # Patterns to skip when building the book. Can be glob-style (e.g. \"*skip.ipynb\") -->\n"
   ]
  }
 ],
 "metadata": {
  "kernelspec": {
   "display_name": "Python 3",
   "language": "python",
   "name": "python3"
  },
  "language_info": {
   "codemirror_mode": {
    "name": "ipython",
    "version": 3
   },
   "file_extension": ".py",
   "mimetype": "text/x-python",
   "name": "python",
   "nbconvert_exporter": "python",
   "pygments_lexer": "ipython3",
   "version": "3.8.5"
  }
 },
 "nbformat": 4,
 "nbformat_minor": 4
}
