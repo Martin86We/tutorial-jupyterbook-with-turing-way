{
 "cells": [
  {
   "cell_type": "markdown",
   "metadata": {},
   "source": [
    "*Creating a Jupyter Book with The Turing Way*\n",
    "\n",
    "# Module 5:  Creating executable files in a Jupyter Book\n",
    "\n",
    "**Learning Objective:** \n",
    "  - Show how we can add Jupyter Notebooks to our Jupyter Book\n",
    "  - Explain and demonstrate how to make our Jupyter Notebooks executable using Binder\n",
    "  - Introduce the use of Jupyter Book supported special flavor of markdown called MyST markdown\n",
    "\n",
    "    \n",
    "📹 [VIDEO](TBA)\n",
    "---"
   ]
  },
  {
   "cell_type": "markdown",
   "metadata": {},
   "source": [
    "## IMPORTANT!\n",
    "\n",
    "Execute the cells below if you are re-running this notebook:"
   ]
  },
  {
   "cell_type": "code",
   "execution_count": null,
   "metadata": {},
   "outputs": [],
   "source": [
    "!pip uninstall statsmodels -y"
   ]
  },
  {
   "cell_type": "code",
   "execution_count": null,
   "metadata": {},
   "outputs": [],
   "source": [
    "!cp ../content/demo.ipynb ../book_module5/demo.ipynb"
   ]
  },
  {
   "cell_type": "code",
   "execution_count": null,
   "metadata": {},
   "outputs": [],
   "source": [
    "!rm -R ../book_module5/_build/ ../book_module5/myst_demo.md"
   ]
  },
  {
   "cell_type": "markdown",
   "metadata": {},
   "source": [
    "## Adding Jupyter Notebooks to your Jupyter Book"
   ]
  },
  {
   "cell_type": "markdown",
   "metadata": {},
   "source": [
    "So far we have created a Jupyter Book based on markdown files only. But we can also add Jupyter Notebooks to our book! We will show you how to do so next."
   ]
  },
  {
   "cell_type": "markdown",
   "metadata": {},
   "source": [
    "We have already created a `book_module5` that besides all the necessary content for building a Jupyter Book, it also contains a demo Jupyter Notebook:"
   ]
  },
  {
   "cell_type": "code",
   "execution_count": null,
   "metadata": {},
   "outputs": [],
   "source": [
    "!ls ../book_module5/"
   ]
  },
  {
   "cell_type": "markdown",
   "metadata": {},
   "source": [
    "But is the book included in our existing `_toc.yml` file? Let's print its contents:"
   ]
  },
  {
   "cell_type": "code",
   "execution_count": null,
   "metadata": {},
   "outputs": [],
   "source": [
    "!cat ../book_module5/_toc.yml"
   ]
  },
  {
   "cell_type": "markdown",
   "metadata": {},
   "source": [
    "It is not! Let's add it: "
   ]
  },
  {
   "cell_type": "code",
   "execution_count": null,
   "metadata": {},
   "outputs": [],
   "source": [
    "from ruamel.yaml import YAML\n",
    "\n",
    "toc_document = \"\"\"\n",
    "- file: welcome\n",
    "- file: reproducible-research\n",
    "  title: Reproducibility Guide\n",
    "  chapters:\n",
    "    - file: overview/overview\n",
    "      title: Overview\n",
    "      sections:\n",
    "      - file: overview/overview-definitions\n",
    "        title: Definitions\n",
    "      - file: overview/overview-benefit\n",
    "        title: Benefits\n",
    "      - file: overview/overview-resources\n",
    "        title: Resources\n",
    "    - file: open/open\n",
    "      title: Open Research\n",
    "      sections:\n",
    "      - file: open/open-data\n",
    "        title: Open Data\n",
    "      - file: open/open-source\n",
    "        title: Open Source\n",
    "      - file: open/open-hardware\n",
    "        title: Open Hardware\n",
    "      - file: open/open-access\n",
    "        title: Open Access\n",
    "      - file: open/open-notebooks\n",
    "        title: Open Notebooks\n",
    "      - file: open/open-scholarship\n",
    "        title: Open Scholarship\n",
    "- file: demo \n",
    "  title: Reproducible notebooks\n",
    "  \n",
    "\"\"\"\n",
    "\n",
    "yaml = YAML()\n",
    "toc_file = open('../book_module5/_toc.yml', 'w')\n",
    "yaml.dump(yaml.load(toc_document), toc_file)"
   ]
  },
  {
   "cell_type": "markdown",
   "metadata": {},
   "source": [
    "As shown in our `_toc.yml`, we don't need to specify the extension of our files for Jupyter Book to build its content properly. "
   ]
  },
  {
   "cell_type": "markdown",
   "metadata": {},
   "source": [
    "Let's now build our Jupyter Book with the added Jupyter Notebook:"
   ]
  },
  {
   "cell_type": "code",
   "execution_count": null,
   "metadata": {},
   "outputs": [],
   "source": [
    "!jupyter-book build ../book_module5/"
   ]
  },
  {
   "cell_type": "markdown",
   "metadata": {},
   "source": [
    "Our Jupyter Book now has a new section consisting of our Jupyter Notebook! Inspect it to see how Jupyter Book executes and nicely renders the output of Python cells. "
   ]
  },
  {
   "cell_type": "markdown",
   "metadata": {},
   "source": [
    "Suppose we now wanted to add another computation to our Jupyter Notebook: We want to statistically compare how the conditions differ. For this we will use the package [statsmodels](https://www.statsmodels.org/stable/index.html). We have provided the Jupyter Notebook (named `demo_2.ipynb`) with this addition in the `contents` folder. Let's copy it over to `book_module5` and rename it to `demo.ipynb`:"
   ]
  },
  {
   "cell_type": "code",
   "execution_count": null,
   "metadata": {},
   "outputs": [],
   "source": [
    "!cp ../content/demo_2.ipynb ../book_module5/demo.ipynb"
   ]
  },
  {
   "cell_type": "markdown",
   "metadata": {},
   "source": [
    "And let's rebuild our book:"
   ]
  },
  {
   "cell_type": "code",
   "execution_count": null,
   "metadata": {},
   "outputs": [],
   "source": [
    "!jupyter-book build ../book_module5/"
   ]
  },
  {
   "cell_type": "markdown",
   "metadata": {},
   "source": [
    "We got a warning! The execution of our notebook seems to have failed. Why?"
   ]
  },
  {
   "cell_type": "markdown",
   "metadata": {},
   "source": [
    "#### EXERCISE\n",
    "\n",
    "- Open the path to the log indicated by the warning to determine what was the issue with the execution of our Jupyter Notebook."
   ]
  },
  {
   "cell_type": "markdown",
   "metadata": {},
   "source": [
    "Have you read the log? It seems the package `statsmodels` could not be imported. It makes sense! Its installation is not specified in our `requirements.txt` and thus Jupyter Book cannot execute the notebook properly. Let's install `statsmodels` and re-build our book:"
   ]
  },
  {
   "cell_type": "code",
   "execution_count": null,
   "metadata": {},
   "outputs": [],
   "source": [
    "!pip install statsmodels"
   ]
  },
  {
   "cell_type": "code",
   "execution_count": null,
   "metadata": {},
   "outputs": [],
   "source": [
    "!jupyter-book build ../book_module5/"
   ]
  },
  {
   "cell_type": "markdown",
   "metadata": {},
   "source": [
    "No warnings! But did it work? Head over to our Jupyter Book and make sure the output is correct. \n",
    "\n",
    "... It is not! We still have the warning that `statsmodels` could not be found. What happened? Jupyter Book does not re-execute the Jupyter Notebooks if their content has not been changed. Read more about this in the [official documentation](https://jupyterbook.org/content/execute.html). As stated there, we can force re-execution of all Jupyter Notebooks by specifying this in the `_config.yml`. \n",
    "\n",
    "But for this example we just want to force re-execution for this instance only. We can do so by using the [clean command](https://jupyterbook.org/reference/cli.html#jupyter-book-clean) which empties our `_build` directory:"
   ]
  },
  {
   "cell_type": "code",
   "execution_count": null,
   "metadata": {},
   "outputs": [],
   "source": [
    "!jupyter-book clean ../book_module5/"
   ]
  },
  {
   "cell_type": "markdown",
   "metadata": {},
   "source": [
    "Let's rebuild our book and see if it works:"
   ]
  },
  {
   "cell_type": "code",
   "execution_count": null,
   "metadata": {},
   "outputs": [],
   "source": [
    "!jupyter-book build ../book_module5/"
   ]
  },
  {
   "cell_type": "markdown",
   "metadata": {},
   "source": [
    "Awesome! We have our `t-values` and `p-values` now. "
   ]
  },
  {
   "cell_type": "markdown",
   "metadata": {},
   "source": [
    "#### EXERCISE\n",
    "\n",
    "Explore how Jupyter Book displays different outputs. Add to `demo.ipynb` new code cells and check out how Jupyter Book renders them.\n",
    "\n",
    "Some inspiration for things you could try:\n",
    "- You can try to display images or videos in your Jupyter Notebook (for example using [iPython display module](https://ipython.org/ipython-doc/dev/api/generated/IPython.display.html).\n",
    "- You can add interactive plots as described in the [official documentation](https://jupyterbook.org/interactive/interactive.html)."
   ]
  },
  {
   "cell_type": "markdown",
   "metadata": {},
   "source": [
    "## Making your Jupyter Notebooks executable using Binder"
   ]
  },
  {
   "cell_type": "markdown",
   "metadata": {},
   "source": [
    "Another awesome feature of Jupyter Book is that readers can execute online the Jupyter Notebooks contained in our book, for example by using [Binder](https://mybinder.org/). This feature is turned on by default in our `_config.yml`.\n",
    "\n",
    "Head over to the demo notebook section in our Jupyter Book and try to launch binder. Does it work? It won't, because we need to have this Jupyter Notebook hosted in our GitHub repository as well. You will learn more about how to integrate a Github repository with your Jupyter Book in [module 6](./6-ci-jupyterbook.ipynb). For now, you can head over to the [official documentation](https://jupyterbook.org/interactive/launchbuttons.html) to read more about interactive buttons and the different options you have. \n"
   ]
  },
  {
   "cell_type": "markdown",
   "metadata": {},
   "source": [
    "#### EXERCISE\n",
    "\n",
    "By default, you can also launch your Jupyter Notebook using [Google Colab](https://colab.research.google.com/notebooks/basic_features_overview.ipynb). Change the `_config.yml` to disable this button."
   ]
  },
  {
   "cell_type": "markdown",
   "metadata": {},
   "source": [
    "## MyST\n",
    "\n",
    "[CommonMark markdown](https://commonmark.org/) files and Jupyter Notebooks are not the only type of files Jupyter Book can handle! One of the most powerful features of the new Jupyter Book is its support for a special flavor of markdown called [MyST markdown](https://jupyterbook.org/content/myst.html). MyST extends the CommonMark syntax to allow more advanced and powerful features that are similar to those of [RST](https://en.wikipedia.org/wiki/ReStructuredText) files and can be used with [Sphinx](https://www.sphinx-doc.org/en/master/) to create the html files necessary to host our book online. Read all about MyST [here](https://myst-parser.readthedocs.io/en/latest/index.html).\n",
    "\n",
    "Two of these powerful syntax features are __roles__ and __directives__, explained [here](https://myst-parser.readthedocs.io/en/latest/using/syntax.html#extended-span-tokens). In a nutshell, they are functions that alter their input text in some pre-specified way, modifying its rendering in the html file.\n"
   ]
  },
  {
   "cell_type": "markdown",
   "metadata": {},
   "source": [
    "#### EXERCISE\n",
    "\n",
    "In our example, we are already using roles when citing our content. Head to our file [Definitions](../book_module5/overview/overview-definitions.md). Can you find the MyST role that generates citations?"
   ]
  },
  {
   "cell_type": "markdown",
   "metadata": {},
   "source": [
    "Let's now try adding a MyST directive to our Jupyter Book. There is a nice section in Jupyter Book's documentation explaining how to create special blocks of content [here](https://jupyterbook.org/content/content-blocks.html). Let's create a new `.md` file that contains a note directive:"
   ]
  },
  {
   "cell_type": "code",
   "execution_count": null,
   "metadata": {},
   "outputs": [],
   "source": [
    "mkd_file = \"\"\"\n",
    "# Demo of MyST\n",
    "\n",
    "```{note}\n",
    "Here is a note!\n",
    "```\n",
    "\n",
    "\"\"\"\n",
    "\n",
    "mkd_filename = '../book_module5/myst_demo.md'\n",
    "with open(mkd_filename, 'w') as f:\n",
    "    f.write(mkd_file)"
   ]
  },
  {
   "cell_type": "markdown",
   "metadata": {},
   "source": [
    "Let's add this MyST demo to our `_toc.yml` and re-build our Jupyter Book:"
   ]
  },
  {
   "cell_type": "code",
   "execution_count": null,
   "metadata": {},
   "outputs": [],
   "source": [
    "toc_document = \"\"\"\n",
    "- file: welcome\n",
    "- file: reproducible-research\n",
    "  title: Reproducibility Guide\n",
    "  chapters:\n",
    "    - file: overview/overview\n",
    "      title: Overview\n",
    "      sections:\n",
    "      - file: overview/overview-definitions\n",
    "        title: Definitions\n",
    "      - file: overview/overview-benefit\n",
    "        title: Benefits\n",
    "      - file: overview/overview-resources\n",
    "        title: Resources\n",
    "    - file: open/open\n",
    "      title: Open Research\n",
    "      sections:\n",
    "      - file: open/open-data\n",
    "        title: Open Data\n",
    "      - file: open/open-source\n",
    "        title: Open Source\n",
    "      - file: open/open-hardware\n",
    "        title: Open Hardware\n",
    "      - file: open/open-access\n",
    "        title: Open Access\n",
    "      - file: open/open-notebooks\n",
    "        title: Open Notebooks\n",
    "      - file: open/open-scholarship\n",
    "        title: Open Scholarship\n",
    "- file: demo \n",
    "  title: Reproducible notebooks\n",
    "- file: myst_demo\n",
    "  title: MyST example\n",
    "  \n",
    "\"\"\"\n",
    "\n",
    "yaml = YAML()\n",
    "toc_file = open('../book_module5/_toc.yml', 'w')\n",
    "yaml.dump(yaml.load(toc_document), toc_file)"
   ]
  },
  {
   "cell_type": "code",
   "execution_count": null,
   "metadata": {},
   "outputs": [],
   "source": [
    "!jupyter-book build ../book_module5/"
   ]
  },
  {
   "cell_type": "markdown",
   "metadata": {},
   "source": [
    "#### EXERCISE\n",
    "\n",
    "There are many other elements in the MyST Syntax that can be used in your Jupyter Book. Read a full description of them [here](https://myst-parser.readthedocs.io/en/latest/using/syntax.html#extended-span-tokens). Choose a couple, and modify `myst_demo.md` to add them."
   ]
  },
  {
   "cell_type": "markdown",
   "metadata": {},
   "source": [
    "🗝 Takeaway\n",
    "---\n",
    "- We can create content with Jupyter Notebooks in Jupyter Book that supports all markdown content that is supported by Jupyter Notebooks\n",
    "- Readers of Jupyter Book can execute Jupyter Notebooks using Binder, allowing them to execute the Notebook cell interactively in the book.\n",
    "- Jupyter Book supports a special flavor of markdown called MyST markdown, which allows more advanced and powerful features similar to those of RST files and can be used with Sphinx to create the html files necessary to host our book online. \n",
    "\n",
    "#### Other awesome features of Jupyter Book\n",
    "\n",
    "We hope to have covered the basics, but there is so many other things you can do with Jupyter Book! Don't forget to read their [official documentation](https://jupyterbook.org/content/content-blocks.html). You can now even vote for features that you would want to add to this already amazing tool [here](https://executablebooks.org/en/latest/feature-vote.html#feature-note)."
   ]
  },
  {
   "cell_type": "markdown",
   "metadata": {},
   "source": [
    "  👉 [Next Module](./6-ci-jupyterbook.ipynb)\n",
    "---"
   ]
  }
 ],
 "metadata": {
  "kernelspec": {
   "display_name": "Python 3",
   "language": "python",
   "name": "python3"
  },
  "language_info": {
   "codemirror_mode": {
    "name": "ipython",
    "version": 3
   },
   "file_extension": ".py",
   "mimetype": "text/x-python",
   "name": "python",
   "nbconvert_exporter": "python",
   "pygments_lexer": "ipython3",
   "version": "3.7.7"
  }
 },
 "nbformat": 4,
 "nbformat_minor": 2
}
