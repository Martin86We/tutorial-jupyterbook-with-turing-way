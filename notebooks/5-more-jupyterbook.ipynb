{
 "cells": [
  {
   "cell_type": "markdown",
   "metadata": {},
   "source": [
    "# Creating a Jupyter Book with The Turing Way\n",
    "\n",
    "**Module 5: Learning Objective:** \n",
    "  - Creating executable files inside the JupyterBook using notebooks\n",
    "   <!---Create a new JupyterNotebook from scratch--->  \n",
    "    \n",
    "📹 [VIDEO](TBA)\n",
    "---"
   ]
  },
  {
   "cell_type": "markdown",
   "metadata": {},
   "source": [
    "## Adding Jupyter Notebooks to your Jupyter Book"
   ]
  },
  {
   "cell_type": "markdown",
   "metadata": {},
   "source": [
    "So far we have created a book based on markdown files only. But we can also add Jupyter Notebooks to our book! We will show you how to do so in this tutorial."
   ]
  },
  {
   "cell_type": "markdown",
   "metadata": {},
   "source": [
    "We have already created a `book_module5` that besides all the necessary content for building a Jupyter Book, it also contains a demo Jupyter Notebook:"
   ]
  },
  {
   "cell_type": "code",
   "execution_count": null,
   "metadata": {},
   "outputs": [],
   "source": [
    "! ls ../book_module5/"
   ]
  },
  {
   "cell_type": "markdown",
   "metadata": {},
   "source": [
    "But is the book included in our existing `_toc.yml` file?"
   ]
  },
  {
   "cell_type": "code",
   "execution_count": null,
   "metadata": {},
   "outputs": [],
   "source": [
    "!cat ../book_module5/_toc.yml"
   ]
  },
  {
   "cell_type": "markdown",
   "metadata": {},
   "source": [
    "It is not! Let's add it: "
   ]
  },
  {
   "cell_type": "code",
   "execution_count": null,
   "metadata": {},
   "outputs": [],
   "source": [
    "from ruamel.yaml import YAML\n",
    "\n",
    "toc_document = \"\"\"\n",
    "- file: welcome\n",
    "- file: reproducible-research\n",
    "  title: Reproducibility Guide\n",
    "  chapters:\n",
    "    - file: overview/overview\n",
    "      title: Overview\n",
    "      sections:\n",
    "      - file: overview/overview-definitions\n",
    "        title: Definitions\n",
    "      - file: overview/overview-benefit\n",
    "        title: Benefits\n",
    "      - file: overview/overview-resources\n",
    "        title: Resources\n",
    "    - file: open/open\n",
    "      title: Open Research\n",
    "      sections:\n",
    "      - file: open/open-data\n",
    "        title: Open Data\n",
    "      - file: open/open-source\n",
    "        title: Open Source\n",
    "      - file: open/open-hardware\n",
    "        title: Open Hardware\n",
    "      - file: open/open-access\n",
    "        title: Open Access\n",
    "      - file: open/open-notebooks\n",
    "        title: Open Notebooks\n",
    "      - file: open/open-scholarship\n",
    "        title: Open Scholarship\n",
    "- file: demo \n",
    "  title: Reproducible notebooks\n",
    "  \n",
    "\"\"\"\n",
    "\n",
    "yaml = YAML()\n",
    "toc_file = open('../book_module5/_toc.yml', 'w')\n",
    "yaml.dump(yaml.load(toc_document), toc_file)"
   ]
  },
  {
   "cell_type": "markdown",
   "metadata": {},
   "source": [
    "As shown in our `_toc.yml`, we don't need to specify the extension of our files for Jupyter Book to build it properly. "
   ]
  },
  {
   "cell_type": "markdown",
   "metadata": {},
   "source": [
    "One more step is needed to make sure our Jupyter Notebook is correctly executed when building our Jupyter Book: All the software packages used in\n",
    "\n",
    "(TO_DO)"
   ]
  },
  {
   "cell_type": "markdown",
   "metadata": {},
   "source": [
    "Let's now build our Jupyter Book with the added notebook:"
   ]
  },
  {
   "cell_type": "code",
   "execution_count": null,
   "metadata": {},
   "outputs": [],
   "source": [
    "!jupyter-book build ../book_module5/"
   ]
  },
  {
   "cell_type": "markdown",
   "metadata": {},
   "source": [
    "Our Jupyter Book now has a new chapter consisting of our Jupyter Notebook! Inspect it to see how Jupyter Book executes and nicely renders the output of Python cells. "
   ]
  },
  {
   "cell_type": "markdown",
   "metadata": {},
   "source": [
    "#### EXERCISE\n",
    "\n",
    "Add to `demo.ipynb` new code cells with different types of outputs. Check how Jupyter Book renders them.\n",
    "\n",
    "Some inspiration for things you could try:\n",
    "- You can try to render images or videos in your Jupyter Notebook (for example using iPython display).\n",
    "- You can add interactive plots as described in the [official documentation](https://jupyterbook.org/interactive/interactive.html)."
   ]
  },
  {
   "cell_type": "markdown",
   "metadata": {},
   "source": [
    "## Making your Jupyter Notebooks executable using Binder"
   ]
  },
  {
   "cell_type": "markdown",
   "metadata": {},
   "source": [
    "Another awesome feature of Jupyter Book is that our readers can try out and execute online the Jupyter Notebooks contained in our book, for example by using [Binder](https://mybinder.org/). But for doing so, we need to specify this in our `_config.yml`. \n",
    "\n",
    "TODO: by default google colab and binder are on. Check it. Exercise: remove google colab."
   ]
  },
  {
   "cell_type": "markdown",
   "metadata": {},
   "source": [
    "(mention the other options for launching)"
   ]
  },
  {
   "cell_type": "markdown",
   "metadata": {},
   "source": [
    "#### EXERCISES (TO-DO)\n",
    "\n",
    "- Add launch buttons to `_config` and a requirements file to be able to launch our notebook in binder\n"
   ]
  },
  {
   "cell_type": "markdown",
   "metadata": {},
   "source": [
    "## MyST\n",
    "\n",
    "(to-do)"
   ]
  },
  {
   "cell_type": "markdown",
   "metadata": {},
   "source": [
    "# Other awesome features of Jupyter Book\n",
    "(to-do)"
   ]
  },
  {
   "cell_type": "markdown",
   "metadata": {},
   "source": [
    "  👉 [Next Module](./6-binder-jupyterbook.ipynb)\n",
    "---"
   ]
  }
 ],
 "metadata": {
  "kernelspec": {
   "display_name": "Python 3",
   "language": "python",
   "name": "python3"
  },
  "language_info": {
   "codemirror_mode": {
    "name": "ipython",
    "version": 3
   },
   "file_extension": ".py",
   "mimetype": "text/x-python",
   "name": "python",
   "nbconvert_exporter": "python",
   "pygments_lexer": "ipython3",
   "version": "3.8.5"
  }
 },
 "nbformat": 4,
 "nbformat_minor": 2
}
